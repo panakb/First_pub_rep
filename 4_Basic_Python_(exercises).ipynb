{
  "cells": [
    {
      "cell_type": "markdown",
      "metadata": {
        "id": "view-in-github",
        "colab_type": "text"
      },
      "source": [
        "<a href=\"https://colab.research.google.com/github/panakb/First_pub_rep/blob/master/4_Basic_Python_(exercises).ipynb\" target=\"_parent\"><img src=\"https://colab.research.google.com/assets/colab-badge.svg\" alt=\"Open In Colab\"/></a>"
      ]
    },
    {
      "cell_type": "markdown",
      "id": "xATcgBbdPcxG",
      "metadata": {
        "id": "xATcgBbdPcxG"
      },
      "source": [
        "<img height=\"180px\" src=\"https://drive.google.com/uc?export=view&id=141XOz6N4nk8Ru1sAl7vOsAToCLrSFCAX\" alt=\"SDA logo\" align=\"left\" hspace=\"30px\" vspace=\"50px\"/>\n",
        "\n",
        "# Welcome to the exercises with SDA!\n",
        "\n",
        "There are a few straightforward tasks in front of you to consolidate the knowledge gained in class. Note, that some of those call for careful consideration, always think of various approaches to the problem and try to establish the best one.\n",
        "\n",
        "The level of difficulty is comparable to that of the in-class activities. They do, however, whenever possible contain tests, to make sure your answers are accurate. If the names are specified in a task description, please stick to them and to not change since it is necessary for the tests to pass."
      ]
    },
    {
      "cell_type": "markdown",
      "id": "bXhUxz473XO6",
      "metadata": {
        "id": "bXhUxz473XO6"
      },
      "source": [
        "<img src=\"https://drive.google.com/uc?export=view&id=13lIQ4kT5FBinVdulX23JP7Fe-RyFldSN\" alt=\"Where are we?\" align=\"left\" width=\"1000px\" hspace=\"10px\" vspace=\"10px\"/>"
      ]
    },
    {
      "cell_type": "markdown",
      "id": "r-8j5eCRdPjP",
      "metadata": {
        "id": "r-8j5eCRdPjP"
      },
      "source": [
        "<img src=\"https://drive.google.com/uc?export=view&id=1UO2urRciECzoKE_vHy4RMGfFbkOWOGlW\" alt=\"SDA logo\" align=\"left\" width=\"100px\" hspace=\"10px\" vspace=\"10px\"/>\n",
        "\n",
        "# Introduction to Python\n",
        "Start by reading through the presentation slides\n",
        "\n",
        "<br><br>\n",
        "<img src=\"https://drive.google.com/uc?export=view&id=1qna4WPAVKVNyb78btneTwqlJ9pbi615c\" title=\"Presentation slides\" width=\"600\" align=\"left\" hspace=\"20px\" vspace=\"20px\"/>"
      ]
    },
    {
      "cell_type": "markdown",
      "id": "rw46ohCzYBM0",
      "metadata": {
        "id": "rw46ohCzYBM0"
      },
      "source": [
        "### **<font color='#306998'>TASK </font><font color='#ffd33b'>1</font>**\n",
        "Write a program that asks the user for any natural number greater than 0 (N) and prints out all numbers from 1 to N squared (hint: use a for loop).\n"
      ]
    },
    {
      "cell_type": "code",
      "execution_count": null,
      "id": "S94xAEF0UXm2",
      "metadata": {
        "id": "S94xAEF0UXm2",
        "colab": {
          "base_uri": "https://localhost:8080/"
        },
        "outputId": "8b20dca2-4d9d-4cce-b34c-4cdc7eb6ae23"
      },
      "outputs": [
        {
          "output_type": "stream",
          "name": "stdout",
          "text": [
            "Input natural number greater than 0:5\n",
            "1\n",
            "4\n",
            "9\n",
            "16\n",
            "25\n"
          ]
        }
      ],
      "source": [
        "number = int(input(\"Input natural number greater than 0:\"))\n",
        "for i in range(number):\n",
        "  print((i+1)**2)"
      ]
    },
    {
      "cell_type": "code",
      "source": [],
      "metadata": {
        "id": "HO_Rij91GRmQ"
      },
      "id": "HO_Rij91GRmQ",
      "execution_count": null,
      "outputs": []
    },
    {
      "cell_type": "markdown",
      "id": "PBEnS3_PUVcc",
      "metadata": {
        "id": "PBEnS3_PUVcc"
      },
      "source": [
        "### **<font color='#306998'>TASK </font><font color='#ffd33b'>2</font>**\n",
        "Write a program that takes a word from the user as input and then displays every second character of the text given. Next, the program should display another text message from the remaining letters.\n"
      ]
    },
    {
      "cell_type": "code",
      "execution_count": null,
      "id": "mE9nc2TRUYJ-",
      "metadata": {
        "id": "mE9nc2TRUYJ-",
        "colab": {
          "base_uri": "https://localhost:8080/"
        },
        "outputId": "37781a22-d600-4bf2-8344-35daf20d2d17"
      },
      "outputs": [
        {
          "output_type": "stream",
          "name": "stdout",
          "text": [
            "Write word: ahoj\n",
            "Every second character: hj\n",
            "Remaining letters: ao\n"
          ]
        }
      ],
      "source": [
        "word=input(\"Write word: \")\n",
        "string_second=''\n",
        "string_rest=''\n",
        "for i in range(len(word)):\n",
        "  if (i+1)%2 == 0:\n",
        "    string_second += word[i]\n",
        "  else:\n",
        "    string_rest += word[i]\n",
        "\n",
        "print(f\"Every second character: {string_second}\")\n",
        "print(f\"Remaining letters: {string_rest}\")\n"
      ]
    },
    {
      "cell_type": "markdown",
      "id": "d7S1jEfLUWrr",
      "metadata": {
        "id": "d7S1jEfLUWrr"
      },
      "source": [
        "### **<font color='#306998'>TASK </font><font color='#ffd33b'>3</font>**\n",
        "1. First, ask a user to fill in items that will be added to two lists. Write a program that enables it.\n",
        "    * The users should be able to add any number of items to the first list until they enter a zero.\n",
        "    * Then, they add items to the second list until zero is typed in again.\n",
        "1. Next, from each list extract unique values (e.g. by using the set() function).\n",
        "1. In the end, the program should display the sorted symmetric difference of the sets created in the previous step.\n"
      ]
    },
    {
      "cell_type": "code",
      "execution_count": null,
      "id": "Phef2uG6Xtly",
      "metadata": {
        "id": "Phef2uG6Xtly",
        "colab": {
          "base_uri": "https://localhost:8080/"
        },
        "outputId": "2a047bd9-8c81-4fdf-e76b-f870deca8733"
      },
      "outputs": [
        {
          "output_type": "stream",
          "name": "stdout",
          "text": [
            "Insert item to the List 1:asd\n",
            "asd\n",
            "Insert item to the List 1:df\n",
            "df\n",
            "Insert item to the List 1:asds\n",
            "asds\n",
            "Insert item to the List 1:asd\n",
            "asd\n",
            "Insert item to the List 1:0\n",
            "0\n",
            "Insert item to the List 2:asd\n",
            "asd\n",
            "Insert item to the List 2:q\n",
            "q\n",
            "Insert item to the List 2:gh\n",
            "gh\n",
            "Insert item to the List 2:0\n",
            "0\n",
            "List_1: ['asd', 'df', 'asds', 'asd', '0']\n",
            "List_2: ['asd', 'q', 'gh', '0']\n",
            "Set 1: {'df', '0', 'asd', 'asds'}\n",
            "Set 2: {'gh', '0', 'asd', 'q'}\n",
            "Symmetric difference: {'gh', 'df', 'asds', 'q'}\n"
          ]
        }
      ],
      "source": [
        "def fill_list(number):\n",
        "  index_list=0\n",
        "  value = 1\n",
        "  list=[]\n",
        "\n",
        "  while value != '0':\n",
        "    value = input(f\"Insert item to the List {number}:\")\n",
        "    list.append(value)\n",
        "    print(list[index_list])\n",
        "    index_list += 1\n",
        "\n",
        "  return list\n",
        "\n",
        "\n",
        "list_1 = fill_list(1)\n",
        "list_2 = fill_list(2)\n",
        "\n",
        "print(f\"List_1: {list_1}\")\n",
        "print(f\"List_2: {list_2}\")\n",
        "\n",
        "set_1 = set(list_1)\n",
        "set_2 = set(list_2)\n",
        "\n",
        "print(f\"Set 1: {set_1}\")\n",
        "print(f\"Set 2: {set_2}\")\n",
        "\n",
        "print(f\"Symmetric difference: {set_1.symmetric_difference(set_2)}\")"
      ]
    },
    {
      "cell_type": "markdown",
      "id": "5SUUyvXVE0Pd",
      "metadata": {
        "id": "5SUUyvXVE0Pd"
      },
      "source": [
        "### **<font color='#306998'>TASK </font><font color='#ffd33b'>4</font>**\n",
        "Write a program that displays the smallest and largest item in a list, and will reverse it."
      ]
    },
    {
      "cell_type": "code",
      "execution_count": null,
      "id": "c-MTxC1tXuGX",
      "metadata": {
        "id": "c-MTxC1tXuGX",
        "colab": {
          "base_uri": "https://localhost:8080/"
        },
        "outputId": "5ff04327-bc44-43ed-964f-0fbbab72a98f"
      },
      "outputs": [
        {
          "output_type": "stream",
          "name": "stdout",
          "text": [
            "My list: [5, 15, 1, 87, 100, 4, 200, 56, 2, 110]\n",
            "Minimum: 1 \t| Minimum index: 2\n",
            "Maximum: 200 \t| Maximum index: 6\n",
            "[5, 15, 200, 87, 100, 4, 1, 56, 2, 110]\n"
          ]
        }
      ],
      "source": [
        "def reverse_min_max_value(list):\n",
        "  smallest = list[0]\n",
        "  smallest_index = 0\n",
        "  largest = list[0]\n",
        "  largest_index = 0\n",
        "\n",
        "  for i in range(len(list)):\n",
        "    if smallest > list[i]:\n",
        "      smallest = list[i]\n",
        "      smallest_index = i\n",
        "    elif largest < list[i]:\n",
        "      largest = list[i]\n",
        "      largest_index = i\n",
        "\n",
        "    #print(list[i])\n",
        "  return smallest, smallest_index, largest, largest_index\n",
        "\n",
        "my_list = [5,15,1,87,100,4,200,56,2,110]\n",
        "my_return=reverse_min_max_value(my_list)\n",
        "\n",
        "print(f\"My list: {my_list}\")\n",
        "print(f\"Minimum: {my_return[0]} \\t| Minimum index: {my_return[1]}\")\n",
        "print(f\"Maximum: {my_return[2]} \\t| Maximum index: {my_return[3]}\")\n",
        "\n",
        "# reversing position minimum and maximum\n",
        "\n",
        "my_list[my_return[3]] = my_return[0]\n",
        "my_list[my_return[1]] = my_return[2]\n",
        "print(my_list)\n"
      ]
    },
    {
      "cell_type": "markdown",
      "source": [],
      "metadata": {
        "id": "ijyRtaCg7MZY"
      },
      "id": "ijyRtaCg7MZY"
    },
    {
      "cell_type": "markdown",
      "id": "m-MXRBDHE2gn",
      "metadata": {
        "id": "m-MXRBDHE2gn"
      },
      "source": [
        "### **<font color='#306998'>TASK </font><font color='#ffd33b'>5</font>**\n",
        "Write a program that asks the user to enter the year and then checks if the year is a leap year. (Hint: A year is a leap when it is divisible by 400 or when it divides by 4 but is not divisible by 100)."
      ]
    },
    {
      "cell_type": "code",
      "execution_count": null,
      "id": "6lxDEcXVXvE_",
      "metadata": {
        "id": "6lxDEcXVXvE_",
        "colab": {
          "base_uri": "https://localhost:8080/"
        },
        "outputId": "97548600-acb2-4883-b958-759e09953979"
      },
      "outputs": [
        {
          "output_type": "stream",
          "name": "stdout",
          "text": [
            "Input year: 1954\n",
            "The year 1954 is not a leap year.\n"
          ]
        }
      ],
      "source": [
        "year = int(input(\"Input year: \"))\n",
        "\n",
        "if (year%400 == 0) or (year%4 == 0 and year%100 != 0):\n",
        "  print(f\"The year {year} is a leap year.\")\n",
        "else:\n",
        "  print(f\"The year {year} is not a leap year.\")"
      ]
    },
    {
      "cell_type": "markdown",
      "id": "5v8R6ERvE5Y8",
      "metadata": {
        "id": "5v8R6ERvE5Y8"
      },
      "source": [
        "### **<font color='#306998'>TASK </font><font color='#ffd33b'>6</font>**\n",
        "Write a program that takes as an input a natural number N from the user, then creates a dictionary of keys 1 through N with values that are the squares of the keys."
      ]
    },
    {
      "cell_type": "code",
      "execution_count": null,
      "id": "2gUUvHE5XvmH",
      "metadata": {
        "id": "2gUUvHE5XvmH",
        "colab": {
          "base_uri": "https://localhost:8080/"
        },
        "outputId": "d1535ec3-d025-4c3b-eab9-14839eb1ac3e"
      },
      "outputs": [
        {
          "output_type": "stream",
          "name": "stdout",
          "text": [
            "Input natural number: 5\n",
            "My dictionary: {1: 1, 2: 4, 3: 9, 4: 16, 5: 25}\n"
          ]
        }
      ],
      "source": [
        "number=int(input(\"Input natural number: \"))\n",
        "my_dictionary=dict()\n",
        "\n",
        "for i in range(number):\n",
        "  my_dictionary[i+1]=(i+1)**2\n",
        "\n",
        "print(f\"My dictionary: {my_dictionary}\")"
      ]
    },
    {
      "cell_type": "markdown",
      "id": "GII_6WW5VM6Q",
      "metadata": {
        "id": "GII_6WW5VM6Q"
      },
      "source": [
        "## Functions\n",
        "\n",
        "In front of you, there are several short, but in some cases challenging thought, tasks. The level of difficulty is similar to the exercises done in class. However, they introduce an additional element: tests. Some of the exercises include tests and asserts to make sure that solutions you provide are correct.\n",
        "Each individual exercise is one function to write (its `parameters` and `name` should not be changed, as they are used as part of the tests, which otherwise would not pass). Moreover, you are supposed to describe each function at the very top of its body by introducing docstrings (Python code documentation - we strongly encourage you to familiarize yourself with it, as there is not much philosophy here, and as a \"warm-up\" sometimes recruiters ask what it is).\n",
        "\n",
        "Below is a sample docstring from the `hiding_password.py` file.\n",
        "\n",
        "```python\n",
        "def hide_password():\n",
        "    \"\"\"\n",
        "        Write a simple \"encryption\" function. Its job is to switch\n",
        "        every third character in the password with an astrerisk(*).\n",
        "\n",
        "        Example:\n",
        "        >>> x = hide_password(\"my_very_good_password_123\")\n",
        "        >>> print(x)\n",
        "        \"my*ve*y_*oo*_p*ss*or*_1*3\"\n",
        "        Note that the length of the string does not have to be divisible by 3.\n",
        "    \"\"\"\n",
        "    pass\n",
        "```\n",
        "\n",
        "If you are familiar with Python scripts, you can define functions in separate file, so you can import them into other files or to the jupyter notebook (and opt. test them). In the programming world, we try never to mix production code with tests - we put a thick line between them, and they are often separated not only by files but may even be several directories (packages) away. Here, here we are going to cheat a bit 🙈"
      ]
    },
    {
      "cell_type": "markdown",
      "id": "aQwdjrhHE7LU",
      "metadata": {
        "id": "aQwdjrhHE7LU"
      },
      "source": [
        "### **<font color='#306998'>TASK </font><font color='#ffd33b'>7</font>**\n",
        "Write a function `is_prime_number()` that determines whether the given number is prime number or not.\n",
        "\n",
        "Hint: A `number` NUM is prime when it is divisible only by itself and by 1. One of the prime number search algorithms is to check that none of the numbers from 2 up to NUM-1 (or from 2 to the square root of NUM) divides NUM. Note that 0 and 1 are neither prime nor composite numbers."
      ]
    },
    {
      "cell_type": "code",
      "execution_count": null,
      "id": "Trhsa_1kYlSf",
      "metadata": {
        "id": "Trhsa_1kYlSf"
      },
      "outputs": [],
      "source": [
        "def is_prime_number(number):\n",
        "    \"\"\"Checks whether the number argument is a prime number.\n",
        "    :param number: int number.\n",
        "\n",
        "    :return: True if the number is prime, False if it is complex.\n",
        "    \"\"\"\n",
        "    result = True\n",
        "    if number in [0,1]:\n",
        "      result = False\n",
        "    else:\n",
        "      number1 = int(number**0.5)\n",
        "      #print(number1)\n",
        "      for i in range(number1-1):\n",
        "        if number%(i+2) == 0:\n",
        "          result = False\n",
        "    return result\n",
        "    pass\n",
        "\n",
        "#print(is_prime_number(0))\n"
      ]
    },
    {
      "cell_type": "code",
      "execution_count": null,
      "id": "liGyDvAOZFHd",
      "metadata": {
        "id": "liGyDvAOZFHd",
        "colab": {
          "base_uri": "https://localhost:8080/"
        },
        "outputId": "46af04bb-85e7-467e-e4cb-c3a5d5885e7d"
      },
      "outputs": [
        {
          "output_type": "stream",
          "name": "stderr",
          "text": [
            "test_0_as_not_a_prime_number (__main__.TestPrimeNumbers) ... ok\n",
            "test_19_as_a_prime_number (__main__.TestPrimeNumbers) ... ok\n",
            "test_1_as_not_a_prime_number (__main__.TestPrimeNumbers) ... ok\n",
            "test_2_as_a_prime_number (__main__.TestPrimeNumbers) ... ok\n",
            "test_3_as_a_prime_number (__main__.TestPrimeNumbers) ... ok\n",
            "test_50_as_not_a_prime_number (__main__.TestPrimeNumbers) ... ok\n",
            "test_6_as_not_a_prime_number (__main__.TestPrimeNumbers) ... ok\n",
            "\n",
            "----------------------------------------------------------------------\n",
            "Ran 7 tests in 0.022s\n",
            "\n",
            "OK\n"
          ]
        }
      ],
      "source": [
        "import unittest\n",
        "\n",
        "class TestPrimeNumbers(unittest.TestCase):\n",
        "\n",
        "    def test_0_as_not_a_prime_number(self):\n",
        "        self.assertIs(is_prime_number(0), False)\n",
        "\n",
        "    def test_1_as_not_a_prime_number(self):\n",
        "        self.assertIs(is_prime_number(1), False)\n",
        "\n",
        "    def test_2_as_a_prime_number(self):\n",
        "        self.assertIs(is_prime_number(2), True)\n",
        "\n",
        "    def test_3_as_a_prime_number(self):\n",
        "        self.assertIs(is_prime_number(3), True)\n",
        "\n",
        "    def test_6_as_not_a_prime_number(self):\n",
        "        self.assertIs(is_prime_number(6), False)\n",
        "\n",
        "    def test_19_as_a_prime_number(self):\n",
        "        self.assertIs(is_prime_number(19), True)\n",
        "\n",
        "    def test_50_as_not_a_prime_number(self):\n",
        "        self.assertIs(is_prime_number(50), False)\n",
        "\n",
        "\n",
        "if __name__ == '__main__':\n",
        "    unittest.main(argv=[''], verbosity=2, exit=False)"
      ]
    },
    {
      "cell_type": "markdown",
      "id": "4k8PSj-xFAUN",
      "metadata": {
        "id": "4k8PSj-xFAUN"
      },
      "source": [
        "### **<font color='#306998'>TASK </font><font color='#ffd33b'>8</font>** COUNT DIGITS\n",
        "Write two distinct functions to solve the following problems:\n",
        "* `count_digits()` to count the number of digits in an integer given as an input argument,\n",
        "* `count_zeros()` to count the number of the digit 0 occurrences in a given number\n",
        "\n",
        "```python\n",
        "    # Examples:\n",
        "    >> x = count_digits(1234)\n",
        "    >> print(x)\n",
        "    4\n",
        "\n",
        "    >> x = count_zeros(1000)\n",
        "    >> print(x)\n",
        "    3\n",
        "\n",
        "    Problems can be solved in a \"mathematical\" way, but also\n",
        "    using Python's simplifications.\n",
        "\n",
        "    Hint: what if the number would be converted to str?\n",
        "```\n"
      ]
    },
    {
      "cell_type": "code",
      "execution_count": null,
      "id": "FkrCrMPnbqJN",
      "metadata": {
        "id": "FkrCrMPnbqJN"
      },
      "outputs": [],
      "source": [
        "def count_digits(number):\n",
        "    \"\"\"Counts the number of digits in a number.\n",
        "\n",
        "     :param number: a certain integer\n",
        "\n",
        "     :return: the number of digits in the number (int).\n",
        "    \"\"\"\n",
        "    result=len(str(number))\n",
        "\n",
        "    return result\n",
        "    pass\n",
        "\n",
        "#print(count_digits(15763))"
      ]
    },
    {
      "cell_type": "code",
      "execution_count": null,
      "id": "PAEXT2k9bumC",
      "metadata": {
        "id": "PAEXT2k9bumC"
      },
      "outputs": [],
      "source": [
        "def count_zeros(number):\n",
        "    \"\"\"Counts zeros in number.\n",
        "\n",
        "     : param number: a certain integer\n",
        "\n",
        "     : return:\n",
        "    \"\"\"\n",
        "    result = 0\n",
        "    text = str(number)\n",
        "    #print(text)\n",
        "    for i in range(len(text)):\n",
        "      if text[i] == '0':\n",
        "        result +=1\n",
        "\n",
        "    return result\n",
        "    pass\n",
        "\n",
        "#print(count_zeros(125006804))"
      ]
    },
    {
      "cell_type": "code",
      "execution_count": null,
      "id": "WRcAH2VFbyTL",
      "metadata": {
        "id": "WRcAH2VFbyTL",
        "colab": {
          "base_uri": "https://localhost:8080/"
        },
        "outputId": "1d86484f-6010-4eb3-c57d-725bb3d426ab"
      },
      "outputs": [
        {
          "output_type": "stream",
          "name": "stderr",
          "text": [
            "test_many_digits (__main__.TestDigits) ... ok\n",
            "test_one_digit (__main__.TestDigits) ... ok\n",
            "test_two_digits (__main__.TestDigits) ... ok\n",
            "test_0_as_not_a_prime_number (__main__.TestPrimeNumbers) ... ok\n",
            "test_19_as_a_prime_number (__main__.TestPrimeNumbers) ... ok\n",
            "test_1_as_not_a_prime_number (__main__.TestPrimeNumbers) ... ok\n",
            "test_2_as_a_prime_number (__main__.TestPrimeNumbers) ... ok\n",
            "test_3_as_a_prime_number (__main__.TestPrimeNumbers) ... ok\n",
            "test_50_as_not_a_prime_number (__main__.TestPrimeNumbers) ... ok\n",
            "test_6_as_not_a_prime_number (__main__.TestPrimeNumbers) ... ok\n",
            "test_multiple_zeros (__main__.TestZeros) ... ok\n",
            "test_no_zeros (__main__.TestZeros) ... ok\n",
            "test_number_only_with_zeros (__main__.TestZeros) ... ok\n",
            "test_one_zero (__main__.TestZeros) ... ok\n",
            "\n",
            "----------------------------------------------------------------------\n",
            "Ran 14 tests in 0.031s\n",
            "\n",
            "OK\n"
          ]
        }
      ],
      "source": [
        "import unittest\n",
        "\n",
        "\n",
        "class TestDigits(unittest.TestCase):\n",
        "\n",
        "    def test_one_digit(self):\n",
        "        self.assertEqual(count_digits(1), 1)\n",
        "\n",
        "    def test_two_digits(self):\n",
        "        self.assertEqual(count_digits(20), 2)\n",
        "\n",
        "    def test_many_digits(self):\n",
        "        self.assertEqual(count_digits(1234567891011), 13)\n",
        "\n",
        "\n",
        "class TestZeros(unittest.TestCase):\n",
        "\n",
        "    def test_no_zeros(self):\n",
        "        self.assertEqual(count_zeros(11), 0)\n",
        "\n",
        "    def test_one_zero(self):\n",
        "        self.assertEqual(count_zeros(101), 1)\n",
        "\n",
        "    def test_multiple_zeros(self):\n",
        "        self.assertEqual(count_zeros(100010), 4)\n",
        "\n",
        "    def test_number_only_with_zeros(self):\n",
        "        self.assertEqual(count_zeros(00000), 1)\n",
        "\n",
        "\n",
        "if __name__ == '__main__':\n",
        "    unittest.main(argv=[''], verbosity=2, exit=False)\n"
      ]
    },
    {
      "cell_type": "markdown",
      "id": "3nmu1lUuFPuD",
      "metadata": {
        "id": "3nmu1lUuFPuD"
      },
      "source": [
        "### **<font color='#306998'>TASK </font><font color='#ffd33b'>9</font>** EVEN NUMBERS\n",
        "In the following task, you aim to write a function that counts the number of even numbers in a given list provided by a user as a parameter of the function.\n",
        "* The function is called `count_even_number()` and the input parameter is a list of numbers called `numbers`.\n",
        "* Write a solution that will examine the list for even numbers and each time it finds one it will increase the `count` of the auxiliary variable.\n",
        "* The function should `return` the number of even numbers in the given list.\n",
        "* We assume that the list will be given from the program (ie. without using the `input()` function).\n",
        "\n",
        "```python\n",
        "    # Example:\n",
        "    >> list_of_numbers = [1, 2, 3, 4, 5, 6] → 3 even numbers: 2, 4, 6\n",
        "\n",
        "    >> x = count_even_numbers(list_of_numbers)\n",
        "    >> print(x)\n",
        "    3\n",
        "\n",
        "    Note: 0 is also an even number.\n",
        "```"
      ]
    },
    {
      "cell_type": "code",
      "execution_count": null,
      "id": "jm70lzQkcxBR",
      "metadata": {
        "id": "jm70lzQkcxBR"
      },
      "outputs": [],
      "source": [
        "def count_even_numbers(numbers):\n",
        "    \"\"\"Counts even numbers in the list given as an argument.\n",
        "\n",
        "     : param numbers: list of numbers.\n",
        "\n",
        "     : return: number of even numbers in the given list, value type: int.\n",
        "    \"\"\"\n",
        "    result = 0\n",
        "    for i in range(len(numbers)):\n",
        "      if numbers[i]%2 == 0:\n",
        "        result += 1\n",
        "\n",
        "    return result\n",
        "    pass\n",
        "\n",
        "#my_list = [2,4,6]\n",
        "#print(count_even_numbers(my_list))"
      ]
    },
    {
      "cell_type": "code",
      "execution_count": null,
      "id": "h8pxuEL2c9wA",
      "metadata": {
        "id": "h8pxuEL2c9wA",
        "colab": {
          "base_uri": "https://localhost:8080/"
        },
        "outputId": "3919966f-ce4b-47e4-cb6d-752fed47d29f"
      },
      "outputs": [
        {
          "output_type": "stream",
          "name": "stderr",
          "text": [
            "test_many_digits (__main__.TestDigits) ... ok\n",
            "test_one_digit (__main__.TestDigits) ... ok\n",
            "test_two_digits (__main__.TestDigits) ... ok\n",
            "test_all_numbers_from_the_list_are_even (__main__.TestEvenNumbers) ... ok\n",
            "test_few_numbers_from_the_list_are_even (__main__.TestEvenNumbers) ... ok\n",
            "test_no_even_numbers_in_the_list (__main__.TestEvenNumbers) ... ok\n",
            "test_no_numbers_in_the_list_and_no_evens (__main__.TestEvenNumbers) ... ok\n",
            "test_numbers_with_zero_inside_the_list (__main__.TestEvenNumbers) ... ok\n",
            "test_0_as_not_a_prime_number (__main__.TestPrimeNumbers) ... ok\n",
            "test_19_as_a_prime_number (__main__.TestPrimeNumbers) ... ok\n",
            "test_1_as_not_a_prime_number (__main__.TestPrimeNumbers) ... ok\n",
            "test_2_as_a_prime_number (__main__.TestPrimeNumbers) ... ok\n",
            "test_3_as_a_prime_number (__main__.TestPrimeNumbers) ... ok\n",
            "test_50_as_not_a_prime_number (__main__.TestPrimeNumbers) ... ok\n",
            "test_6_as_not_a_prime_number (__main__.TestPrimeNumbers) ... ok\n",
            "test_multiple_zeros (__main__.TestZeros) ... ok\n",
            "test_no_zeros (__main__.TestZeros) ... ok\n",
            "test_number_only_with_zeros (__main__.TestZeros) ... ok\n",
            "test_one_zero (__main__.TestZeros) ... ok\n",
            "\n",
            "----------------------------------------------------------------------\n",
            "Ran 19 tests in 0.042s\n",
            "\n",
            "OK\n"
          ]
        }
      ],
      "source": [
        "import unittest\n",
        "\n",
        "class TestEvenNumbers(unittest.TestCase):\n",
        "    def test_few_numbers_from_the_list_are_even(self):\n",
        "        numbers = [3, 6, 1, 1, 8, 3, 4]\n",
        "        evens_amount = count_even_numbers(numbers)\n",
        "        self.assertEqual(evens_amount, 3)\n",
        "\n",
        "    def test_all_numbers_from_the_list_are_even(self):\n",
        "        numbers = [2, 4, 6, 8, 10]\n",
        "        evens_amount = count_even_numbers(numbers)\n",
        "        self.assertEqual(evens_amount, 5)\n",
        "\n",
        "    def test_no_even_numbers_in_the_list(self):\n",
        "        numbers = [55, 7, 19, 21]\n",
        "        evens_amount = count_even_numbers(numbers)\n",
        "        self.assertEqual(evens_amount, 0)\n",
        "\n",
        "    def test_no_numbers_in_the_list_and_no_evens(self):\n",
        "        numbers = []\n",
        "        evens_amount = count_even_numbers(numbers)\n",
        "        self.assertEqual(evens_amount, 0)\n",
        "\n",
        "    def test_numbers_with_zero_inside_the_list(self):\n",
        "        numbers = [3, 16, 0, 1, 4, 0, 23]\n",
        "        evens_amount = count_even_numbers(numbers)\n",
        "        self.assertEqual(evens_amount, 4)\n",
        "\n",
        "\n",
        "if __name__ == '__main__':\n",
        "    unittest.main(argv=[''], verbosity=2, exit=False)\n"
      ]
    },
    {
      "cell_type": "markdown",
      "id": "-7bIZuqdFWdi",
      "metadata": {
        "id": "-7bIZuqdFWdi"
      },
      "source": [
        "### **<font color='#306998'>TASK </font><font color='#ffd33b'>10</font>** DOUBLE SIGNS\n",
        "Write a function `produce_double_signs()` whose task is to double each character in the string given as an input parameter.\n",
        "\n",
        "```python\n",
        "    # For example, the value returned from the\n",
        "    >>> produce_double_sings(\"Python\")\n",
        "    # should be\n",
        "    >>> \"PPyytthhoonn\".\n",
        "\n",
        "    Each letter should be doubled.\n",
        "\n",
        "    We only consider single-word subtitles.\n",
        "```"
      ]
    },
    {
      "cell_type": "code",
      "execution_count": null,
      "id": "jZkd20JFdce5",
      "metadata": {
        "id": "jZkd20JFdce5"
      },
      "outputs": [],
      "source": [
        "def produce_double_signs(string):\n",
        "    \"\"\"Creates a new string from the given one, doubling each character.\n",
        "\n",
        "     :param string: string where characters should be doubled\n",
        "\n",
        "     :return: new string with duplicate characters\n",
        "    \"\"\"\n",
        "    result = ''\n",
        "    for i in range(len(string)):\n",
        "      result += string[i]*2\n",
        "      #print(result)\n",
        "\n",
        "    return result\n",
        "    pass\n",
        "\n",
        "#print(produce_double_signs('Python'))"
      ]
    },
    {
      "cell_type": "code",
      "execution_count": null,
      "id": "g7dldAcWj5w2",
      "metadata": {
        "id": "g7dldAcWj5w2",
        "colab": {
          "base_uri": "https://localhost:8080/"
        },
        "outputId": "809edbc8-0af9-4e03-cc44-2d179f738259"
      },
      "outputs": [
        {
          "output_type": "stream",
          "name": "stderr",
          "text": [
            "test_many_digits (__main__.TestDigits) ... ok\n",
            "test_one_digit (__main__.TestDigits) ... ok\n",
            "test_two_digits (__main__.TestDigits) ... ok\n",
            "test_double_signs_output_for_empty_string (__main__.TestDoubleSigns) ... ok\n",
            "test_one_letter_string (__main__.TestDoubleSigns) ... ok\n",
            "test_python_string_written_in_small_and_big_letters (__main__.TestDoubleSigns) ... ok\n",
            "test_python_string_written_in_small_letters (__main__.TestDoubleSigns) ... ok\n",
            "test_all_numbers_from_the_list_are_even (__main__.TestEvenNumbers) ... ok\n",
            "test_few_numbers_from_the_list_are_even (__main__.TestEvenNumbers) ... ok\n",
            "test_no_even_numbers_in_the_list (__main__.TestEvenNumbers) ... ok\n",
            "test_no_numbers_in_the_list_and_no_evens (__main__.TestEvenNumbers) ... ok\n",
            "test_numbers_with_zero_inside_the_list (__main__.TestEvenNumbers) ... ok\n",
            "test_0_as_not_a_prime_number (__main__.TestPrimeNumbers) ... ok\n",
            "test_19_as_a_prime_number (__main__.TestPrimeNumbers) ... ok\n",
            "test_1_as_not_a_prime_number (__main__.TestPrimeNumbers) ... ok\n",
            "test_2_as_a_prime_number (__main__.TestPrimeNumbers) ... ok\n",
            "test_3_as_a_prime_number (__main__.TestPrimeNumbers) ... ok\n",
            "test_50_as_not_a_prime_number (__main__.TestPrimeNumbers) ... ok\n",
            "test_6_as_not_a_prime_number (__main__.TestPrimeNumbers) ... ok\n",
            "test_multiple_zeros (__main__.TestZeros) ... ok\n",
            "test_no_zeros (__main__.TestZeros) ... ok\n",
            "test_number_only_with_zeros (__main__.TestZeros) ... ok\n",
            "test_one_zero (__main__.TestZeros) ... ok\n",
            "\n",
            "----------------------------------------------------------------------\n",
            "Ran 23 tests in 0.055s\n",
            "\n",
            "OK\n"
          ]
        }
      ],
      "source": [
        "import unittest\n",
        "\n",
        "class TestDoubleSigns(unittest.TestCase):\n",
        "\n",
        "    def test_python_string_written_in_small_letters(self):\n",
        "        double_string = produce_double_signs(\"python\")\n",
        "        self.assertEqual(double_string, \"ppyytthhoonn\")\n",
        "\n",
        "    def test_python_string_written_in_small_and_big_letters(self):\n",
        "        double_string = produce_double_signs(\"PyThoN\")\n",
        "        self.assertEqual(double_string, \"PPyyTThhooNN\")\n",
        "\n",
        "    def test_one_letter_string(self):\n",
        "        double_string = produce_double_signs(\"X\")\n",
        "        self.assertEqual(double_string, \"XX\")\n",
        "\n",
        "    def test_double_signs_output_for_empty_string(self):\n",
        "        double_string = produce_double_signs(\"\")\n",
        "        self.assertEqual(double_string, \"\")\n",
        "\n",
        "if __name__ == '__main__':\n",
        "    unittest.main(argv=[''], verbosity=2, exit=False)\n"
      ]
    },
    {
      "cell_type": "markdown",
      "id": "YAXcHeKpFbWo",
      "metadata": {
        "id": "YAXcHeKpFbWo"
      },
      "source": [
        "### **<font color='#306998'>TASK </font><font color='#ffd33b'>11</font>** NET/GROSS PRICE\n",
        "Write a function that, based on the given dictionary with:\n",
        "* purchases as `.keys()` and\n",
        "* a tuple with price & tax as a `value`\n",
        "\n",
        "will calculate the gross amount of all purchases.\n",
        "\n",
        "    The grocery_list parameter can take the form:\n",
        "    {\"milk\": (5.00, 10), \"cheese\": (4.50, 15), \"yogurt\": (3, 25)}.\n",
        "\n",
        "The first value in a tuple is the net price, the second is the tax (e.g. for 10% tax of a given product and its gross price 10, the gross price will be 1.1 * 10). Next, you should add up gross prices of each product and return the final result.\n",
        "\n",
        "It should be assumed that the user will not provide erroneous values (i.e. that the price will never be negative, and the tax will always be included in the set [0, 100]."
      ]
    },
    {
      "cell_type": "code",
      "execution_count": null,
      "id": "EY0zHlmZezTS",
      "metadata": {
        "id": "EY0zHlmZezTS"
      },
      "outputs": [],
      "source": [
        "def calculate_netto_prize(grocery_list): #calculate_gross\n",
        "    \"\"\"Calculates the gross price of all purchases from the grocery_list.\n",
        "\n",
        "    : param grocery_list: a dictionary with\n",
        "        keys (str) representing purchases (str),\n",
        "        values (tuple) with two numbers: the price (net amount) and the tax.\n",
        "\n",
        "     : return: sum of all gross values in the list (as a number).\n",
        "    \"\"\"\n",
        "    result = 0\n",
        "    print(grocery_list.keys())\n",
        "\n",
        "    for key in grocery_list.keys():\n",
        "      if grocery_list[key][0] <=0:\n",
        "        result += 0\n",
        "        print(\"Price can't be negative!\")\n",
        "      elif grocery_list[key][1] <= 0:\n",
        "        result += grocery_list[key][0]\n",
        "        print(\"Tax is smaller than 0% !\")\n",
        "      elif grocery_list[key][1] >= 100:\n",
        "        print(\"Tax is bigger than 100% !\")\n",
        "        result += 0\n",
        "      else:\n",
        "        result += grocery_list[key][0]*(1-(grocery_list[key][1]/100))\n",
        "\n",
        "    return result\n",
        "    pass\n",
        "\n",
        "#x = calculate_netto_prize({\"milk\": (5.00, 10), \"cheese\": (4.50, 15), \"yogurt\": (3, 25)}) #calculate_gross\n",
        "\n",
        "#print(f\"Prize: {x}\")"
      ]
    },
    {
      "cell_type": "code",
      "execution_count": null,
      "id": "_CPWPF2qfZj0",
      "metadata": {
        "id": "_CPWPF2qfZj0",
        "colab": {
          "base_uri": "https://localhost:8080/"
        },
        "outputId": "91e892ae-aa0c-4277-8a16-cdfe0ef28748"
      },
      "outputs": [
        {
          "output_type": "stream",
          "name": "stderr",
          "text": [
            "test_many_digits (__main__.TestDigits) ... ok\n",
            "test_one_digit (__main__.TestDigits) ... ok\n",
            "test_two_digits (__main__.TestDigits) ... ok\n",
            "test_double_signs_output_for_empty_string (__main__.TestDoubleSigns) ... ok\n",
            "test_one_letter_string (__main__.TestDoubleSigns) ... ok\n",
            "test_python_string_written_in_small_and_big_letters (__main__.TestDoubleSigns) ... ok\n",
            "test_python_string_written_in_small_letters (__main__.TestDoubleSigns) ... ok\n",
            "test_all_numbers_from_the_list_are_even (__main__.TestEvenNumbers) ... ok\n",
            "test_few_numbers_from_the_list_are_even (__main__.TestEvenNumbers) ... ok\n",
            "test_no_even_numbers_in_the_list (__main__.TestEvenNumbers) ... ok\n",
            "test_no_numbers_in_the_list_and_no_evens (__main__.TestEvenNumbers) ... ok\n",
            "test_numbers_with_zero_inside_the_list (__main__.TestEvenNumbers) ... ok\n",
            "test_no_product_prize (__main__.TestNettoPrize) ... ok\n",
            "test_one_product_with_100_percent_tax (__main__.TestNettoPrize) ... ok\n",
            "test_one_product_with_10_percent_tax (__main__.TestNettoPrize) ... ok\n",
            "test_one_product_with_zero_percent_tax (__main__.TestNettoPrize) ... ok\n",
            "test_two_products_with_different_percent_tax (__main__.TestNettoPrize) ... ok\n",
            "test_0_as_not_a_prime_number (__main__.TestPrimeNumbers) ... ok\n",
            "test_19_as_a_prime_number (__main__.TestPrimeNumbers) ... ok\n",
            "test_1_as_not_a_prime_number (__main__.TestPrimeNumbers) ... ok\n",
            "test_2_as_a_prime_number (__main__.TestPrimeNumbers) ... ok\n",
            "test_3_as_a_prime_number (__main__.TestPrimeNumbers) ... ok\n",
            "test_50_as_not_a_prime_number (__main__.TestPrimeNumbers) ... ok\n",
            "test_6_as_not_a_prime_number (__main__.TestPrimeNumbers) ... ok\n",
            "test_multiple_zeros (__main__.TestZeros) ... ok\n",
            "test_no_zeros (__main__.TestZeros) ... ok\n",
            "test_number_only_with_zeros (__main__.TestZeros) ... ok\n",
            "test_one_zero (__main__.TestZeros) ... ok\n",
            "\n",
            "----------------------------------------------------------------------\n",
            "Ran 28 tests in 0.073s\n",
            "\n",
            "OK\n"
          ]
        },
        {
          "output_type": "stream",
          "name": "stdout",
          "text": [
            "dict_keys([])\n",
            "dict_keys(['apples'])\n",
            "Tax is bigger than 100% !\n",
            "dict_keys(['apples'])\n",
            "dict_keys(['apples'])\n",
            "Tax is smaller than 0% !\n",
            "dict_keys(['apples', 'milk'])\n"
          ]
        }
      ],
      "source": [
        "import unittest\n",
        "\n",
        "\n",
        "class TestNettoPrize(unittest.TestCase):\n",
        "\n",
        "    def test_one_product_with_10_percent_tax(self):\n",
        "        grocery_list = {\"apples\": (12, 10)}\n",
        "        prize = calculate_netto_prize(grocery_list)\n",
        "        self.assertEqual(prize, 10.8)\n",
        "\n",
        "    def test_one_product_with_zero_percent_tax(self):\n",
        "        grocery_list = {\"apples\": (12, 0)}\n",
        "        prize = calculate_netto_prize(grocery_list)\n",
        "        self.assertEqual(prize, 12)\n",
        "\n",
        "    def test_one_product_with_100_percent_tax(self):\n",
        "        grocery_list = {\"apples\": (12, 100)}\n",
        "        prize = calculate_netto_prize(grocery_list)\n",
        "        self.assertEqual(prize, 0)\n",
        "\n",
        "    def test_two_products_with_different_percent_tax(self):\n",
        "        grocery_list = {\"apples\": (12, 10), \"milk\": (4, 20)}\n",
        "        prize = calculate_netto_prize(grocery_list)\n",
        "        self.assertEqual(prize, 14)\n",
        "\n",
        "    def test_no_product_prize(self):\n",
        "        grocery_list = {}\n",
        "        prize = calculate_netto_prize(grocery_list)\n",
        "        self.assertEqual(prize, 0)\n",
        "\n",
        "\n",
        "if __name__ == '__main__':\n",
        "    unittest.main(argv=[''], verbosity=2, exit=False)\n"
      ]
    },
    {
      "cell_type": "markdown",
      "id": "pHDAH3HcFiP0",
      "metadata": {
        "id": "pHDAH3HcFiP0"
      },
      "source": [
        "### **<font color='#306998'>TASK </font><font color='#ffd33b'>12</font>** MERGE STRINGS\n",
        "Write a function that joins two strings like in an example below:\n",
        "\n",
        "```python\n",
        "    # Get the first letter of the first string, then the first letter of the second one, next, the second letters and so on...\n",
        "\n",
        "    # The function should return a new string which is a combination of those given as parameters. Note: the input strings do not need to be of the same length!\n",
        "\n",
        "    #  Example:\n",
        "    >> merge_strings (\"dog\", \"cat\")\n",
        "    dcoagt\n",
        "\n",
        "    >> merge_strings (\"stop\", \"supermarket)\n",
        "    sstuoopermarket\n",
        "\n",
        "    # If one of the strings is longer, simply perform the function up until possible and write the remaining at the end.\n",
        "```\n"
      ]
    },
    {
      "cell_type": "code",
      "execution_count": null,
      "id": "gcHdY4XlghBF",
      "metadata": {
        "id": "gcHdY4XlghBF",
        "colab": {
          "base_uri": "https://localhost:8080/"
        },
        "outputId": "74fcdaf1-e927-471d-fcaf-1c86f18b3597"
      },
      "outputs": [
        {
          "output_type": "stream",
          "name": "stdout",
          "text": [
            "Merge: AShloijdeo\n"
          ]
        }
      ],
      "source": [
        "def merge_strings(string1, string2):\n",
        "    \"\"\"It concatenates alternately the strings string1 and string2.\n",
        "\n",
        "     : param string1: the first string to be linked.\n",
        "     : param string2: second string to join.\n",
        "\n",
        "     : return: a string composed of the arguments given.\n",
        "    \"\"\"\n",
        "    result = ''\n",
        "    end = ''\n",
        "    #print(f\"str1: {len(string1)} ;  str2: {len(string2)}\")\n",
        "    if len(string1) == len(string2): iterations = len(string1)\n",
        "    elif len(string1) < len(string2):\n",
        "      iterations = len(string1)\n",
        "      end = string2[iterations:]\n",
        "    elif len(string1) > len(string2):\n",
        "      iterations = len(string2)\n",
        "      end = string1[iterations:]\n",
        "\n",
        "    #print(iterations)\n",
        "\n",
        "    for i in range(iterations):\n",
        "      result += string1[i] + string2[i]\n",
        "\n",
        "    result += end\n",
        "\n",
        "    return result\n",
        "    pass\n",
        "\n",
        "if __name__ == '__main__':\n",
        "  print(f\"Merge: {merge_strings('Ahoje','Slido')}\")"
      ]
    },
    {
      "cell_type": "code",
      "execution_count": null,
      "id": "dDn_x56fkhwN",
      "metadata": {
        "id": "dDn_x56fkhwN",
        "colab": {
          "base_uri": "https://localhost:8080/"
        },
        "outputId": "8d82f7d8-d5d1-4f44-8291-410841df158b"
      },
      "outputs": [
        {
          "output_type": "stream",
          "name": "stderr",
          "text": [
            "test_many_digits (__main__.TestDigits) ... ok\n",
            "test_one_digit (__main__.TestDigits) ... ok\n",
            "test_two_digits (__main__.TestDigits) ... ok\n",
            "test_double_signs_output_for_empty_string (__main__.TestDoubleSigns) ... ok\n",
            "test_one_letter_string (__main__.TestDoubleSigns) ... ok\n",
            "test_python_string_written_in_small_and_big_letters (__main__.TestDoubleSigns) ... ok\n",
            "test_python_string_written_in_small_letters (__main__.TestDoubleSigns) ... ok\n",
            "test_all_numbers_from_the_list_are_even (__main__.TestEvenNumbers) ... ok\n",
            "test_few_numbers_from_the_list_are_even (__main__.TestEvenNumbers) ... ok\n",
            "test_no_even_numbers_in_the_list (__main__.TestEvenNumbers) ... ok\n",
            "test_no_numbers_in_the_list_and_no_evens (__main__.TestEvenNumbers) ... ok\n",
            "test_numbers_with_zero_inside_the_list (__main__.TestEvenNumbers) ... ok\n",
            "test_both_strings_are_empty (__main__.TestMergeStrings) ... ok\n",
            "test_first_str_empty_other_non_emtpy (__main__.TestMergeStrings) ... ok\n",
            "test_first_str_longer_than_other (__main__.TestMergeStrings) ... ok\n",
            "test_first_str_non_empty_other_emtpy (__main__.TestMergeStrings) ... ok\n",
            "test_first_str_shorter_than_other (__main__.TestMergeStrings) ... ok\n",
            "test_strings_with_the_same_length (__main__.TestMergeStrings) ... ok\n",
            "test_no_product_prize (__main__.TestNettoPrize) ... ok\n",
            "test_one_product_with_100_percent_tax (__main__.TestNettoPrize) ... ok\n",
            "test_one_product_with_10_percent_tax (__main__.TestNettoPrize) ... ok\n",
            "test_one_product_with_zero_percent_tax (__main__.TestNettoPrize) ... ok\n",
            "test_two_products_with_different_percent_tax (__main__.TestNettoPrize) ... ok\n",
            "test_0_as_not_a_prime_number (__main__.TestPrimeNumbers) ... ok\n",
            "test_19_as_a_prime_number (__main__.TestPrimeNumbers) ... ok\n",
            "test_1_as_not_a_prime_number (__main__.TestPrimeNumbers) ... ok\n",
            "test_2_as_a_prime_number (__main__.TestPrimeNumbers) ... ok\n",
            "test_3_as_a_prime_number (__main__.TestPrimeNumbers) ... ok\n",
            "test_50_as_not_a_prime_number (__main__.TestPrimeNumbers) ... ok\n",
            "test_6_as_not_a_prime_number (__main__.TestPrimeNumbers) ... ok\n",
            "test_multiple_zeros (__main__.TestZeros) ... ok\n",
            "test_no_zeros (__main__.TestZeros) ... ok\n",
            "test_number_only_with_zeros (__main__.TestZeros) ... ok\n",
            "test_one_zero (__main__.TestZeros) ... ok\n",
            "\n",
            "----------------------------------------------------------------------\n",
            "Ran 34 tests in 0.079s\n",
            "\n",
            "OK\n"
          ]
        },
        {
          "output_type": "stream",
          "name": "stdout",
          "text": [
            "dict_keys([])\n",
            "dict_keys(['apples'])\n",
            "Tax is bigger than 100% !\n",
            "dict_keys(['apples'])\n",
            "dict_keys(['apples'])\n",
            "Tax is smaller than 0% !\n",
            "dict_keys(['apples', 'milk'])\n"
          ]
        }
      ],
      "source": [
        "import unittest\n",
        "\n",
        "\n",
        "class TestMergeStrings(unittest.TestCase):\n",
        "\n",
        "    def test_first_str_empty_other_non_emtpy(self):\n",
        "        string1 = \"\"\n",
        "        string2 = \"napis\"\n",
        "        string3 = merge_strings(string1, string2)\n",
        "        self.assertEqual(string3, \"napis\")\n",
        "\n",
        "    def test_first_str_non_empty_other_emtpy(self):\n",
        "        string1 = \"napis\"\n",
        "        string2 = \"\"\n",
        "        string3 = merge_strings(string1, string2)\n",
        "        self.assertEqual(string3, \"napis\")\n",
        "\n",
        "    def test_both_strings_are_empty(self):\n",
        "        string1 = \"\"\n",
        "        string2 = \"\"\n",
        "        string3 = merge_strings(string1, string2)\n",
        "        self.assertEqual(string3, \"\")\n",
        "\n",
        "    def test_strings_with_the_same_length(self):\n",
        "        string1 = \"mocny\"\n",
        "        string2 = \"napis\"\n",
        "        string3 = merge_strings(string1, string2)\n",
        "        self.assertEqual(string3, \"mnoacpniys\")\n",
        "\n",
        "    def test_first_str_shorter_than_other(self):\n",
        "        string1 = \"moc\"\n",
        "        string2 = \"napis\"\n",
        "        string3 = merge_strings(string1, string2)\n",
        "        self.assertEqual(string3, \"mnoacpis\")\n",
        "\n",
        "    def test_first_str_longer_than_other(self):\n",
        "        string1 = \"potezny\"\n",
        "        string2 = \"napis\"\n",
        "        string3 = merge_strings(string1, string2)\n",
        "        self.assertEqual(string3, \"pnoatpeizsny\")\n",
        "\n",
        "\n",
        "if __name__ == '__main__':\n",
        "    unittest.main(argv=[''], verbosity=2, exit=False)\n"
      ]
    },
    {
      "cell_type": "markdown",
      "id": "arcaakMQFnGi",
      "metadata": {
        "id": "arcaakMQFnGi"
      },
      "source": [
        "### **<font color='#306998'>TASK </font><font color='#ffd33b'>13</font>** HIDE PASSWORD\n",
        "Write a simple \"encryption\" function. Its job is to switch every third character in the password with an asterisk (*).\n",
        "\n",
        "```python\n",
        "    <!-- Example: -->\n",
        "    >>> x = hide_password(\"my_very_good_password_123\")\n",
        "    >>> print(x)\n",
        "    \"my*ve*y_*oo*_p*ss*or*_1*3\"\n",
        "    Note that the length of the string does not have to be divisible by 3.\n",
        "```\n"
      ]
    },
    {
      "cell_type": "code",
      "execution_count": null,
      "id": "xv00BifEhJdV",
      "metadata": {
        "id": "xv00BifEhJdV"
      },
      "outputs": [],
      "source": [
        "def hide_password(password):\n",
        "  result = ''\n",
        "  for i in range(len(password)):\n",
        "    if (i+1)%3 == 0:\n",
        "      character = '*'\n",
        "    else:\n",
        "      character = password[i]\n",
        "    result += character\n",
        "  return result\n",
        "\n",
        "pass"
      ]
    },
    {
      "cell_type": "code",
      "execution_count": null,
      "id": "HQnMN5jClZ4b",
      "metadata": {
        "id": "HQnMN5jClZ4b",
        "colab": {
          "base_uri": "https://localhost:8080/"
        },
        "outputId": "cf1926f8-fa56-4369-84a5-9c7602481a45"
      },
      "outputs": [
        {
          "output_type": "stream",
          "name": "stderr",
          "text": [
            "test_many_digits (__main__.TestDigits) ... ok\n",
            "test_one_digit (__main__.TestDigits) ... ok\n",
            "test_two_digits (__main__.TestDigits) ... ok\n",
            "test_double_signs_output_for_empty_string (__main__.TestDoubleSigns) ... ok\n",
            "test_one_letter_string (__main__.TestDoubleSigns) ... ok\n",
            "test_python_string_written_in_small_and_big_letters (__main__.TestDoubleSigns) ... ok\n",
            "test_python_string_written_in_small_letters (__main__.TestDoubleSigns) ... ok\n",
            "test_all_numbers_from_the_list_are_even (__main__.TestEvenNumbers) ... ok\n",
            "test_few_numbers_from_the_list_are_even (__main__.TestEvenNumbers) ... ok\n",
            "test_no_even_numbers_in_the_list (__main__.TestEvenNumbers) ... ok\n",
            "test_no_numbers_in_the_list_and_no_evens (__main__.TestEvenNumbers) ... ok\n",
            "test_numbers_with_zero_inside_the_list (__main__.TestEvenNumbers) ... ok\n",
            "test_no_password (__main__.TestHiddenPassword) ... ok\n",
            "test_password_len_divisible_by_3 (__main__.TestHiddenPassword) ... ok\n",
            "test_password_len_divisible_by_3_minus_1 (__main__.TestHiddenPassword) ... ok\n",
            "test_password_len_divisible_by_3_minus_2 (__main__.TestHiddenPassword) ... ok\n",
            "test_password_mega_length (__main__.TestHiddenPassword) ... ok\n",
            "test_both_strings_are_empty (__main__.TestMergeStrings) ... ok\n",
            "test_first_str_empty_other_non_emtpy (__main__.TestMergeStrings) ... ok\n",
            "test_first_str_longer_than_other (__main__.TestMergeStrings) ... ok\n",
            "test_first_str_non_empty_other_emtpy (__main__.TestMergeStrings) ... ok\n",
            "test_first_str_shorter_than_other (__main__.TestMergeStrings) ... ok\n",
            "test_strings_with_the_same_length (__main__.TestMergeStrings) ... ok\n",
            "test_no_product_prize (__main__.TestNettoPrize) ... ok\n",
            "test_one_product_with_100_percent_tax (__main__.TestNettoPrize) ... ok\n",
            "test_one_product_with_10_percent_tax (__main__.TestNettoPrize) ... ok\n",
            "test_one_product_with_zero_percent_tax (__main__.TestNettoPrize) ... ok\n",
            "test_two_products_with_different_percent_tax (__main__.TestNettoPrize) ... ok\n",
            "test_0_as_not_a_prime_number (__main__.TestPrimeNumbers) ... ok\n",
            "test_19_as_a_prime_number (__main__.TestPrimeNumbers) ... ok\n",
            "test_1_as_not_a_prime_number (__main__.TestPrimeNumbers) ... ok\n"
          ]
        },
        {
          "output_type": "stream",
          "name": "stdout",
          "text": [
            "dict_keys([])\n",
            "dict_keys(['apples'])\n",
            "Tax is bigger than 100% !\n",
            "dict_keys(['apples'])\n",
            "dict_keys(['apples'])\n",
            "Tax is smaller than 0% !\n",
            "dict_keys(['apples', 'milk'])\n"
          ]
        },
        {
          "output_type": "stream",
          "name": "stderr",
          "text": [
            "test_2_as_a_prime_number (__main__.TestPrimeNumbers) ... ok\n",
            "test_3_as_a_prime_number (__main__.TestPrimeNumbers) ... ok\n",
            "test_50_as_not_a_prime_number (__main__.TestPrimeNumbers) ... ok\n",
            "test_6_as_not_a_prime_number (__main__.TestPrimeNumbers) ... ok\n",
            "test_multiple_zeros (__main__.TestZeros) ... ok\n",
            "test_no_zeros (__main__.TestZeros) ... ok\n",
            "test_number_only_with_zeros (__main__.TestZeros) ... ok\n",
            "test_one_zero (__main__.TestZeros) ... ok\n",
            "\n",
            "----------------------------------------------------------------------\n",
            "Ran 39 tests in 0.084s\n",
            "\n",
            "OK\n"
          ]
        }
      ],
      "source": [
        "import unittest\n",
        "\n",
        "\n",
        "class TestHiddenPassword(unittest.TestCase):\n",
        "\n",
        "    def test_password_len_divisible_by_3(self):\n",
        "        password = \"password1234\"\n",
        "        hidden_password = hide_password(password)\n",
        "        self.assertEqual(hidden_password, \"pa*sw*rd*23*\")\n",
        "\n",
        "    def test_no_password(self):\n",
        "        password = \"\"\n",
        "        hidden_password = hide_password(password)\n",
        "        self.assertEqual(hidden_password, \"\")\n",
        "\n",
        "    def test_password_len_divisible_by_3_minus_1(self):\n",
        "        password = \"password123\"\n",
        "        hidden_password = hide_password(password)\n",
        "        self.assertEqual(hidden_password, \"pa*sw*rd*23\")\n",
        "\n",
        "    def test_password_len_divisible_by_3_minus_2(self):\n",
        "        password = \"password12\"\n",
        "        hidden_password = hide_password(password)\n",
        "        self.assertEqual(hidden_password, \"pa*sw*rd*2\")\n",
        "\n",
        "    def test_password_mega_length(self):\n",
        "        password = \"a\"*300\n",
        "        hidden_password = hide_password(password)\n",
        "        self.assertTrue(hidden_password.count(\"*\") == 100)\n",
        "\n",
        "\n",
        "if __name__ == '__main__':\n",
        "    unittest.main(argv=[''], verbosity=2, exit=False)\n"
      ]
    },
    {
      "cell_type": "markdown",
      "id": "kvZlPKxTGCSx",
      "metadata": {
        "id": "kvZlPKxTGCSx"
      },
      "source": [
        "### **<font color='#306998'>TASK </font><font color='#ffd33b'>14</font>** PALINDROME\n",
        "Write a function to check if the string given as an input argument is a `palindrome`. Hint: A palindrome is a string that when read from left to right is exactly the same way as when read from right to left, such as \"level\".\n",
        "\n",
        "For ease of use, assume that the input string will always be one word. We assume that the empty string is a palindrome."
      ]
    },
    {
      "cell_type": "code",
      "execution_count": null,
      "id": "AO9m0gPdkJ--",
      "metadata": {
        "id": "AO9m0gPdkJ--",
        "colab": {
          "base_uri": "https://localhost:8080/"
        },
        "outputId": "997dce70-92f2-4559-ff4d-4a41ee890ae2"
      },
      "outputs": [
        {
          "output_type": "stream",
          "name": "stdout",
          "text": [
            "Test word: kajak\n",
            "True\n"
          ]
        }
      ],
      "source": [
        "def check_if_palindrome(word):\n",
        "  word1 = ''\n",
        "  for i in range(len(word)):\n",
        "    word1 = word[i] + word1\n",
        "\n",
        "  #print(word1)\n",
        "  if word == word1:\n",
        "    return True\n",
        "  else:\n",
        "    return False\n",
        "\n",
        "  pass\n",
        "\n",
        "if __name__ == '__main__':\n",
        "  text = input(\"Test word: \")\n",
        "  print(check_if_palindrome(text))"
      ]
    },
    {
      "cell_type": "code",
      "execution_count": null,
      "id": "fO8GhfLNhg0B",
      "metadata": {
        "id": "fO8GhfLNhg0B",
        "colab": {
          "base_uri": "https://localhost:8080/"
        },
        "outputId": "21d6e5d0-f4a0-4575-fb79-2010e78fd010"
      },
      "outputs": [
        {
          "output_type": "stream",
          "name": "stderr",
          "text": [
            "test_many_digits (__main__.TestDigits) ... ok\n",
            "test_one_digit (__main__.TestDigits) ... ok\n",
            "test_two_digits (__main__.TestDigits) ... ok\n",
            "test_double_signs_output_for_empty_string (__main__.TestDoubleSigns) ... ok\n",
            "test_one_letter_string (__main__.TestDoubleSigns) ... ok\n",
            "test_python_string_written_in_small_and_big_letters (__main__.TestDoubleSigns) ... ok\n",
            "test_python_string_written_in_small_letters (__main__.TestDoubleSigns) ... ok\n",
            "test_all_numbers_from_the_list_are_even (__main__.TestEvenNumbers) ... ok\n",
            "test_few_numbers_from_the_list_are_even (__main__.TestEvenNumbers) ... ok\n",
            "test_no_even_numbers_in_the_list (__main__.TestEvenNumbers) ... ok\n",
            "test_no_numbers_in_the_list_and_no_evens (__main__.TestEvenNumbers) ... ok\n",
            "test_numbers_with_zero_inside_the_list (__main__.TestEvenNumbers) ... ok\n",
            "test_no_password (__main__.TestHiddenPassword) ... ok\n",
            "test_password_len_divisible_by_3 (__main__.TestHiddenPassword) ... ok\n",
            "test_password_len_divisible_by_3_minus_1 (__main__.TestHiddenPassword) ... ok\n",
            "test_password_len_divisible_by_3_minus_2 (__main__.TestHiddenPassword) ... ok\n",
            "test_password_mega_length (__main__.TestHiddenPassword) ... ok\n",
            "test_both_strings_are_empty (__main__.TestMergeStrings) ... ok\n",
            "test_first_str_empty_other_non_emtpy (__main__.TestMergeStrings) ... ok\n",
            "test_first_str_longer_than_other (__main__.TestMergeStrings) ... ok\n",
            "test_first_str_non_empty_other_emtpy (__main__.TestMergeStrings) ... ok\n",
            "test_first_str_shorter_than_other (__main__.TestMergeStrings) ... ok\n",
            "test_strings_with_the_same_length (__main__.TestMergeStrings) ... ok\n",
            "test_no_product_prize (__main__.TestNettoPrize) ... ok\n",
            "test_one_product_with_100_percent_tax (__main__.TestNettoPrize) ... ok\n",
            "test_one_product_with_10_percent_tax (__main__.TestNettoPrize) ... ok\n",
            "test_one_product_with_zero_percent_tax (__main__.TestNettoPrize) ... ok\n",
            "test_two_products_with_different_percent_tax (__main__.TestNettoPrize) ... ok\n",
            "test_empty_string_as_a_palindrome (__main__.TestPalindrome) ... ok\n",
            "test_kajak_as_a_palindrome (__main__.TestPalindrome) ... ok\n",
            "test_random_word_to_not_be_a_palindrome (__main__.TestPalindrome) ... ok\n",
            "test_word_with_even_amount_of_letters_as_a_palindrome (__main__.TestPalindrome) ... ok\n",
            "test_0_as_not_a_prime_number (__main__.TestPrimeNumbers) ... ok\n",
            "test_19_as_a_prime_number (__main__.TestPrimeNumbers) ... ok\n",
            "test_1_as_not_a_prime_number (__main__.TestPrimeNumbers) ... ok\n",
            "test_2_as_a_prime_number (__main__.TestPrimeNumbers) ... ok\n",
            "test_3_as_a_prime_number (__main__.TestPrimeNumbers) ... ok\n",
            "test_50_as_not_a_prime_number (__main__.TestPrimeNumbers) ... ok\n",
            "test_6_as_not_a_prime_number (__main__.TestPrimeNumbers) ... ok\n",
            "test_multiple_zeros (__main__.TestZeros) ... ok\n",
            "test_no_zeros (__main__.TestZeros) ... ok\n",
            "test_number_only_with_zeros (__main__.TestZeros) ... ok\n",
            "test_one_zero (__main__.TestZeros) ... ok\n",
            "\n",
            "----------------------------------------------------------------------\n",
            "Ran 43 tests in 0.108s\n",
            "\n",
            "OK\n"
          ]
        },
        {
          "output_type": "stream",
          "name": "stdout",
          "text": [
            "dict_keys([])\n",
            "dict_keys(['apples'])\n",
            "Tax is bigger than 100% !\n",
            "dict_keys(['apples'])\n",
            "dict_keys(['apples'])\n",
            "Tax is smaller than 0% !\n",
            "dict_keys(['apples', 'milk'])\n"
          ]
        }
      ],
      "source": [
        "import unittest\n",
        "\n",
        "\n",
        "class TestPalindrome(unittest.TestCase):\n",
        "\n",
        "    def test_empty_string_as_a_palindrome(self):\n",
        "        string = \"\"\n",
        "        is_palindrome = check_if_palindrome(string)\n",
        "        self.assertIs(is_palindrome, True)  # Note the method changes: assertTrue, not assertEqual\n",
        "                                            # here we check if is_palindrome is True\n",
        "\n",
        "    def test_kajak_as_a_palindrome(self):\n",
        "        string = \"kajak\"\n",
        "        is_palindrome = check_if_palindrome(string)\n",
        "        self.assertIs(is_palindrome, True)\n",
        "\n",
        "    def test_random_word_to_not_be_a_palindrome(self):\n",
        "        string = \"random_string\"\n",
        "        is_palindrome = check_if_palindrome(string)\n",
        "        self.assertIs(is_palindrome, False)  # Now assertFalse, we check random_string is not a palindrome\n",
        "\n",
        "    def test_word_with_even_amount_of_letters_as_a_palindrome(self):\n",
        "        string = \"abccba\"\n",
        "        is_palindrome = check_if_palindrome(string)\n",
        "        self.assertIs(is_palindrome, True)\n",
        "\n",
        "\n",
        "if __name__ == '__main__':\n",
        "    unittest.main(argv=[''], verbosity=2, exit=False)\n"
      ]
    },
    {
      "cell_type": "markdown",
      "id": "cd0VHUqzGDT9",
      "metadata": {
        "id": "cd0VHUqzGDT9"
      },
      "source": [
        "### **<font color='#306998'>TASK </font><font color='#ffd33b'>15</font>** INTERSECTION\n",
        "Write a function that takes two sets (sets) as input parameters and returns the numbers that are in both of them.\n",
        "\n",
        "The function should return a set of numbers repeated across both sets. If no such number exists, the function should return an empty set.\n",
        "\n",
        "```python\n",
        "    # Note: in Python, an empty set (set) is declared like this:\n",
        "    >> empty = set()\n",
        "    # and not like this:\n",
        "    >> empty = {}  # this is how a dictionary is declared!\n",
        "```\n",
        "\n",
        "Try to solve the task in different ways (not only by using `set1 & set2` which in short establishes the intersection part of both sets.\n"
      ]
    },
    {
      "cell_type": "code",
      "execution_count": null,
      "id": "VlulnLhMijIu",
      "metadata": {
        "id": "VlulnLhMijIu"
      },
      "outputs": [],
      "source": [
        "def find_common_numbers(set1, set2):\n",
        "    \"\"\"Finds common numbers from a group of sets.\n",
        "\n",
        "    :param set1: the first number set.\n",
        "    :param set2: the second number set.\n",
        "\n",
        "    :return: a new set, intersection of set1 and set2.\n",
        "    \"\"\"\n",
        "    #result = set1.intersection(set2)  #variant 1\n",
        "    #result = set1 & set2              #variant 2\n",
        "\n",
        "    result = set()                    #variant 3\n",
        "    for val in set1:\n",
        "      if val in set2:\n",
        "        result.add(val)\n",
        "\n",
        "    #print(result)\n",
        "\n",
        "    return result\n",
        "    pass\n"
      ]
    },
    {
      "cell_type": "code",
      "execution_count": null,
      "id": "YwaOGNWoiyNF",
      "metadata": {
        "id": "YwaOGNWoiyNF",
        "colab": {
          "base_uri": "https://localhost:8080/"
        },
        "outputId": "065c7be7-04c4-458c-d984-d47f28c771f4"
      },
      "outputs": [
        {
          "output_type": "stream",
          "name": "stderr",
          "text": [
            "test_one_empty_set (__main__.MyTestCase) ... ok\n",
            "test_two_different_sets_with_few_common_numbers (__main__.MyTestCase) ... ok\n",
            "test_two_identical_sets (__main__.MyTestCase) ... ok\n",
            "test_two_sets_with_no_common_numbers (__main__.MyTestCase) ... ok\n",
            "test_many_digits (__main__.TestDigits) ... ok\n",
            "test_one_digit (__main__.TestDigits) ... ok\n",
            "test_two_digits (__main__.TestDigits) ... ok\n",
            "test_double_signs_output_for_empty_string (__main__.TestDoubleSigns) ... ok\n",
            "test_one_letter_string (__main__.TestDoubleSigns) ... ok\n",
            "test_python_string_written_in_small_and_big_letters (__main__.TestDoubleSigns) ... ok\n",
            "test_python_string_written_in_small_letters (__main__.TestDoubleSigns) ... ok\n",
            "test_all_numbers_from_the_list_are_even (__main__.TestEvenNumbers) ... ok\n",
            "test_few_numbers_from_the_list_are_even (__main__.TestEvenNumbers) ... ok\n",
            "test_no_even_numbers_in_the_list (__main__.TestEvenNumbers) ... ok\n",
            "test_no_numbers_in_the_list_and_no_evens (__main__.TestEvenNumbers) ... ok\n",
            "test_numbers_with_zero_inside_the_list (__main__.TestEvenNumbers) ... ok\n",
            "test_no_password (__main__.TestHiddenPassword) ... ok\n",
            "test_password_len_divisible_by_3 (__main__.TestHiddenPassword) ... ok\n",
            "test_password_len_divisible_by_3_minus_1 (__main__.TestHiddenPassword) ... ok\n",
            "test_password_len_divisible_by_3_minus_2 (__main__.TestHiddenPassword) ... ok\n",
            "test_password_mega_length (__main__.TestHiddenPassword) ... ok\n",
            "test_both_strings_are_empty (__main__.TestMergeStrings) ... ok\n",
            "test_first_str_empty_other_non_emtpy (__main__.TestMergeStrings) ... ok\n",
            "test_first_str_longer_than_other (__main__.TestMergeStrings) ... ok\n",
            "test_first_str_non_empty_other_emtpy (__main__.TestMergeStrings) ... ok\n",
            "test_first_str_shorter_than_other (__main__.TestMergeStrings) ... ok\n",
            "test_strings_with_the_same_length (__main__.TestMergeStrings) ... ok\n",
            "test_no_product_prize (__main__.TestNettoPrize) ... ok\n",
            "test_one_product_with_100_percent_tax (__main__.TestNettoPrize) ... ok\n",
            "test_one_product_with_10_percent_tax (__main__.TestNettoPrize) ... ok\n",
            "test_one_product_with_zero_percent_tax (__main__.TestNettoPrize) ... ok\n",
            "test_two_products_with_different_percent_tax (__main__.TestNettoPrize) ... ok\n",
            "test_empty_string_as_a_palindrome (__main__.TestPalindrome) ... ok\n",
            "test_kajak_as_a_palindrome (__main__.TestPalindrome) ... ok\n",
            "test_random_word_to_not_be_a_palindrome (__main__.TestPalindrome) ... ok\n",
            "test_word_with_even_amount_of_letters_as_a_palindrome (__main__.TestPalindrome) ... ok\n",
            "test_0_as_not_a_prime_number (__main__.TestPrimeNumbers) ... ok\n",
            "test_19_as_a_prime_number (__main__.TestPrimeNumbers) ... ok\n",
            "test_1_as_not_a_prime_number (__main__.TestPrimeNumbers) ... ok\n",
            "test_2_as_a_prime_number (__main__.TestPrimeNumbers) ... ok\n",
            "test_3_as_a_prime_number (__main__.TestPrimeNumbers) ... ok\n",
            "test_50_as_not_a_prime_number (__main__.TestPrimeNumbers) ... ok\n",
            "test_6_as_not_a_prime_number (__main__.TestPrimeNumbers) ... ok\n",
            "test_multiple_zeros (__main__.TestZeros) ... ok\n",
            "test_no_zeros (__main__.TestZeros) ... ok\n",
            "test_number_only_with_zeros (__main__.TestZeros) ... ok\n",
            "test_one_zero (__main__.TestZeros) ... ok\n",
            "\n",
            "----------------------------------------------------------------------\n",
            "Ran 47 tests in 0.105s\n",
            "\n",
            "OK\n"
          ]
        },
        {
          "output_type": "stream",
          "name": "stdout",
          "text": [
            "dict_keys([])\n",
            "dict_keys(['apples'])\n",
            "Tax is bigger than 100% !\n",
            "dict_keys(['apples'])\n",
            "dict_keys(['apples'])\n",
            "Tax is smaller than 0% !\n",
            "dict_keys(['apples', 'milk'])\n"
          ]
        }
      ],
      "source": [
        "import unittest\n",
        "\n",
        "\n",
        "class MyTestCase(unittest.TestCase):\n",
        "\n",
        "    def test_one_empty_set(self):\n",
        "        set1 = {1, 2, 3, 4}\n",
        "        set2 = set()\n",
        "        self.assertEqual(find_common_numbers(set1, set2), set())\n",
        "\n",
        "    def test_two_sets_with_no_common_numbers(self):\n",
        "        set1 = {1, 2, 3, 4}\n",
        "        set2 = {5, 6, 7, 8}\n",
        "        self.assertEqual(find_common_numbers(set1, set2), set())\n",
        "\n",
        "    def test_two_identical_sets(self):\n",
        "        set1 = set2 = {1, 2, 3, 4}\n",
        "        self.assertEqual(find_common_numbers(set1, set2), set1)\n",
        "\n",
        "    def test_two_different_sets_with_few_common_numbers(self):\n",
        "        set1 = {1, 2, 3, 4}\n",
        "        set2 = {2, 3, 5, 7, 9, 10}\n",
        "        self.assertEqual(find_common_numbers(set1, set2), {2, 3})\n",
        "\n",
        "\n",
        "if __name__ == '__main__':\n",
        "    unittest.main(argv=[''], verbosity=2, exit=False)\n"
      ]
    },
    {
      "cell_type": "markdown",
      "id": "x7zQTlNhizvK",
      "metadata": {
        "id": "x7zQTlNhizvK"
      },
      "source": [
        "### **<font color='#306998'>TASK </font><font color='#ffd33b'>15</font>** CARD GAME\n",
        "Create a simple war card game simulator.\n",
        "\n",
        "Your function is to deciding which card wins. Parameters are the characters `card1` and `card2`. They can take the following values:\n",
        "```python\n",
        "[\"1\", \"2\", \"3\", ..., \"10\", \"J\", \"D\", \"K\", \"A\"]\n",
        "```\n",
        "Note that the letters have their \"size\" assigned.\n",
        "\n",
        "The function should return 1 if player_1 wins, and 2 - if `player_2` wins, or 0 if the cards are the same.\n",
        "\n",
        "```python\n",
        "    # Examples:\n",
        "    >> determine_the_winner(\"5\", \"2\")\n",
        "    1\n",
        "\n",
        "    >> determine_the_winner(\"D\", \"A\")\n",
        "    2\n",
        "\n",
        "    >> determine_the_winner(\"K\", \"8\")\n",
        "    1\n",
        "\n",
        "    >> determine_the_winner(\"4\", \"4\")\n",
        "    0\n",
        "```"
      ]
    },
    {
      "cell_type": "code",
      "execution_count": null,
      "id": "Yjcio5ngi7Ds",
      "metadata": {
        "id": "Yjcio5ngi7Ds",
        "colab": {
          "base_uri": "https://localhost:8080/"
        },
        "outputId": "432320e0-5ad3-4497-8a1f-74af3bfb3884"
      },
      "outputs": [
        {
          "output_type": "stream",
          "name": "stdout",
          "text": [
            "Card 1: D\n",
            "Card 2: 5\n",
            "1\n"
          ]
        }
      ],
      "source": [
        "def determine_the_winner(card1, card2):\n",
        "    \"\"\"Indicates a victorious skirmish in the war game.\n",
        "\n",
        "     :param card1: the letter (string) representing player 1's card.\n",
        "     :param card2: the letter (string) representing player 2's card.\n",
        "\n",
        "     :return: 0 for a tie, 1 if Player 1 wins, 2 for Player 2 to win.\n",
        "    \"\"\"\n",
        "    number_cards = [str(i) for i in range(1, 11)]\n",
        "    number_cards += [\"J\", \"D\", \"K\", \"A\"]\n",
        "    index_card_1 = number_cards.index(card1)\n",
        "    index_card_2 = number_cards.index(card2)\n",
        "\n",
        "    #print(index_card_1,index_card_2)\n",
        "    if index_card_1 == index_card_2: return 0\n",
        "    elif index_card_1 > index_card_2: return 1\n",
        "    else: return 2\n",
        "\n",
        "    pass\n",
        "\n",
        "if __name__ == '__main__':\n",
        "  c1 = input(\"Card 1: \")\n",
        "  c2 = input(\"Card 2: \")\n",
        "  print(determine_the_winner(c1,c2))\n"
      ]
    },
    {
      "cell_type": "code",
      "execution_count": null,
      "id": "ACpwAN4TjuSO",
      "metadata": {
        "id": "ACpwAN4TjuSO",
        "colab": {
          "base_uri": "https://localhost:8080/"
        },
        "outputId": "d0989590-57c6-4f13-e928-4a095c14585e"
      },
      "outputs": [
        {
          "output_type": "stream",
          "name": "stderr",
          "text": [
            "test_one_empty_set (__main__.MyTestCase) ... ok\n",
            "test_two_different_sets_with_few_common_numbers (__main__.MyTestCase) ... ok\n",
            "test_two_identical_sets (__main__.MyTestCase) ... ok\n",
            "test_two_sets_with_no_common_numbers (__main__.MyTestCase) ... ok\n",
            "test_many_digits (__main__.TestDigits) ... ok\n",
            "test_one_digit (__main__.TestDigits) ... ok\n",
            "test_two_digits (__main__.TestDigits) ... ok\n",
            "test_double_signs_output_for_empty_string (__main__.TestDoubleSigns) ... ok\n",
            "test_one_letter_string (__main__.TestDoubleSigns) ... ok\n",
            "test_python_string_written_in_small_and_big_letters (__main__.TestDoubleSigns) ... ok\n",
            "test_python_string_written_in_small_letters (__main__.TestDoubleSigns) ... ok\n",
            "test_all_numbers_from_the_list_are_even (__main__.TestEvenNumbers) ... ok\n",
            "test_few_numbers_from_the_list_are_even (__main__.TestEvenNumbers) ... ok\n",
            "test_no_even_numbers_in_the_list (__main__.TestEvenNumbers) ... ok\n",
            "test_no_numbers_in_the_list_and_no_evens (__main__.TestEvenNumbers) ... ok\n",
            "test_numbers_with_zero_inside_the_list (__main__.TestEvenNumbers) ... ok\n",
            "test_no_password (__main__.TestHiddenPassword) ... ok\n",
            "test_password_len_divisible_by_3 (__main__.TestHiddenPassword) ... ok\n",
            "test_password_len_divisible_by_3_minus_1 (__main__.TestHiddenPassword) ... ok\n",
            "test_password_len_divisible_by_3_minus_2 (__main__.TestHiddenPassword) ... ok\n",
            "test_password_mega_length (__main__.TestHiddenPassword) ... ok\n",
            "test_both_strings_are_empty (__main__.TestMergeStrings) ... ok\n",
            "test_first_str_empty_other_non_emtpy (__main__.TestMergeStrings) ... ok\n",
            "test_first_str_longer_than_other (__main__.TestMergeStrings) ... ok\n",
            "test_first_str_non_empty_other_emtpy (__main__.TestMergeStrings) ... ok\n",
            "test_first_str_shorter_than_other (__main__.TestMergeStrings) ... ok\n",
            "test_strings_with_the_same_length (__main__.TestMergeStrings) ... ok\n",
            "test_no_product_prize (__main__.TestNettoPrize) ... ok\n",
            "test_one_product_with_100_percent_tax (__main__.TestNettoPrize) ... ok\n",
            "test_one_product_with_10_percent_tax (__main__.TestNettoPrize) ... ok\n",
            "test_one_product_with_zero_percent_tax (__main__.TestNettoPrize) ... ok\n",
            "test_two_products_with_different_percent_tax (__main__.TestNettoPrize) ... ok\n",
            "test_empty_string_as_a_palindrome (__main__.TestPalindrome) ... ok\n",
            "test_kajak_as_a_palindrome (__main__.TestPalindrome) ... ok\n",
            "test_random_word_to_not_be_a_palindrome (__main__.TestPalindrome) ... ok\n"
          ]
        },
        {
          "output_type": "stream",
          "name": "stdout",
          "text": [
            "dict_keys([])\n",
            "dict_keys(['apples'])\n",
            "Tax is bigger than 100% !\n",
            "dict_keys(['apples'])\n",
            "dict_keys(['apples'])\n",
            "Tax is smaller than 0% !\n",
            "dict_keys(['apples', 'milk'])\n"
          ]
        },
        {
          "output_type": "stream",
          "name": "stderr",
          "text": [
            "test_word_with_even_amount_of_letters_as_a_palindrome (__main__.TestPalindrome) ... ok\n",
            "test_0_as_not_a_prime_number (__main__.TestPrimeNumbers) ... ok\n",
            "test_19_as_a_prime_number (__main__.TestPrimeNumbers) ... ok\n",
            "test_1_as_not_a_prime_number (__main__.TestPrimeNumbers) ... ok\n",
            "test_2_as_a_prime_number (__main__.TestPrimeNumbers) ... ok\n",
            "test_3_as_a_prime_number (__main__.TestPrimeNumbers) ... ok\n",
            "test_50_as_not_a_prime_number (__main__.TestPrimeNumbers) ... ok\n",
            "test_6_as_not_a_prime_number (__main__.TestPrimeNumbers) ... ok\n",
            "test_ace_as_a_strongest_card (__main__.TestWarCardPlay) ... ok\n",
            "test_card1_wins_with_digit_card (__main__.TestWarCardPlay) ... ok\n",
            "test_card1_wins_with_figure_card (__main__.TestWarCardPlay) ... ok\n",
            "test_card1_wins_with_figure_card_vs_figure_card (__main__.TestWarCardPlay) ... ok\n",
            "test_card2_wins_with_digit_card (__main__.TestWarCardPlay) ... ok\n",
            "test_card2_wins_with_figure_card_vs_figure_card (__main__.TestWarCardPlay) ... ok\n",
            "test_tie_between_cards (__main__.TestWarCardPlay) ... ok\n",
            "test_two_as_a_weakest_card (__main__.TestWarCardPlay) ... ok\n",
            "test_multiple_zeros (__main__.TestZeros) ... ok\n",
            "test_no_zeros (__main__.TestZeros) ... ok\n",
            "test_number_only_with_zeros (__main__.TestZeros) ... ok\n",
            "test_one_zero (__main__.TestZeros) ... ok\n",
            "\n",
            "----------------------------------------------------------------------\n",
            "Ran 55 tests in 0.271s\n",
            "\n",
            "OK\n"
          ]
        }
      ],
      "source": [
        "import unittest\n",
        "\n",
        "\n",
        "class TestWarCardPlay(unittest.TestCase):\n",
        "\n",
        "    def test_tie_between_cards(self):\n",
        "        self.assertEqual(determine_the_winner(\"D\", \"D\"), 0)\n",
        "\n",
        "    def test_card1_wins_with_digit_card(self):\n",
        "        self.assertEqual(determine_the_winner(\"5\", \"3\"), 1)\n",
        "\n",
        "    def test_card1_wins_with_figure_card(self):\n",
        "        self.assertEqual(determine_the_winner(\"J\", \"8\"), 1)\n",
        "\n",
        "    def test_card1_wins_with_figure_card_vs_figure_card(self):\n",
        "        self.assertEqual(determine_the_winner(\"A\", \"K\"), 1)\n",
        "\n",
        "    def test_card2_wins_with_figure_card_vs_figure_card(self):\n",
        "        self.assertEqual(determine_the_winner(\"D\", \"K\"), 2)\n",
        "\n",
        "    def test_card2_wins_with_digit_card(self):\n",
        "        self.assertEqual(determine_the_winner(\"3\", \"10\"), 2)\n",
        "\n",
        "    def test_ace_as_a_strongest_card(self):\n",
        "        self.assertEqual(determine_the_winner(\"A\", \"2\"), 1)\n",
        "        self.assertEqual(determine_the_winner(\"A\", \"3\"), 1)\n",
        "        self.assertEqual(determine_the_winner(\"A\", \"4\"), 1)\n",
        "        self.assertEqual(determine_the_winner(\"A\", \"5\"), 1)\n",
        "        self.assertEqual(determine_the_winner(\"A\", \"6\"), 1)\n",
        "        self.assertEqual(determine_the_winner(\"A\", \"7\"), 1)\n",
        "        self.assertEqual(determine_the_winner(\"A\", \"8\"), 1)\n",
        "        self.assertEqual(determine_the_winner(\"A\", \"9\"), 1)\n",
        "        self.assertEqual(determine_the_winner(\"A\", \"10\"), 1)\n",
        "        self.assertEqual(determine_the_winner(\"A\", \"J\"), 1)\n",
        "        self.assertEqual(determine_the_winner(\"A\", \"D\"), 1)\n",
        "        self.assertEqual(determine_the_winner(\"A\", \"K\"), 1)\n",
        "        self.assertEqual(determine_the_winner(\"A\", \"A\"), 0)\n",
        "\n",
        "    def test_two_as_a_weakest_card(self):\n",
        "        self.assertEqual(determine_the_winner(\"2\", \"2\"), 0)\n",
        "        self.assertEqual(determine_the_winner(\"2\", \"3\"), 2)\n",
        "        self.assertEqual(determine_the_winner(\"2\", \"4\"), 2)\n",
        "        self.assertEqual(determine_the_winner(\"2\", \"5\"), 2)\n",
        "        self.assertEqual(determine_the_winner(\"2\", \"6\"), 2)\n",
        "        self.assertEqual(determine_the_winner(\"2\", \"7\"), 2)\n",
        "        self.assertEqual(determine_the_winner(\"2\", \"8\"), 2)\n",
        "        self.assertEqual(determine_the_winner(\"2\", \"9\"), 2)\n",
        "        self.assertEqual(determine_the_winner(\"2\", \"10\"), 2)\n",
        "        self.assertEqual(determine_the_winner(\"2\", \"J\"), 2)\n",
        "        self.assertEqual(determine_the_winner(\"2\", \"D\"), 2)\n",
        "        self.assertEqual(determine_the_winner(\"2\", \"K\"), 2)\n",
        "        self.assertEqual(determine_the_winner(\"2\", \"A\"), 2)\n",
        "\n",
        "\n",
        "if __name__ == '__main__':\n",
        "    unittest.main(argv=[''], verbosity=2, exit=False)\n"
      ]
    },
    {
      "cell_type": "code",
      "source": [
        "my_variable = ''  # Not sure if this is good practise.\n",
        "try:\n",
        "  my_variable = int(input(\"zadej číslo: \"))\n",
        "except:\n",
        "  print(\"Input is not a valid integer.\")\n",
        "\n",
        "print(my_variable)\n",
        "\n",
        "\n",
        "\"\"\"\n",
        "try:\n",
        "    user_input = input(\"Please enter an integer: \")\n",
        "    integer_value = int(user_input)\n",
        "    print(f\"Input is a valid integer: {integer_value}\")\n",
        "except ValueError:\n",
        "    print(\"Input is not a valid integer.\")\n",
        "\"\"\"\n"
      ],
      "metadata": {
        "colab": {
          "base_uri": "https://localhost:8080/",
          "height": 70
        },
        "id": "hj7HgAAHGVbj",
        "outputId": "160eb0a6-a1f5-4391-d068-36115f495b39"
      },
      "id": "hj7HgAAHGVbj",
      "execution_count": null,
      "outputs": [
        {
          "output_type": "stream",
          "name": "stdout",
          "text": [
            "zadej číslo: 5\n",
            "5\n"
          ]
        },
        {
          "output_type": "execute_result",
          "data": {
            "text/plain": [
              "'\\ntry:\\n    user_input = input(\"Please enter an integer: \")\\n    integer_value = int(user_input)\\n    print(f\"Input is a valid integer: {integer_value}\")\\nexcept ValueError:\\n    print(\"Input is not a valid integer.\")\\n'"
            ],
            "application/vnd.google.colaboratory.intrinsic+json": {
              "type": "string"
            }
          },
          "metadata": {},
          "execution_count": 28
        }
      ]
    }
  ],
  "metadata": {
    "colab": {
      "collapsed_sections": [
        "aQwdjrhHE7LU"
      ],
      "provenance": [],
      "include_colab_link": true
    },
    "gpuClass": "standard",
    "kernelspec": {
      "display_name": "Python 3",
      "name": "python3"
    },
    "language_info": {
      "name": "python"
    }
  },
  "nbformat": 4,
  "nbformat_minor": 5
}