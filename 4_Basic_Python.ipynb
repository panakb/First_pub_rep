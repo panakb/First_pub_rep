{
  "cells": [
    {
      "cell_type": "markdown",
      "metadata": {
        "id": "view-in-github",
        "colab_type": "text"
      },
      "source": [
        "<a href=\"https://colab.research.google.com/github/panakb/First_pub_rep/blob/master/4_Basic_Python.ipynb\" target=\"_parent\"><img src=\"https://colab.research.google.com/assets/colab-badge.svg\" alt=\"Open In Colab\"/></a>"
      ]
    },
    {
      "cell_type": "markdown",
      "source": [
        "<img height=\"180px\" src=\"https://drive.google.com/uc?export=view&id=141XOz6N4nk8Ru1sAl7vOsAToCLrSFCAX\" alt=\"SDA logo\" align=\"left\" hspace=\"30px\" vspace=\"50px\"/>\n",
        "\n",
        "# Welcome to your first notebook with SDA!\n",
        "\n",
        "During the classes we will mostly use [Google Colaboratory](https://colab.research.google.com/?hl=en) which is a free Jupyter notebook environment that requires no setup and runs entirely in the cloud.\n",
        "\n",
        "However, for bigger projects, especially involving Deep Learning and/or big data reading, it might be a better choice to setup Jupyter Notebook or Jupyter Lab on your computer. Also, it is worth noticing that there is a great number of useful extensions (see [nbextensions](https://jupyter-contrib-nbextensions.readthedocs.io/en/latest/index.html) and [jupyter-labextension](https://jupyterlab.readthedocs.io/en/stable/user/extensions.html)) not available for Colab users."
      ],
      "metadata": {
        "id": "xATcgBbdPcxG"
      },
      "id": "xATcgBbdPcxG"
    },
    {
      "cell_type": "markdown",
      "source": [
        "<img src=\"https://drive.google.com/uc?export=view&id=13lIQ4kT5FBinVdulX23JP7Fe-RyFldSN\" alt=\"Where are we?\" align=\"left\" width=\"1000px\" hspace=\"10px\" vspace=\"10px\"/>"
      ],
      "metadata": {
        "id": "bXhUxz473XO6"
      },
      "id": "bXhUxz473XO6"
    },
    {
      "cell_type": "markdown",
      "source": [
        "<img src=\"https://drive.google.com/uc?export=view&id=1UO2urRciECzoKE_vHy4RMGfFbkOWOGlW\" alt=\"SDA logo\" align=\"left\" width=\"100px\" hspace=\"10px\" vspace=\"10px\"/>\n",
        "\n",
        "# Introduction to Python\n",
        "Start by reading through the presentation slides\n",
        "\n",
        "<br><br>\n",
        "\n",
        "<a href=\"https://docs.google.com/presentation/d/1cPU4scy5GikxkuAC6Cw1Lif7Lfyd_R0t/edit#slide=id.p1\">\n",
        "<img src=\"https://drive.google.com/uc?export=view&id=1qna4WPAVKVNyb78btneTwqlJ9pbi615c\" title=\"Presentation slides\" width=\"600\" align=\"left\" hspace=\"20px\" vspace=\"20px\"/>"
      ],
      "metadata": {
        "id": "r-8j5eCRdPjP"
      },
      "id": "r-8j5eCRdPjP"
    },
    {
      "cell_type": "markdown",
      "source": [
        "After the **<font color='#ed7d31'>BASIC PYTHON</font>** course you will:\n",
        "* get your first conctact with IDE\n",
        "* know the Python basics, incl.\n",
        "    * variables and data types\n",
        "    * basic operations (numeric and with strings)\n",
        "    * functions\n",
        "    * more complex types (lists, dictionaries, sets)\n",
        "    * logic and control flow\n",
        "    * for & while loops\n",
        "* practice❗"
      ],
      "metadata": {
        "id": "QM2YF20zrCCc"
      },
      "id": "QM2YF20zrCCc"
    },
    {
      "cell_type": "code",
      "source": [
        "print(\"Hello from SDA!\")"
      ],
      "metadata": {
        "colab": {
          "base_uri": "https://localhost:8080/"
        },
        "id": "tnn1JK2AY0Hj",
        "outputId": "0beee4cf-defc-44e8-9145-d41c0a36ac41"
      },
      "id": "tnn1JK2AY0Hj",
      "execution_count": null,
      "outputs": [
        {
          "output_type": "stream",
          "name": "stdout",
          "text": [
            "Hello from SDA!\n"
          ]
        }
      ]
    },
    {
      "cell_type": "markdown",
      "source": [
        "<img src=\"https://drive.google.com/uc?export=view&id=1UO2urRciECzoKE_vHy4RMGfFbkOWOGlW\" alt=\"SDA logo\" align=\"left\" width=\"100px\" hspace=\"10px\" vspace=\"10px\"/>\n",
        "<br>\n",
        "\n",
        "# Integrated Development Environments (IDEs)\n",
        "\n",
        "A software program known as an integrated development environment (IDE) offers complete tools for software development to computer programmers. It typically includes code editor (as well as compiler, interpreter), automation tools, and debuggers.\n",
        "\n",
        "IDEs that every Data Scientist should know are:\n",
        "* PyCharm\n",
        "* Jupyter Notebook (ev. Jupyter Lab)\n",
        "* Google Colab"
      ],
      "metadata": {
        "id": "XLsj9bN9dkwV"
      },
      "id": "XLsj9bN9dkwV"
    },
    {
      "cell_type": "markdown",
      "source": [
        "<img src=\"https://drive.google.com/uc?export=view&id=141XOz6N4nk8Ru1sAl7vOsAToCLrSFCAX\" alt=\"SDA logo\" width=\"150\" align='right'/>\n",
        "\n",
        "## Jupyter Notebook\n",
        "\n",
        "See the slides [Basic Python](https://docs.google.com/presentation/d/1cPU4scy5GikxkuAC6Cw1Lif7Lfyd_R0t/edit#slide=id.g228bb79a62a_0_21)."
      ],
      "metadata": {
        "id": "zO8iBLiz5xKC"
      },
      "id": "zO8iBLiz5xKC"
    },
    {
      "cell_type": "markdown",
      "source": [
        "<img src=\"https://drive.google.com/uc?export=view&id=141XOz6N4nk8Ru1sAl7vOsAToCLrSFCAX\" alt=\"SDA logo\" width=\"150\" align='right'/>\n",
        "\n",
        "## Google Colab\n",
        "\n",
        "<img src=\"https://drive.google.com/uc?export=view&id=1WHWWVL33xViMz6mDorKkDH82Cv4BigQi\" alt=\"Google Colab\" align=\"left\" width=\"100px\" hspace=\"10px\" vspace=\"10px\"/>\n",
        "\n",
        "Google Colab is a **free cloud service** that allows you to share **Jupyter notebooks** with others without having to download, install, or run anything on your own computer outside of your browser. What is more, your notebooks can be edited simultaneously by several people who have access to it!\n",
        "\n",
        "To use Google Colab, all you need to do\n",
        "is install Google Chrome or the Firefox browser.\n",
        "Then go to the Google Colab website:\n",
        " https://colab.research.google.com/.\n",
        "\n",
        " <br>\n",
        " <br>"
      ],
      "metadata": {
        "id": "WoYDHyuk50Vt"
      },
      "id": "WoYDHyuk50Vt"
    },
    {
      "cell_type": "markdown",
      "source": [
        "<img src=\"https://drive.google.com/uc?export=view&id=1TJ1NdAFx0Bo8JDf3Vg1C9Lf2dcQAHFYG\" alt=\"Enter Google Colab\" align=\"right\" width=\"600px\" hspace=\"80px\" vspace=\"10px\"/>\n",
        "\n",
        "After entering the link, we get access to:\n",
        "* lots of sample notebooks\n",
        "* quick selection of recently used notebooks\n",
        "* searches on our **Google Drive** to which Google Colab is linked\n",
        "* our GitHub repository (if the URL was provided previously)\n",
        "* option to upload your old notebooks to the server\n",
        "* create a new notebook (Option: **<font color='#1972E7'>New notebook</font>**)\n"
      ],
      "metadata": {
        "id": "BJ2NLH-sTJFo"
      },
      "id": "BJ2NLH-sTJFo"
    },
    {
      "cell_type": "markdown",
      "source": [
        "### Interface\n",
        "\n",
        "The **Google Colab interface** is intuitive and doesn't differ much from that of Jupyter Notebook / Lab.\n",
        "\n",
        "<img src=\"https://drive.google.com/uc?export=view&id=1M28aPps94uK8zF7AwrJT_7NlkarfiitY\" alt=\"Enter Google Colab\" align=\"left\" width=\"1000px\" hspace=\"10px\" vspace=\"30px\"/>\n",
        "\n",
        "\n",
        "1. specify the file name\n",
        "2. toolbar\n",
        "3. sidebar\n",
        " * with table of contents\n",
        " * ready-to-use code snippets\n",
        " * tree of files visible and available for our use within the notebook\n",
        "4. quick addition of new cells\n",
        " * with code\n",
        " * markdown text)\n",
        "5. examplary code cell (here we can write our code; clicking on the arrow runs the code)\n",
        "6. comments section and shortcut to settings\n",
        "7. resources usage details\n",
        "8. cell formating option allowing you to\n",
        " * move the cell up, down\n",
        " * delete the cell\n",
        " * download a link to the cell\n",
        " * add a comment\n",
        " * and other code settings (such as font, line length, etc.)"
      ],
      "metadata": {
        "id": "HXy4lUtlUsHw"
      },
      "id": "HXy4lUtlUsHw"
    },
    {
      "cell_type": "markdown",
      "source": [
        "### Cell management\n",
        "\n",
        "We use code cells very similar to those of Jupyter. After executing the code, the result appears. When you hover over it, a cross icon appears; clicking on it deletes the set output."
      ],
      "metadata": {
        "id": "dDR1ZpiQ6yJT"
      },
      "id": "dDR1ZpiQ6yJT"
    },
    {
      "cell_type": "code",
      "source": [
        "0"
      ],
      "metadata": {
        "id": "U5sxOI615zzt",
        "colab": {
          "base_uri": "https://localhost:8080/"
        },
        "outputId": "747e5837-289c-451b-ce14-5de67b23bb6f"
      },
      "id": "U5sxOI615zzt",
      "execution_count": 1,
      "outputs": [
        {
          "output_type": "execute_result",
          "data": {
            "text/plain": [
              "0"
            ]
          },
          "metadata": {},
          "execution_count": 1
        }
      ]
    },
    {
      "cell_type": "markdown",
      "source": [
        "Text cells, as in the case of Jupyter, support the markdown and LaTeX languages, which can be helpful in writing various mathematical formulas (they are useful in machine learning, oh, they are useful so much 🤐).\n",
        "\n",
        "Here's how to write an algebraic expression with a square root\n",
        "* inline $\\sqrt{ax^2+bx+c}$\n",
        "* in a new line $$\\sqrt{ax^2+bx+c}$$\n",
        "\n",
        "More information can be found [here](https://colab.research.google.com/github/bebi103a/bebi103a.github.io/blob/master/lessons/00/intro_to_latex.ipynb)."
      ],
      "metadata": {
        "id": "kFBD4oUoZtC8"
      },
      "id": "kFBD4oUoZtC8"
    },
    {
      "cell_type": "markdown",
      "source": [
        "Right-clicking on a cell will open a context menu giving us a number of possibilities (similar to those in **<font color='red'>box 8</font>** above), for example:\n",
        "* downloading a link to a mobile phone and sending it directly to the person concerned\n",
        "* deleting, copying, cutting and pasting a cell elsewhere\n",
        "* running the code\n",
        "* or adding a comment\n",
        "* add a form"
      ],
      "metadata": {
        "id": "NWhAG8eVbfHD"
      },
      "id": "NWhAG8eVbfHD"
    },
    {
      "cell_type": "markdown",
      "source": [
        "### Save & share your work\n",
        "\n",
        "After selecting the `File` menu (see **<font color='red'>box 2</font>** above), we have several options to save our notebook:\n",
        "* saving the file to your Google Drive account\n",
        "* saving on GitHub (as a commit to our repository)\n",
        "* saving state internally in Colab\n",
        "\n",
        "Additionally, we can share the notebook with others by clicking the `Share` button (see **<font color='red'>box 6</font>** above).\n",
        "\n",
        "If necessary, we can export the contents of the notebook to a `.ipynb` or `.py` file and run or modify it from the IDE (e.g. PyCharm) or Jupyter Notebook / Lab level.\n"
      ],
      "metadata": {
        "id": "lx9GreS3b9zQ"
      },
      "id": "lx9GreS3b9zQ"
    },
    {
      "cell_type": "markdown",
      "source": [
        "### System commands\n",
        "\n",
        "Google Colab supports system commands that are not native to Python itself.\n",
        "\n",
        "Thanks to this, we can, for example, run the\n",
        "```bash\n",
        "!git clone\n",
        "```\n",
        "command without leaving the colab environment.\n",
        "\n",
        "For **common system commands** that can be used, type\n",
        "```bash\n",
        "!ls /bin\n",
        "```\n",
        "\n",
        "Note that bash commands are run by prefixing the command with an exclamation mark `!`.\n",
        "\n",
        "Some most useful examples are:\n",
        "* download dataset from the website with `!wget <ENTER URL>`\n",
        "* install missing Python libraries with `!pip install <LIBRARY>`\n",
        "* install missing applications with `!apt-get install <LIBRARY>`\n",
        "* run an existing `my_script.py` file with `!python my_script.py`\n",
        "* clone a git repository with `!git clone <REPOSITORY URL>`\n",
        "\n",
        "Moreover, it is possible to capture the results of such commands and save them in a Python variable for later use.\n",
        "Such a variable will be in the form of a list with elements pointing to the particular results of the command call."
      ],
      "metadata": {
        "id": "nYMoBG9NcqRT"
      },
      "id": "nYMoBG9NcqRT"
    },
    {
      "cell_type": "code",
      "source": [
        "current_working_dir = !pwd\n",
        "current_working_dir"
      ],
      "metadata": {
        "colab": {
          "base_uri": "https://localhost:8080/"
        },
        "id": "lpCyanUbdrHP",
        "outputId": "c624dad9-37dc-4290-d1e6-476b26e9a422"
      },
      "id": "lpCyanUbdrHP",
      "execution_count": null,
      "outputs": [
        {
          "output_type": "execute_result",
          "data": {
            "text/plain": [
              "['/content']"
            ]
          },
          "metadata": {},
          "execution_count": 8
        }
      ]
    },
    {
      "cell_type": "markdown",
      "source": [
        "### Launch external Python files\n",
        "\n",
        "Suppose we already have a Python code in development that is stored in Google Drive. It is possible to load this file and continue its further modification in Google Colaboratory.\n",
        "\n",
        "How to do it?\n",
        "\n",
        "1. Go to the **command palette** (select `Tools` → `Command palette` from the toolbar - see **<font color='red'>box 2</font>** - or press `Ctrl + Shift + P`).\n",
        "1. A search box will appear in which you should search for **Mount Drive**.\n",
        "1. After selecting your Google account and going through any possible verifications, the drive will be connected and we will gain access to the files located there from the Google Colab level.\n",
        "\n",
        "Alternatively, expand the tab `Files` from sidebar (see **<font color='red'>box 3</font>**) and select `Mount Drive`."
      ],
      "metadata": {
        "id": "t9YXb0Ule1FV"
      },
      "id": "t9YXb0Ule1FV"
    },
    {
      "cell_type": "code",
      "source": [
        "from google.colab import drive\n",
        "drive.mount('/content/drive')"
      ],
      "metadata": {
        "colab": {
          "base_uri": "https://localhost:8080/"
        },
        "id": "hTAALX2EfiTu",
        "outputId": "ea16ae69-a72b-4af5-934c-08a6e48fcdd9"
      },
      "id": "hTAALX2EfiTu",
      "execution_count": null,
      "outputs": [
        {
          "output_type": "stream",
          "name": "stdout",
          "text": [
            "Mounted at /content/drive\n"
          ]
        }
      ]
    },
    {
      "cell_type": "markdown",
      "source": [
        "The disk will be visible in the `/content` directory, you can check it by calling the system command\n",
        "```bash\n",
        "!ls /content\n",
        "```\n",
        "or in the sidebar after entering the `Files` tab.\n"
      ],
      "metadata": {
        "id": "lQw16J7KgFkG"
      },
      "id": "lQw16J7KgFkG"
    },
    {
      "cell_type": "code",
      "source": [
        "!ls /content"
      ],
      "metadata": {
        "colab": {
          "base_uri": "https://localhost:8080/"
        },
        "id": "YPbt0Fe1gQ2B",
        "outputId": "4494ff4e-78c7-4465-e8df-b28014443066"
      },
      "id": "YPbt0Fe1gQ2B",
      "execution_count": null,
      "outputs": [
        {
          "output_type": "stream",
          "name": "stdout",
          "text": [
            "drive  sample_data\n"
          ]
        }
      ]
    },
    {
      "cell_type": "markdown",
      "source": [
        "Running the selected python file is done by entering the command\n",
        "```bash\n",
        "!python /content/drive/<Drive_name>/further_path_to_file\n",
        "```\n",
        "\n",
        "Note that everyone can have a different directory tree in their Google drive and thus a different path to python files. Also, you can search for the files manually and `Copy path` by right-clicking.\n",
        "<br><br>"
      ],
      "metadata": {
        "id": "VBH0vdeOgR4z"
      },
      "id": "VBH0vdeOgR4z"
    },
    {
      "cell_type": "markdown",
      "source": [
        "<img src=\"https://drive.google.com/uc?export=view&id=1FLsPoBd5Ch-r1iuQnFEM70W0yLrst_zz\" alt=\"GPU\" title=\"GPU\" align=\"right\" width=\"500px\" hspace=\"50px\" vspace=\"10px\"/>\n",
        "\n",
        "### Using GPU\n",
        "\n",
        "To speed up the execution of all kinds of instructions, you can allocate a free GPU (Graphical Processor Unit) from a shared area in the cloud. This will be especially helpful for writing machine learning algorithms and executing the code.\n",
        "\n",
        "To set this runtime environment, click `Runtime` → `Change Runtime Type` in the menu.\n",
        "\n",
        "A window will appear from which you should **select the GPU**.\n",
        "GPUs can perform parallel operations on multiple datasets, and are therefore commonly used for non-graphical tasks such as machine learning and scientific computing."
      ],
      "metadata": {
        "id": "eYRyf-AAg4NF"
      },
      "id": "eYRyf-AAg4NF"
    },
    {
      "cell_type": "markdown",
      "source": [
        "### Magic commands\n",
        "\n",
        "Magics is a set of system commands that provide a mini extensive command language. There are two types: linear and cellular. Linear lines are single-line, cell lines are multi-line and span the entire cell.\n",
        "\n",
        "For linear magic, the command is preceded by a single `% sign`, and for cell magic, by two characters `%%`:\n",
        "* `%history` – prints the history of the code statements that were run\n",
        "* `%who` – lists the imported modules\n",
        "* `%%timeit` – calculates the statistical execution time of the instructions below\n",
        "* `%pwd` – shows the current working directory\n",
        "\n",
        "By running the `%lsmagic` command in a cell, Colab will write to us the possible magic commands to use."
      ],
      "metadata": {
        "id": "GpQTtTxVh4Ts"
      },
      "id": "GpQTtTxVh4Ts"
    },
    {
      "cell_type": "code",
      "source": [
        "%pwd"
      ],
      "metadata": {
        "colab": {
          "base_uri": "https://localhost:8080/",
          "height": 36
        },
        "id": "qzu3i7X_iUYZ",
        "outputId": "68787711-3703-47f3-a085-ad72e4b34947"
      },
      "id": "qzu3i7X_iUYZ",
      "execution_count": null,
      "outputs": [
        {
          "output_type": "execute_result",
          "data": {
            "text/plain": [
              "'/content'"
            ],
            "application/vnd.google.colaboratory.intrinsic+json": {
              "type": "string"
            }
          },
          "metadata": {},
          "execution_count": 11
        }
      ]
    },
    {
      "cell_type": "markdown",
      "source": [
        "<img src=\"https://drive.google.com/uc?export=view&id=1UO2urRciECzoKE_vHy4RMGfFbkOWOGlW\" alt=\"SDA logo\" align=\"left\" width=\"100px\" hspace=\"10px\" vspace=\"10px\"/>\n",
        "<br>\n",
        "\n",
        "# Variables & basic data types\n",
        "\n",
        "<br><br>\n",
        "Just as there is no mathematics without numbers, you can't talk about programming without knowing its basic elements! There are several data types in Python and in this section you will learn about the main ones:\n",
        "* numbers\n",
        "* strings\n",
        "* lists\n",
        "* dicts\n",
        "\n",
        "Also, you will know how to store them for later use.\n",
        "\n",
        "Actually, you have already seen one in action 🖨 There is an unwritten tradition to start each and every programming course with `\"Hello world!\"` printed to the console - we've swapped it to `\"Hello from SDA!\"` 🤙\n",
        "\n",
        "```python\n",
        "print(\"Hello world\")\n",
        "```\n",
        "where `\"Hello world\"` is a string and `print()` is a function that allows to display that string (more about **functions** soon)."
      ],
      "metadata": {
        "id": "hdp38LxZ5w9S"
      },
      "id": "hdp38LxZ5w9S"
    },
    {
      "cell_type": "markdown",
      "source": [
        "Typically, you should know\n",
        "* how to create a new data of a chosen type\n",
        "* be familiar with a collection of operations and attributes that they possess\n",
        "* change the type if needed\n",
        "* and know how to store them for later usage."
      ],
      "metadata": {
        "id": "HyDrBgfk5wxw"
      },
      "id": "HyDrBgfk5wxw"
    },
    {
      "cell_type": "markdown",
      "source": [
        "<img src=\"https://drive.google.com/uc?export=view&id=141XOz6N4nk8Ru1sAl7vOsAToCLrSFCAX\" alt=\"SDA logo\" width=\"150\" align='right'/>\n",
        "\n",
        "## Basic data types\n",
        "\n",
        "There is a large number of various `data types` (types determine the amount of memory a variable needs to be stored):\n",
        "\n",
        "* **<font color='#306998'>PYTHON </font><font color='#ffd33b'>NUMBERS</font>**\n",
        " * `int` - integers\n",
        " ```python\n",
        "1, -44, 100, 0\n",
        "```\n",
        " * `float` - real numbers, (ie. floating point numbers)<br>\n",
        "```python\n",
        "3\\.0, 5.5, 3.1415\n",
        "```\n",
        " * `complex` with imaginary part\n",
        "```python\n",
        "2 + 1j\n",
        "```\n",
        "* **<font color='#306998'>PYTHON </font><font color='#ffd33b'>TEXT(S)</font>** (called `string(s)` in computer science)\n",
        "```python\n",
        "\"Hello world\"\n",
        "'Hello world'\n",
        "```\n",
        "or\n",
        "```python\n",
        "'''\n",
        "multiline\n",
        "strings\n",
        "'''\n",
        "```\n",
        "* **<font color='#306998'>PYTHON </font><font color='#ffd33b'>BOOLEAN(S)</font>** boolean values (true/false)\n",
        "```python\n",
        "True\n",
        "False\n",
        "```\n",
        "* **<font color='#306998'>PYTHON </font><font color='#ffd33b'>COMPLEX TYPES</font>**\n",
        " * lists and tuples (an ordered collection of data points of the same or various types)\n",
        "```python\n",
        "[1, 2, 3]  # list\n",
        "[55, ‘string’, True]  # list\n",
        "(1, 2, 3)  # tuple\n",
        "(55, ‘string’, True)  # tuple\n",
        "```\n",
        "the difference between lists and tuples is that the first one is mutable, ie. its values can change, whereas tuple elements are assigned for good (ie. tuples are immutable)\n",
        " * dictionaries (map of key → value)\n",
        "```python\n",
        "{\n",
        "    ‘Chris’: 4,\n",
        "    ‘Hailey’: 4.5,\n",
        "    ‘Willie’: 5\n",
        "    }\n",
        "```\n",
        " * sets (collection of unique data points)\n",
        "```python\n",
        "{1, 2, 3, 4}\n",
        "{'a', 'b', 'c'}\n",
        "```\n",
        "there are no duplicates, ie. the elements of the set cannot be repeated\n",
        "* **<font color='#306998'>PYTHON </font><font color='#ffd33b'>EMPTY VALUE</font>** representation of nothing, special type denoting `empty` or `no value`\n",
        "```python\n",
        "None\n",
        "```\n"
      ],
      "metadata": {
        "id": "5SyAnXTcVqDC"
      },
      "id": "5SyAnXTcVqDC"
    },
    {
      "cell_type": "markdown",
      "source": [
        "All of these data types are Python objects so they acquire a set of built-in functions (so called `methods`) and properties that can be called on them. For example you can use:\n",
        "* `dir()` to list the available methods and attributes,\n",
        "* `type()` to check the object type,\n",
        "* `help()` to print out the documentation."
      ],
      "metadata": {
        "id": "2LuwO0qdbk8o"
      },
      "id": "2LuwO0qdbk8o"
    },
    {
      "cell_type": "code",
      "source": [
        "type(5), type('abc')"
      ],
      "metadata": {
        "colab": {
          "base_uri": "https://localhost:8080/"
        },
        "id": "AQ0KB1DAdfIo",
        "outputId": "7abc081b-d3dd-4afb-c3ae-8a261f73eb49"
      },
      "id": "AQ0KB1DAdfIo",
      "execution_count": null,
      "outputs": [
        {
          "output_type": "execute_result",
          "data": {
            "text/plain": [
              "(int, str)"
            ]
          },
          "metadata": {},
          "execution_count": 1
        }
      ]
    },
    {
      "cell_type": "code",
      "source": [
        "dir(list)[:5]"
      ],
      "metadata": {
        "colab": {
          "base_uri": "https://localhost:8080/"
        },
        "id": "P-1yPzEXcE9I",
        "outputId": "10125a96-31ce-422e-9e2d-66870c40cc18"
      },
      "id": "P-1yPzEXcE9I",
      "execution_count": null,
      "outputs": [
        {
          "output_type": "execute_result",
          "data": {
            "text/plain": [
              "['__add__', '__class__', '__class_getitem__', '__contains__', '__delattr__']"
            ]
          },
          "metadata": {},
          "execution_count": 2
        }
      ]
    },
    {
      "cell_type": "markdown",
      "source": [
        "The `isinstance()` function checks the object type and compares it with the type passed to the second argument.\n"
      ],
      "metadata": {
        "id": "nNDUF8mydePv"
      },
      "id": "nNDUF8mydePv"
    },
    {
      "cell_type": "code",
      "source": [
        "isinstance(1, object)"
      ],
      "metadata": {
        "colab": {
          "base_uri": "https://localhost:8080/"
        },
        "id": "oFGT5saEcPNY",
        "outputId": "de6b70fb-07de-4392-df0c-966da5d38693"
      },
      "id": "oFGT5saEcPNY",
      "execution_count": null,
      "outputs": [
        {
          "output_type": "execute_result",
          "data": {
            "text/plain": [
              "True"
            ]
          },
          "metadata": {},
          "execution_count": 4
        }
      ]
    },
    {
      "cell_type": "code",
      "source": [
        "isinstance(1, int)"
      ],
      "metadata": {
        "colab": {
          "base_uri": "https://localhost:8080/"
        },
        "id": "EGSsI-jSd9cV",
        "outputId": "f74f1a8c-afff-4b8e-8561-a4d5b50df288"
      },
      "id": "EGSsI-jSd9cV",
      "execution_count": null,
      "outputs": [
        {
          "output_type": "execute_result",
          "data": {
            "text/plain": [
              "True"
            ]
          },
          "metadata": {},
          "execution_count": 5
        }
      ]
    },
    {
      "cell_type": "code",
      "source": [
        "isinstance(1, float)"
      ],
      "metadata": {
        "colab": {
          "base_uri": "https://localhost:8080/"
        },
        "id": "rjr1o-6ed-y9",
        "outputId": "69fdca3b-d1e2-4fe4-aeb7-37d4e930b3fd"
      },
      "id": "rjr1o-6ed-y9",
      "execution_count": null,
      "outputs": [
        {
          "output_type": "execute_result",
          "data": {
            "text/plain": [
              "False"
            ]
          },
          "metadata": {},
          "execution_count": 6
        }
      ]
    },
    {
      "cell_type": "code",
      "source": [
        "isinstance([1, 2, 3], list)"
      ],
      "metadata": {
        "id": "x_IySOVqd_xt",
        "colab": {
          "base_uri": "https://localhost:8080/"
        },
        "outputId": "a3848796-aa75-4f29-fd2b-0f6909861209"
      },
      "id": "x_IySOVqd_xt",
      "execution_count": null,
      "outputs": [
        {
          "output_type": "execute_result",
          "data": {
            "text/plain": [
              "True"
            ]
          },
          "metadata": {},
          "execution_count": 7
        }
      ]
    },
    {
      "cell_type": "code",
      "source": [
        "isinstance([1, 2, 3], [])"
      ],
      "metadata": {
        "colab": {
          "base_uri": "https://localhost:8080/",
          "height": 165
        },
        "id": "SRx_Po7tyfbY",
        "outputId": "ac1c119e-925c-4de5-ce89-934f9417a9f9"
      },
      "id": "SRx_Po7tyfbY",
      "execution_count": null,
      "outputs": [
        {
          "output_type": "error",
          "ename": "TypeError",
          "evalue": "ignored",
          "traceback": [
            "\u001b[0;31m---------------------------------------------------------------------------\u001b[0m",
            "\u001b[0;31mTypeError\u001b[0m                                 Traceback (most recent call last)",
            "\u001b[0;32m<ipython-input-8-6d75be6a3beb>\u001b[0m in \u001b[0;36m<cell line: 1>\u001b[0;34m()\u001b[0m\n\u001b[0;32m----> 1\u001b[0;31m \u001b[0misinstance\u001b[0m\u001b[0;34m(\u001b[0m\u001b[0;34m[\u001b[0m\u001b[0;36m1\u001b[0m\u001b[0;34m,\u001b[0m \u001b[0;36m2\u001b[0m\u001b[0;34m,\u001b[0m \u001b[0;36m3\u001b[0m\u001b[0;34m]\u001b[0m\u001b[0;34m,\u001b[0m \u001b[0;34m[\u001b[0m\u001b[0;34m]\u001b[0m\u001b[0;34m)\u001b[0m\u001b[0;34m\u001b[0m\u001b[0;34m\u001b[0m\u001b[0m\n\u001b[0m",
            "\u001b[0;31mTypeError\u001b[0m: isinstance() arg 2 must be a type or tuple of types"
          ]
        }
      ]
    },
    {
      "cell_type": "code",
      "source": [
        "isinstance([1, 2, 3], (list, dict)), isinstance([1, 2, 3], (int, dict))"
      ],
      "metadata": {
        "id": "CQFrCrLgytvf"
      },
      "id": "CQFrCrLgytvf",
      "execution_count": null,
      "outputs": []
    },
    {
      "cell_type": "markdown",
      "source": [
        "<img src=\"https://drive.google.com/uc?export=view&id=141XOz6N4nk8Ru1sAl7vOsAToCLrSFCAX\" alt=\"SDA logo\" width=\"150\" align='right'/>\n",
        "\n",
        "## Basic arithmetic operations\n",
        "\n",
        "**<font color='#306998'>PYTHON </font><font color='#ffd33b'>NUMBERS</font>**\n",
        "\n",
        "There are **three numeric types** natively supported by Python.\n",
        "These types are simple and highly intuitive, and have defined all the operations we already know from school (and even more)!\n",
        "\n",
        "See for yourself how easily you can perform basic arithmetic operations:\n",
        "* `+` addition\n",
        "* `-` subtraction\n",
        "* `*` multiplication\n",
        "* `/` division and *`//`* so called floor division (where the remainder is discarded)\n",
        "* `%` modulus to return the remainder of the division\n",
        "* `**` exponent (power operation)"
      ],
      "metadata": {
        "id": "LFRT9AbUy46Y"
      },
      "id": "LFRT9AbUy46Y"
    },
    {
      "cell_type": "code",
      "source": [
        "2 + 2, 2 + 2 * 2, 2 - 2"
      ],
      "metadata": {
        "id": "Y37VUd6wyk17",
        "colab": {
          "base_uri": "https://localhost:8080/"
        },
        "outputId": "6721ee43-ff38-4aaa-dbff-7bae7557a6d9"
      },
      "id": "Y37VUd6wyk17",
      "execution_count": null,
      "outputs": [
        {
          "output_type": "execute_result",
          "data": {
            "text/plain": [
              "(4, 6, 0)"
            ]
          },
          "metadata": {},
          "execution_count": 9
        }
      ]
    },
    {
      "cell_type": "code",
      "source": [
        "# power, ie. 2 * 2 * ... * 2 (2 multiplied by itself for 6 times)\n",
        "2 ** 6"
      ],
      "metadata": {
        "id": "GZQ5RT6pz5iI",
        "colab": {
          "base_uri": "https://localhost:8080/"
        },
        "outputId": "fcedfb05-36cf-4b09-9bb0-97f046e51f4e"
      },
      "id": "GZQ5RT6pz5iI",
      "execution_count": null,
      "outputs": [
        {
          "output_type": "execute_result",
          "data": {
            "text/plain": [
              "64"
            ]
          },
          "metadata": {},
          "execution_count": 11
        }
      ]
    },
    {
      "cell_type": "code",
      "source": [
        "type(2 + 1j)"
      ],
      "metadata": {
        "colab": {
          "base_uri": "https://localhost:8080/"
        },
        "id": "Akgo1XlnhtbX",
        "outputId": "56486efa-cdd2-495c-bac3-d3061068b41b"
      },
      "id": "Akgo1XlnhtbX",
      "execution_count": null,
      "outputs": [
        {
          "output_type": "execute_result",
          "data": {
            "text/plain": [
              "complex"
            ]
          },
          "metadata": {},
          "execution_count": 27
        }
      ]
    },
    {
      "cell_type": "markdown",
      "source": [
        "The only remark is that in Python 3, the operation of dividing two integers may return a floating point number or an integer.\n",
        "* To get integer part of the division (without the remainder), use the `//` operator.\n",
        "* In computer science, an important role is also played by the `modulo operator (here denoted as %)`, which gives back the division remainder."
      ],
      "metadata": {
        "id": "aARHUGeBa9jV"
      },
      "id": "aARHUGeBa9jV"
    },
    {
      "cell_type": "code",
      "source": [
        "# division\n",
        "5 / 3, 5 // 3, 5 % 3"
      ],
      "metadata": {
        "id": "ufrr05oIzflW",
        "colab": {
          "base_uri": "https://localhost:8080/"
        },
        "outputId": "ad074dce-b636-4e6a-f86e-902aa8f47fe9"
      },
      "id": "ufrr05oIzflW",
      "execution_count": null,
      "outputs": [
        {
          "output_type": "execute_result",
          "data": {
            "text/plain": [
              "(1.6666666666666667, 1, 2)"
            ]
          },
          "metadata": {},
          "execution_count": 3
        }
      ]
    },
    {
      "cell_type": "code",
      "source": [
        "14 / 7"
      ],
      "metadata": {
        "colab": {
          "base_uri": "https://localhost:8080/"
        },
        "id": "fLtROp6_b32S",
        "outputId": "add650d7-cd49-4534-c236-d616e99ac042"
      },
      "id": "fLtROp6_b32S",
      "execution_count": null,
      "outputs": [
        {
          "output_type": "execute_result",
          "data": {
            "text/plain": [
              "2.0"
            ]
          },
          "metadata": {},
          "execution_count": 12
        }
      ]
    },
    {
      "cell_type": "markdown",
      "source": [
        "Also, note that in the example above we started with two integers, divided them and ended up with a float even though 14 was divisible by 7! Sometimes it's convenient to use `int()` function that allows to change an input type to integer."
      ],
      "metadata": {
        "id": "3VoUOOYDb7wS"
      },
      "id": "3VoUOOYDb7wS"
    },
    {
      "cell_type": "code",
      "source": [
        "int(14 / 7)"
      ],
      "metadata": {
        "colab": {
          "base_uri": "https://localhost:8080/"
        },
        "id": "ySjKwNA0cJ5_",
        "outputId": "049aa1c6-3776-4f95-d5ba-c0b698938fd0"
      },
      "id": "ySjKwNA0cJ5_",
      "execution_count": null,
      "outputs": [
        {
          "output_type": "execute_result",
          "data": {
            "text/plain": [
              "2"
            ]
          },
          "metadata": {},
          "execution_count": 15
        }
      ]
    },
    {
      "cell_type": "code",
      "source": [
        "int(\"5\")"
      ],
      "metadata": {
        "colab": {
          "base_uri": "https://localhost:8080/"
        },
        "id": "ZVbStcUBcOB7",
        "outputId": "d5da8d8c-3d52-4555-8a43-6b860a09b7ec"
      },
      "id": "ZVbStcUBcOB7",
      "execution_count": null,
      "outputs": [
        {
          "output_type": "execute_result",
          "data": {
            "text/plain": [
              "5"
            ]
          },
          "metadata": {},
          "execution_count": 17
        }
      ]
    },
    {
      "cell_type": "code",
      "source": [
        "int(16 / 7)"
      ],
      "metadata": {
        "colab": {
          "base_uri": "https://localhost:8080/"
        },
        "id": "qmIkuKNkcSPG",
        "outputId": "945f85c3-5eb6-4619-f2a4-5236b49167c5"
      },
      "id": "qmIkuKNkcSPG",
      "execution_count": null,
      "outputs": [
        {
          "output_type": "execute_result",
          "data": {
            "text/plain": [
              "2"
            ]
          },
          "metadata": {},
          "execution_count": 18
        }
      ]
    },
    {
      "cell_type": "markdown",
      "source": [
        "**<font color='#306998'>TYPE </font><font color='#ffd33b'>CONVERSION</font>**\n",
        "\n",
        "There are two types of Type Conversion in Python (and we already have had examples of both):\n",
        "* Implicit - Python interpreter automatically converts one data type to another without user involvement\n",
        "* Explicit - data type is manually changed by the user, e.g. with `int()` function\n",
        "\n",
        "For number type conversion, see also\n",
        "```python\n",
        "float()\n",
        "ord()\n",
        "bin()\n",
        "```"
      ],
      "metadata": {
        "id": "HaAdJ1BDfDN7"
      },
      "id": "HaAdJ1BDfDN7"
    },
    {
      "cell_type": "code",
      "source": [
        "bin(10)  # converts int to binary representation"
      ],
      "metadata": {
        "colab": {
          "base_uri": "https://localhost:8080/",
          "height": 36
        },
        "id": "wyMB1bpvgzIa",
        "outputId": "54c92c30-4bab-44aa-bc65-b4ff4bf88300"
      },
      "id": "wyMB1bpvgzIa",
      "execution_count": null,
      "outputs": [
        {
          "output_type": "execute_result",
          "data": {
            "text/plain": [
              "'0b1010'"
            ],
            "application/vnd.google.colaboratory.intrinsic+json": {
              "type": "string"
            }
          },
          "metadata": {},
          "execution_count": 20
        }
      ]
    },
    {
      "cell_type": "code",
      "source": [
        "int(\"100\")"
      ],
      "metadata": {
        "colab": {
          "base_uri": "https://localhost:8080/"
        },
        "id": "GqRHFteuiDOx",
        "outputId": "c02ca212-6f2e-475f-fa50-3ed48920703d"
      },
      "id": "GqRHFteuiDOx",
      "execution_count": null,
      "outputs": [
        {
          "output_type": "execute_result",
          "data": {
            "text/plain": [
              "100"
            ]
          },
          "metadata": {},
          "execution_count": 28
        }
      ]
    },
    {
      "cell_type": "code",
      "source": [
        "str(250)"
      ],
      "metadata": {
        "colab": {
          "base_uri": "https://localhost:8080/",
          "height": 36
        },
        "id": "WsVMshjfiGvy",
        "outputId": "13fde576-1bf8-40a1-e648-6a0e2f74b92d"
      },
      "id": "WsVMshjfiGvy",
      "execution_count": null,
      "outputs": [
        {
          "output_type": "execute_result",
          "data": {
            "text/plain": [
              "'250'"
            ],
            "application/vnd.google.colaboratory.intrinsic+json": {
              "type": "string"
            }
          },
          "metadata": {},
          "execution_count": 29
        }
      ]
    },
    {
      "cell_type": "markdown",
      "source": [
        "### More complex arithmetic operations\n",
        "\n",
        "**<font color='#306998'>PYTHON </font><font color='#ffd33b'>NUMBERS</font>**\n",
        "\n",
        "If the operations listed above are not sufficient for your needs, you can also `import math` a module containing set of mathematical functions (see more on [math](https://docs.python.org/3/library/math.html)), such as:\n",
        "```python\n",
        "import math\n",
        "\n",
        "math.sqrt()  # square root\n",
        "math.pow()  # value of x to the power of y, eq. to x**y\n",
        "math.gcd()  # greatest common divisor of two integers\n",
        "math.factorial()  # factorial, ie. k!\n",
        "```"
      ],
      "metadata": {
        "id": "Qvj5on_LjxbI"
      },
      "id": "Qvj5on_LjxbI"
    },
    {
      "cell_type": "code",
      "source": [
        "import math\n",
        "\n",
        "print(math.sqrt(25))"
      ],
      "metadata": {
        "colab": {
          "base_uri": "https://localhost:8080/"
        },
        "id": "vWGy9Jx2kw1_",
        "outputId": "0ffc8208-d487-4dfe-9da8-271c9d6bf252"
      },
      "id": "vWGy9Jx2kw1_",
      "execution_count": null,
      "outputs": [
        {
          "output_type": "stream",
          "name": "stdout",
          "text": [
            "5.0\n"
          ]
        }
      ]
    },
    {
      "cell_type": "code",
      "source": [
        "# 4! = 4 * 3 * 2 * 1 = 24\n",
        "math.factorial(4)"
      ],
      "metadata": {
        "colab": {
          "base_uri": "https://localhost:8080/"
        },
        "id": "74UsZ08ik01j",
        "outputId": "c7481334-63d1-4b81-fef6-ad3eeb99358e"
      },
      "id": "74UsZ08ik01j",
      "execution_count": null,
      "outputs": [
        {
          "output_type": "execute_result",
          "data": {
            "text/plain": [
              "24"
            ]
          },
          "metadata": {},
          "execution_count": 34
        }
      ]
    },
    {
      "cell_type": "markdown",
      "source": [
        "### Random numbers\n",
        "\n",
        "**<font color='#306998'>PYTHON </font><font color='#ffd33b'>NUMBERS</font>**\n",
        "\n",
        "Another useful package is `random` module that allows to generate random and pseudo-random numbers which is esp. needed in games, loteries and statistics (see more on [random](https://docs.python.org/3/library/random.html)), such as:\n",
        "```python\n",
        "import random\n",
        "\n",
        "random.choice()  # randomly selected element of a sequence\n",
        "random.randint(a, b)  # randomly selected integer between a and b\n",
        "random.random()  # random float between 0 and 1\n",
        "random.seed()  # to control pseudo-randomness\n",
        "```"
      ],
      "metadata": {
        "id": "AVutr3THlIyp"
      },
      "id": "AVutr3THlIyp"
    },
    {
      "cell_type": "code",
      "source": [
        "import random\n",
        "\n",
        "random.choice([1,2,8])"
      ],
      "metadata": {
        "colab": {
          "base_uri": "https://localhost:8080/"
        },
        "id": "mY_MRJsomsfm",
        "outputId": "3da41102-2bd7-4c90-96d2-a2fbd9d3558f"
      },
      "id": "mY_MRJsomsfm",
      "execution_count": null,
      "outputs": [
        {
          "output_type": "execute_result",
          "data": {
            "text/plain": [
              "8"
            ]
          },
          "metadata": {},
          "execution_count": 36
        }
      ]
    },
    {
      "cell_type": "code",
      "source": [
        "random.randint(10, 30)"
      ],
      "metadata": {
        "colab": {
          "base_uri": "https://localhost:8080/"
        },
        "id": "JKXiVbJ4mxkh",
        "outputId": "d7b0c90f-ef60-46bd-f2cc-434d366736d4"
      },
      "id": "JKXiVbJ4mxkh",
      "execution_count": null,
      "outputs": [
        {
          "output_type": "execute_result",
          "data": {
            "text/plain": [
              "16"
            ]
          },
          "metadata": {},
          "execution_count": 38
        }
      ]
    },
    {
      "cell_type": "markdown",
      "source": [
        "<img src=\"https://drive.google.com/uc?export=view&id=141XOz6N4nk8Ru1sAl7vOsAToCLrSFCAX\" alt=\"SDA logo\" width=\"150\" align='right'/>\n",
        "\n",
        "## Comparison & logical operators\n",
        "\n",
        "**<font color='#306998'>PYTHON </font><font color='#ffd33b'>OPERATORS</font>**\n",
        "\n",
        "Besides arithmetic operations on numbers, one can compare both with each other. To introduce algebraic system of logic we use **Boolean data type** that have only two possible values - `True` and `False` and now we can compare various objects with:\n",
        "* `and` - logical check if both are `True`\n",
        "* or - logical check if at least one is `True`\n",
        "* not - logical check if not `True` (eq. to `False`)\n",
        "* $==$ equal to\n",
        "* $!=$ not equal to\n",
        "* $>$ greater than\n",
        "* $\\ge$ greater (than) or equal to\n",
        "* $<$ less than\n",
        "* $\\le$ less (than) or equal to\n",
        "\n"
      ],
      "metadata": {
        "id": "dFmxYwz20Ek7"
      },
      "id": "dFmxYwz20Ek7"
    },
    {
      "cell_type": "code",
      "source": [
        "True and False, True and True, True or False, False or False"
      ],
      "metadata": {
        "id": "87BmLMtDzzv-",
        "colab": {
          "base_uri": "https://localhost:8080/"
        },
        "outputId": "3db44b38-d261-411a-aa42-09d31f75012e"
      },
      "id": "87BmLMtDzzv-",
      "execution_count": null,
      "outputs": [
        {
          "output_type": "execute_result",
          "data": {
            "text/plain": [
              "(False, True, True, False)"
            ]
          },
          "metadata": {},
          "execution_count": 42
        }
      ]
    },
    {
      "cell_type": "code",
      "source": [
        "not True"
      ],
      "metadata": {
        "id": "gOUrAuGE0TyS",
        "colab": {
          "base_uri": "https://localhost:8080/"
        },
        "outputId": "26c9f5e1-0664-43a6-f65b-af0be9b2bda0"
      },
      "id": "gOUrAuGE0TyS",
      "execution_count": null,
      "outputs": [
        {
          "output_type": "execute_result",
          "data": {
            "text/plain": [
              "False"
            ]
          },
          "metadata": {},
          "execution_count": 43
        }
      ]
    },
    {
      "cell_type": "code",
      "source": [
        "2 == 2, 2 == 2.0, 2 != 2, 2 == 3"
      ],
      "metadata": {
        "id": "UwrXjl7J0ZGi",
        "colab": {
          "base_uri": "https://localhost:8080/"
        },
        "outputId": "b868e8b6-b1b9-4c5a-cc2e-ef9d2ce75ce6"
      },
      "id": "UwrXjl7J0ZGi",
      "execution_count": null,
      "outputs": [
        {
          "output_type": "execute_result",
          "data": {
            "text/plain": [
              "(True, True, False, False)"
            ]
          },
          "metadata": {},
          "execution_count": 44
        }
      ]
    },
    {
      "cell_type": "code",
      "source": [
        "2 > 3, 3 > 2, 2 <= 2, 3 <= 2"
      ],
      "metadata": {
        "id": "P00gExzj1YNh",
        "colab": {
          "base_uri": "https://localhost:8080/"
        },
        "outputId": "354e21a7-e710-4f7f-a2bc-f1a0510ef555"
      },
      "id": "P00gExzj1YNh",
      "execution_count": null,
      "outputs": [
        {
          "output_type": "execute_result",
          "data": {
            "text/plain": [
              "(False, True, True, False)"
            ]
          },
          "metadata": {},
          "execution_count": 45
        }
      ]
    },
    {
      "cell_type": "markdown",
      "source": [
        "### Conditional programming if... else...\n",
        "\n",
        "With Boolean operators and Boolean data type, we can introduce conditional programs that do things differently based on certain conditions:"
      ],
      "metadata": {
        "id": "WZ82ZZMRoYll"
      },
      "id": "WZ82ZZMRoYll"
    },
    {
      "cell_type": "code",
      "source": [
        "if 6 - 4 == 2:\n",
        "    print(\"Correct!\")"
      ],
      "metadata": {
        "colab": {
          "base_uri": "https://localhost:8080/"
        },
        "id": "7B9G0YBxoYKW",
        "outputId": "c2414ca2-9ad4-46bb-f067-bf2991d5d7d2"
      },
      "id": "7B9G0YBxoYKW",
      "execution_count": null,
      "outputs": [
        {
          "output_type": "stream",
          "name": "stdout",
          "text": [
            "Correct!\n"
          ]
        }
      ]
    },
    {
      "cell_type": "code",
      "source": [
        "if 6 - 4 == 4:\n",
        "    print(\"Correct!\")"
      ],
      "metadata": {
        "id": "jVL6NGpkpFKS"
      },
      "id": "jVL6NGpkpFKS",
      "execution_count": null,
      "outputs": []
    },
    {
      "cell_type": "code",
      "source": [
        "if 6 - 4 == 4:\n",
        "    print(\"Correct!\")\n",
        "else:\n",
        "    print(\"Incorrect :(\")"
      ],
      "metadata": {
        "colab": {
          "base_uri": "https://localhost:8080/"
        },
        "id": "zxv65QoL6gg5",
        "outputId": "51830d4d-beb6-4f57-dbda-4605a2960a9e"
      },
      "id": "zxv65QoL6gg5",
      "execution_count": null,
      "outputs": [
        {
          "output_type": "stream",
          "name": "stdout",
          "text": [
            "Incorrect :(\n"
          ]
        }
      ]
    },
    {
      "cell_type": "markdown",
      "source": [
        "**<font color='#306998'>ALPHANUMERIC </font><font color='#ffd33b'>ORDER</font>**\n",
        "\n",
        "It turns out that we can compare not only numbers and boolean values but also strings (text) by introducing alphanumeric order.\n",
        "\n",
        "> Alphanumeric order refers to a set of filing rules to follow when putting symbols, numbers and letters in order both numerically and alphabetically. For example, “100% American” would come before “apple” in an alphanumerically sorted list.<br>\n",
        "The basic principles of sorting words, symbols and numbers alphanumerically are to first list words alphabetically, then for any subsequent unit. For example, for “Johnson Boats and Johnson Cars,” sort the subsequent units alphabetically as well. Symbols are first in sort order, followed by numerals. For example, “#1 Autos” comes before “12 Brothers Auto.” Another rule to follow is nothing comes before something. For example, oak comes before oak tree.\n",
        "\n",
        "https://www.reference.com/world-view/alphanumeric-order-774924f1a6bf2e91"
      ],
      "metadata": {
        "id": "_13jYIrV13FV"
      },
      "id": "_13jYIrV13FV"
    },
    {
      "cell_type": "code",
      "source": [
        "'alice' > 'cat', 'alice' < 'cat', 'alice' == 'cat', 'alice' != 'cat'"
      ],
      "metadata": {
        "id": "9Wse4eBe1oAx",
        "colab": {
          "base_uri": "https://localhost:8080/"
        },
        "outputId": "8b31516e-c33a-4f7a-c270-ad06edd81217"
      },
      "id": "9Wse4eBe1oAx",
      "execution_count": null,
      "outputs": [
        {
          "output_type": "execute_result",
          "data": {
            "text/plain": [
              "(False, True, False, True)"
            ]
          },
          "metadata": {},
          "execution_count": 8
        }
      ]
    },
    {
      "cell_type": "code",
      "source": [
        "'1_alice' < 'alice', '1_alice' > 'alice', 'alice_1' < 'alice_2'"
      ],
      "metadata": {
        "id": "FQaR2_KF1s0R",
        "colab": {
          "base_uri": "https://localhost:8080/"
        },
        "outputId": "097e0287-0ebf-4539-b25f-4b3c541d20c6"
      },
      "id": "FQaR2_KF1s0R",
      "execution_count": null,
      "outputs": [
        {
          "output_type": "execute_result",
          "data": {
            "text/plain": [
              "(True, False, True)"
            ]
          },
          "metadata": {},
          "execution_count": 9
        }
      ]
    },
    {
      "cell_type": "markdown",
      "source": [
        "Notice, that the types have to match! The following expression\n",
        "```python\n",
        "'1' < 'a'\n",
        "```\n",
        "works perfectly fine, whereas\n",
        "```python\n",
        "1 < 'a'\n",
        "```\n",
        "will return `TypeError` ❗"
      ],
      "metadata": {
        "id": "rHqtdXFQp-MW"
      },
      "id": "rHqtdXFQp-MW"
    },
    {
      "cell_type": "code",
      "source": [
        "'1' < 'a'"
      ],
      "metadata": {
        "colab": {
          "base_uri": "https://localhost:8080/"
        },
        "id": "qIxpFLL6qE3f",
        "outputId": "697bc129-837d-4300-b928-e8ad82ad1919"
      },
      "id": "qIxpFLL6qE3f",
      "execution_count": null,
      "outputs": [
        {
          "output_type": "execute_result",
          "data": {
            "text/plain": [
              "True"
            ]
          },
          "metadata": {},
          "execution_count": 59
        }
      ]
    },
    {
      "cell_type": "code",
      "source": [
        "1 < 'a'"
      ],
      "metadata": {
        "colab": {
          "base_uri": "https://localhost:8080/",
          "height": 165
        },
        "id": "RL9p6QK5p8LE",
        "outputId": "cd211b2f-eb41-45fd-fcf2-fb02d21570fb"
      },
      "id": "RL9p6QK5p8LE",
      "execution_count": null,
      "outputs": [
        {
          "output_type": "error",
          "ename": "TypeError",
          "evalue": "ignored",
          "traceback": [
            "\u001b[0;31m---------------------------------------------------------------------------\u001b[0m",
            "\u001b[0;31mTypeError\u001b[0m                                 Traceback (most recent call last)",
            "\u001b[0;32m<ipython-input-60-4751c80d99ec>\u001b[0m in \u001b[0;36m<cell line: 1>\u001b[0;34m()\u001b[0m\n\u001b[0;32m----> 1\u001b[0;31m \u001b[0;36m1\u001b[0m \u001b[0;34m<\u001b[0m \u001b[0;34m'a'\u001b[0m\u001b[0;34m\u001b[0m\u001b[0;34m\u001b[0m\u001b[0m\n\u001b[0m",
            "\u001b[0;31mTypeError\u001b[0m: '<' not supported between instances of 'int' and 'str'"
          ]
        }
      ]
    },
    {
      "cell_type": "markdown",
      "source": [
        "<img src=\"https://drive.google.com/uc?export=view&id=141XOz6N4nk8Ru1sAl7vOsAToCLrSFCAX\" alt=\"SDA logo\" width=\"150\" align='right'/>\n",
        "\n",
        "## Variables\n",
        "\n",
        "**<font color='#306998'>STORING INFORMATION </font><font color='#ffd33b'>FOR LATER USE</font>**\n",
        "\n",
        "A **variable** is a container for data and allows to refer to it later on. Each variable has a name, value, type and its space in memory.\n",
        "\n",
        "```python\n",
        "my_var = 42\n",
        "```\n",
        "where\n",
        "* `my_var` is a variable **name**,\n",
        "* `=` is an **assignment** sign,\n",
        "* `42` is a variable **value**.\n",
        "\n",
        "Create as many as you want, but remember to give them unique names!"
      ],
      "metadata": {
        "id": "jot6LI-XiQHW"
      },
      "id": "jot6LI-XiQHW"
    },
    {
      "cell_type": "code",
      "source": [
        "var_test"
      ],
      "metadata": {
        "colab": {
          "base_uri": "https://localhost:8080/",
          "height": 165
        },
        "id": "6eePxeOsrReL",
        "outputId": "632b50d9-1511-4ad0-a064-408b6f3c2b6c"
      },
      "id": "6eePxeOsrReL",
      "execution_count": null,
      "outputs": [
        {
          "output_type": "error",
          "ename": "NameError",
          "evalue": "ignored",
          "traceback": [
            "\u001b[0;31m---------------------------------------------------------------------------\u001b[0m",
            "\u001b[0;31mNameError\u001b[0m                                 Traceback (most recent call last)",
            "\u001b[0;32m<ipython-input-65-1c4b9bb0f953>\u001b[0m in \u001b[0;36m<cell line: 1>\u001b[0;34m()\u001b[0m\n\u001b[0;32m----> 1\u001b[0;31m \u001b[0mvar_test\u001b[0m\u001b[0;34m\u001b[0m\u001b[0;34m\u001b[0m\u001b[0m\n\u001b[0m",
            "\u001b[0;31mNameError\u001b[0m: name 'var_test' is not defined"
          ]
        }
      ]
    },
    {
      "cell_type": "markdown",
      "source": [
        "Before trying to get the variable's value you need to create one (formally **declare a variable**):"
      ],
      "metadata": {
        "id": "NHxJzFV3rOWW"
      },
      "id": "NHxJzFV3rOWW"
    },
    {
      "cell_type": "code",
      "source": [
        "var_test = 13"
      ],
      "metadata": {
        "id": "QtRJbrPHbNy5"
      },
      "id": "QtRJbrPHbNy5",
      "execution_count": null,
      "outputs": []
    },
    {
      "cell_type": "code",
      "source": [
        "var_test"
      ],
      "metadata": {
        "colab": {
          "base_uri": "https://localhost:8080/"
        },
        "id": "JWi0XUfsbS33",
        "outputId": "a6682dc0-3978-4b66-e0f8-e654e2d6f7c6"
      },
      "id": "JWi0XUfsbS33",
      "execution_count": null,
      "outputs": [
        {
          "output_type": "execute_result",
          "data": {
            "text/plain": [
              "13"
            ]
          },
          "metadata": {},
          "execution_count": 68
        }
      ]
    },
    {
      "cell_type": "code",
      "source": [
        "var_test - 5"
      ],
      "metadata": {
        "colab": {
          "base_uri": "https://localhost:8080/"
        },
        "id": "e6vBDFNjrmQ3",
        "outputId": "3b489c32-7c2e-41ba-c258-71fd8ae07f49"
      },
      "id": "e6vBDFNjrmQ3",
      "execution_count": null,
      "outputs": [
        {
          "output_type": "execute_result",
          "data": {
            "text/plain": [
              "8"
            ]
          },
          "metadata": {},
          "execution_count": 69
        }
      ]
    },
    {
      "cell_type": "markdown",
      "source": [
        "#### Updating variables\n",
        "\n",
        "The easiest way to update variable's value is to assign a new velue to the existing variable."
      ],
      "metadata": {
        "id": "_BNlRH4Tr53r"
      },
      "id": "_BNlRH4Tr53r"
    },
    {
      "cell_type": "code",
      "source": [
        "my_variable = 5\n",
        "print(f\"Initial value {my_variable}\")\n",
        "\n",
        "my_variable = 2\n",
        "print(f\"New/overwritten value {my_variable}\")"
      ],
      "metadata": {
        "colab": {
          "base_uri": "https://localhost:8080/"
        },
        "id": "ZD-hIYbar13_",
        "outputId": "8e2a17d3-dd88-407e-90fd-e38804815bfd"
      },
      "id": "ZD-hIYbar13_",
      "execution_count": null,
      "outputs": [
        {
          "output_type": "stream",
          "name": "stdout",
          "text": [
            "Initial value 5\n",
            "New/overwritten value 2\n"
          ]
        }
      ]
    },
    {
      "cell_type": "markdown",
      "source": [
        "Sometimes, you will need to change value based on its previous condition.\n",
        "\n",
        "If we have a certain variable in which we hold a number and we want to increase its value by a certain number, it can be done in two ways:\n",
        " * get the previous value and overwrite it `a = a + 2`\n",
        " * do it in one step `a += 2`\n",
        "\n",
        "Same as for addition (operator +=), we also have multiplication, division, exponentiation and modulo: `*=, /=, **=, %=`, respectively."
      ],
      "metadata": {
        "id": "ZQ6W9vzM3LTl"
      },
      "id": "ZQ6W9vzM3LTl"
    },
    {
      "cell_type": "code",
      "source": [
        "my_variable = 5\n",
        "print(f\"Initial value {my_variable}\")\n",
        "\n",
        "my_variable = my_variable + 2\n",
        "print(f\"New/overwritten value {my_variable}\")"
      ],
      "metadata": {
        "colab": {
          "base_uri": "https://localhost:8080/"
        },
        "id": "oEU2hIcD4kJH",
        "outputId": "969a38cb-cb40-46ee-c53f-b99e6d8a3c79"
      },
      "id": "oEU2hIcD4kJH",
      "execution_count": null,
      "outputs": [
        {
          "output_type": "stream",
          "name": "stdout",
          "text": [
            "Initial value 5\n",
            "New/overwritten value 7\n"
          ]
        }
      ]
    },
    {
      "cell_type": "code",
      "source": [
        "print(f\"Initial value {my_variable}\")\n",
        "\n",
        "my_variable -= 3\n",
        "print(f\"New/overwritten value {my_variable}\")"
      ],
      "metadata": {
        "colab": {
          "base_uri": "https://localhost:8080/"
        },
        "id": "IOxNl4ug4snL",
        "outputId": "1d13ce33-bef7-4729-8eb8-a72442d10144"
      },
      "id": "IOxNl4ug4snL",
      "execution_count": null,
      "outputs": [
        {
          "output_type": "stream",
          "name": "stdout",
          "text": [
            "Initial value 7\n",
            "New/overwritten value 4\n"
          ]
        }
      ]
    },
    {
      "cell_type": "markdown",
      "source": [
        "### Naming convention\n",
        "There are some rules for both **function and variable names** that should always start with a lowercase letter. Note that Python is case sensitive, so `foo` and `Foo` are two different names and the later one is reserved for **classes** and **objects**.\n",
        "\n",
        "Always try to pick a name that best describes the variable content. Do not worry about long names - it's better than using non-standard and hard-to-read abbreviations or one-letter names which often are ambiguous and uninformative.\n",
        "\n",
        "If the name consists of several words, we usually separate them with an underscore `_`.\n",
        "\n",
        "><table>\n",
        "<!-- header -->\n",
        "<tr>\n",
        "    <th><font color='red'> BAD </font></th>\n",
        "    <th><font color='green'> GOOD </font></th>\n",
        "</tr>\n",
        "\n",
        "<!-- first row -->\n",
        "<tr>\n",
        "<td>\n",
        "\n",
        "```python\n",
        "i = 3\n",
        "```\n",
        "</td>\n",
        "\n",
        "<td>\n",
        "\n",
        "```python\n",
        "n_bananas = 3\n",
        "```\n",
        "</td>\n",
        "\n",
        "</tr>\n",
        "\n",
        "<!-- second row -->\n",
        "<tr>\n",
        "<td>\n",
        "\n",
        "```python\n",
        "fpd = 152.75\n",
        "```\n",
        "</td>\n",
        "\n",
        "<td>\n",
        "\n",
        "```python\n",
        "final_price_dollars = 152.75\n",
        "```\n",
        "</td>\n",
        "</tr>\n",
        "\n",
        "<!-- third row -->\n",
        "<tr>\n",
        "<td>\n",
        "\n",
        "```python\n",
        "3_months_interest = 1128,13\n",
        "```\n",
        "</td>\n",
        "\n",
        "<td>\n",
        "\n",
        "```python\n",
        "interest_3_months = 1128,13\n",
        "```\n",
        "</td>\n",
        "</tr>\n",
        "\n",
        "<!-- fourth row -->\n",
        "<tr>\n",
        "<td>\n",
        "\n",
        "```python\n",
        "total-groceries = 51\n",
        "```\n",
        "</td>\n",
        "\n",
        "<td>\n",
        "\n",
        "```python\n",
        "total_groceries = 51\n",
        "```\n",
        "</td>\n",
        "</tr>\n",
        "\n",
        "</table>"
      ],
      "metadata": {
        "id": "epKhyqXRMlZl"
      },
      "id": "epKhyqXRMlZl"
    },
    {
      "cell_type": "markdown",
      "source": [
        "* The double underscore is called **dunder**. Functions that start and end with a dunder (e.g., `__name__`) are called special functions.\n",
        "* You can use lowercase and uppercase letters `a-z` and `A-Z`, numbers `0-9` and underscores `_`, however, the name **cannot start with the number**❗\n",
        "* note that these names are not the same\n",
        "```python\n",
        "myvar = 5\n",
        "MyVar = 7\n",
        "```\n",
        "and **<font color='#306998'>CAMEL-</font><font color='#ffd33b'>CASE</font>**, e.g. MyCustomClassName, is reserved for class names\n",
        "* also, look out for **reserved keywords** that should not be used as identifiers (`and, as, import, from, assert, class, def, True, False, or, None` etc.)"
      ],
      "metadata": {
        "id": "uEBfvjEPxHlC"
      },
      "id": "uEBfvjEPxHlC"
    },
    {
      "cell_type": "markdown",
      "source": [
        "<img src=\"https://drive.google.com/uc?export=view&id=141XOz6N4nk8Ru1sAl7vOsAToCLrSFCAX\" alt=\"SDA logo\" width=\"150\" align='right'/>\n",
        "\n",
        "## Strings\n",
        "\n",
        "**<font color='#306998'>PYTHON </font><font color='#ffd33b'>STRINGS</font>**\n",
        "\n",
        "What about text? How to store and use text in Python?\n",
        "\n",
        "String is a sequence of characters including letters, numbers and stop signs."
      ],
      "metadata": {
        "id": "UiMgMdLrwWYg"
      },
      "id": "UiMgMdLrwWYg"
    },
    {
      "cell_type": "code",
      "source": [
        "'Name' + 'Surname'"
      ],
      "metadata": {
        "colab": {
          "base_uri": "https://localhost:8080/",
          "height": 36
        },
        "id": "uaMepfBW1X4O",
        "outputId": "599f7b5d-b512-4573-a95f-43e34b493a5b"
      },
      "id": "uaMepfBW1X4O",
      "execution_count": null,
      "outputs": [
        {
          "output_type": "execute_result",
          "data": {
            "text/plain": [
              "'NameSurname'"
            ],
            "application/vnd.google.colaboratory.intrinsic+json": {
              "type": "string"
            }
          },
          "metadata": {},
          "execution_count": 81
        }
      ]
    },
    {
      "cell_type": "code",
      "source": [
        "'Python' * 3"
      ],
      "metadata": {
        "colab": {
          "base_uri": "https://localhost:8080/",
          "height": 36
        },
        "id": "Iwe6UEiW1bkz",
        "outputId": "1f9f3de9-b382-4618-9a43-ac65b6ba3b98"
      },
      "id": "Iwe6UEiW1bkz",
      "execution_count": null,
      "outputs": [
        {
          "output_type": "execute_result",
          "data": {
            "text/plain": [
              "'PythonPythonPython'"
            ],
            "application/vnd.google.colaboratory.intrinsic+json": {
              "type": "string"
            }
          },
          "metadata": {},
          "execution_count": 82
        }
      ]
    },
    {
      "cell_type": "code",
      "source": [
        "'Python' - 'on'"
      ],
      "metadata": {
        "colab": {
          "base_uri": "https://localhost:8080/",
          "height": 165
        },
        "id": "Sqw1-kVt1eg8",
        "outputId": "40d8e70e-210a-4465-e642-6fa893ed3b08"
      },
      "id": "Sqw1-kVt1eg8",
      "execution_count": null,
      "outputs": [
        {
          "output_type": "error",
          "ename": "TypeError",
          "evalue": "ignored",
          "traceback": [
            "\u001b[0;31m---------------------------------------------------------------------------\u001b[0m",
            "\u001b[0;31mTypeError\u001b[0m                                 Traceback (most recent call last)",
            "\u001b[0;32m<ipython-input-83-36cc56ea40af>\u001b[0m in \u001b[0;36m<cell line: 1>\u001b[0;34m()\u001b[0m\n\u001b[0;32m----> 1\u001b[0;31m \u001b[0;34m'Python'\u001b[0m \u001b[0;34m-\u001b[0m \u001b[0;34m'on'\u001b[0m\u001b[0;34m\u001b[0m\u001b[0;34m\u001b[0m\u001b[0m\n\u001b[0m",
            "\u001b[0;31mTypeError\u001b[0m: unsupported operand type(s) for -: 'str' and 'str'"
          ]
        }
      ]
    },
    {
      "cell_type": "code",
      "source": [
        "my_text = \"It's a string\"\n",
        "\n",
        "# single quote will not work with apostrophe in a sentence\n",
        "my_text = 'It's not a string'"
      ],
      "metadata": {
        "colab": {
          "base_uri": "https://localhost:8080/",
          "height": 130
        },
        "id": "N0zgWIk51nHJ",
        "outputId": "4efecef5-1b2d-4f78-e4c3-0a80363fbabb"
      },
      "id": "N0zgWIk51nHJ",
      "execution_count": null,
      "outputs": [
        {
          "output_type": "error",
          "ename": "SyntaxError",
          "evalue": "ignored",
          "traceback": [
            "\u001b[0;36m  File \u001b[0;32m\"<ipython-input-86-c9e028b2a1f6>\"\u001b[0;36m, line \u001b[0;32m4\u001b[0m\n\u001b[0;31m    my_text = 'It's not a string'\u001b[0m\n\u001b[0m                  ^\u001b[0m\n\u001b[0;31mSyntaxError\u001b[0m\u001b[0;31m:\u001b[0m invalid syntax\n"
          ]
        }
      ]
    },
    {
      "cell_type": "code",
      "source": [
        "# unless you'll use an escape character (backward slash)\n",
        "my_text = 'It\\'s also a string'"
      ],
      "metadata": {
        "id": "RHUNaX9n2FI8"
      },
      "id": "RHUNaX9n2FI8",
      "execution_count": null,
      "outputs": []
    },
    {
      "cell_type": "markdown",
      "source": [
        "### String basic formatting"
      ],
      "metadata": {
        "id": "VRvWYgz90r8x"
      },
      "id": "VRvWYgz90r8x"
    },
    {
      "cell_type": "code",
      "source": [
        "user_name = input(\"What is your name? \")"
      ],
      "metadata": {
        "colab": {
          "base_uri": "https://localhost:8080/"
        },
        "id": "EEwTyG6mwVnf",
        "outputId": "117826f0-bd92-41d4-9044-524b4a64f551"
      },
      "id": "EEwTyG6mwVnf",
      "execution_count": null,
      "outputs": [
        {
          "name": "stdout",
          "output_type": "stream",
          "text": [
            "What is your name? Piotr\n"
          ]
        }
      ]
    },
    {
      "cell_type": "markdown",
      "source": [
        "There are multiple ways to format a string, ie. adjust is based on selected values. Previously introduced are\n",
        "* %operator\n",
        "```python\n",
        "print(\"Hello %s!\" % user_name)\n",
        "```\n",
        "* .format()\n",
        "```python\n",
        "print(\"Hello {0}!\".format(user_name))\n",
        "```\n",
        "* f-strings\n",
        "```python\n",
        "print(f\"Hello {user_name}!\")\n",
        "```"
      ],
      "metadata": {
        "id": "NTh3KILmzm7g"
      },
      "id": "NTh3KILmzm7g"
    },
    {
      "cell_type": "code",
      "source": [
        "f\"Hello {user_name}!\""
      ],
      "metadata": {
        "colab": {
          "base_uri": "https://localhost:8080/",
          "height": 36
        },
        "id": "1QETRu94zelN",
        "outputId": "82c923c5-2c08-4764-d75f-5a3373f2521f"
      },
      "id": "1QETRu94zelN",
      "execution_count": null,
      "outputs": [
        {
          "output_type": "execute_result",
          "data": {
            "text/plain": [
              "'Hello Piotr!'"
            ],
            "application/vnd.google.colaboratory.intrinsic+json": {
              "type": "string"
            }
          },
          "metadata": {},
          "execution_count": 80
        }
      ]
    },
    {
      "cell_type": "markdown",
      "source": [
        "### String operations"
      ],
      "metadata": {
        "id": "-6_UBrtr2Yh_"
      },
      "id": "-6_UBrtr2Yh_"
    },
    {
      "cell_type": "code",
      "source": [
        "'python'.capitalize()"
      ],
      "metadata": {
        "colab": {
          "base_uri": "https://localhost:8080/",
          "height": 36
        },
        "id": "GcyRUvFr2avX",
        "outputId": "4239a55e-ddde-40f4-a5c0-85b612155afb"
      },
      "id": "GcyRUvFr2avX",
      "execution_count": null,
      "outputs": [
        {
          "output_type": "execute_result",
          "data": {
            "text/plain": [
              "'Python'"
            ],
            "application/vnd.google.colaboratory.intrinsic+json": {
              "type": "string"
            }
          },
          "metadata": {},
          "execution_count": 91
        }
      ]
    },
    {
      "cell_type": "code",
      "source": [
        "'two words'.capitalize()"
      ],
      "metadata": {
        "colab": {
          "base_uri": "https://localhost:8080/",
          "height": 36
        },
        "id": "hjW2Z6482mLe",
        "outputId": "467b5abe-fabc-4a88-9b05-053c1ba52fbf"
      },
      "id": "hjW2Z6482mLe",
      "execution_count": null,
      "outputs": [
        {
          "output_type": "execute_result",
          "data": {
            "text/plain": [
              "'Two words'"
            ],
            "application/vnd.google.colaboratory.intrinsic+json": {
              "type": "string"
            }
          },
          "metadata": {},
          "execution_count": 93
        }
      ]
    },
    {
      "cell_type": "code",
      "source": [
        "'SDA'.lower()"
      ],
      "metadata": {
        "colab": {
          "base_uri": "https://localhost:8080/",
          "height": 36
        },
        "id": "2a_L1T3L2rPX",
        "outputId": "2093913c-f8ad-47b4-cbb4-c597c2a1fa44"
      },
      "id": "2a_L1T3L2rPX",
      "execution_count": null,
      "outputs": [
        {
          "output_type": "execute_result",
          "data": {
            "text/plain": [
              "'sda'"
            ],
            "application/vnd.google.colaboratory.intrinsic+json": {
              "type": "string"
            }
          },
          "metadata": {},
          "execution_count": 96
        }
      ]
    },
    {
      "cell_type": "code",
      "source": [
        "user_name.center(15)"
      ],
      "metadata": {
        "colab": {
          "base_uri": "https://localhost:8080/",
          "height": 36
        },
        "id": "Vv6odRCu25a2",
        "outputId": "07398bea-a5ba-45ac-e85a-db4fc23fa485"
      },
      "id": "Vv6odRCu25a2",
      "execution_count": null,
      "outputs": [
        {
          "output_type": "execute_result",
          "data": {
            "text/plain": [
              "'     Piotr     '"
            ],
            "application/vnd.google.colaboratory.intrinsic+json": {
              "type": "string"
            }
          },
          "metadata": {},
          "execution_count": 98
        }
      ]
    },
    {
      "cell_type": "code",
      "source": [
        "'How many letters \"a\" are there in a sentence?'.count('a')"
      ],
      "metadata": {
        "colab": {
          "base_uri": "https://localhost:8080/"
        },
        "id": "enErTSVj3GQe",
        "outputId": "a06c3050-905e-402e-fb10-cd60bb98a31b"
      },
      "id": "enErTSVj3GQe",
      "execution_count": null,
      "outputs": [
        {
          "output_type": "execute_result",
          "data": {
            "text/plain": [
              "4"
            ]
          },
          "metadata": {},
          "execution_count": 100
        }
      ]
    },
    {
      "cell_type": "code",
      "source": [
        "# look for a first letter \"a\" in a sentence\n",
        "'How many letters \"a\" are there in a sentence?'.find('a')"
      ],
      "metadata": {
        "colab": {
          "base_uri": "https://localhost:8080/"
        },
        "id": "JxPJkSnJ3TvU",
        "outputId": "0775fff2-5808-4f2b-93b2-57e15a6d6730"
      },
      "id": "JxPJkSnJ3TvU",
      "execution_count": null,
      "outputs": [
        {
          "output_type": "execute_result",
          "data": {
            "text/plain": [
              "5"
            ]
          },
          "metadata": {},
          "execution_count": 104
        }
      ]
    },
    {
      "cell_type": "code",
      "source": [
        "'How many letters \"a\" are there in a sentence?'.endswith('sentence?')"
      ],
      "metadata": {
        "colab": {
          "base_uri": "https://localhost:8080/"
        },
        "id": "Xdxl12_U3O4G",
        "outputId": "0b74e887-7575-49f1-d57a-4167c5a1e6ed"
      },
      "id": "Xdxl12_U3O4G",
      "execution_count": null,
      "outputs": [
        {
          "output_type": "execute_result",
          "data": {
            "text/plain": [
              "True"
            ]
          },
          "metadata": {},
          "execution_count": 102
        }
      ]
    },
    {
      "cell_type": "markdown",
      "source": [
        "It is worth playing around with other string methods, especially:\n",
        "```python\n",
        ".format()\n",
        ".isalnum()\n",
        ".isalpha()\n",
        ".isascii()\n",
        ".islower()\n",
        ".lower()\n",
        ".strip()  # removes white spaces\n",
        ".startswith()\n",
        ".replace()\n",
        ".split()  # splits the object into arrays, treating the given string as a separator (by default it is a space)\n",
        ".title()\n",
        ".join()  # joins several strings into one\n",
        "```\n",
        "see more [here](https://docs.python.org/3/library/stdtypes.html#string-methods)."
      ],
      "metadata": {
        "id": "-yNGSzzD3gNv"
      },
      "id": "-yNGSzzD3gNv"
    },
    {
      "cell_type": "markdown",
      "source": [
        "**<font color='#306998'>STRING </font><font color='#ffd33b'>LENGTH</font>**"
      ],
      "metadata": {
        "id": "vKXkXV-L4yys"
      },
      "id": "vKXkXV-L4yys"
    },
    {
      "cell_type": "code",
      "source": [
        "len(user_name), len(\"My custom text\")"
      ],
      "metadata": {
        "colab": {
          "base_uri": "https://localhost:8080/"
        },
        "id": "beYk2-Kp4iwH",
        "outputId": "fbd765df-8e9a-4962-b934-39d3c4e70e55"
      },
      "id": "beYk2-Kp4iwH",
      "execution_count": null,
      "outputs": [
        {
          "output_type": "execute_result",
          "data": {
            "text/plain": [
              "(5, 14)"
            ]
          },
          "metadata": {},
          "execution_count": 106
        }
      ]
    },
    {
      "cell_type": "code",
      "source": [
        "assert len(\"My custom text\") == 14"
      ],
      "metadata": {
        "id": "AiVUgcfj4qRy"
      },
      "id": "AiVUgcfj4qRy",
      "execution_count": null,
      "outputs": []
    },
    {
      "cell_type": "markdown",
      "source": [
        "**<font color='#306998'>SPLIT A </font><font color='#ffd33b'>STRING</font>**"
      ],
      "metadata": {
        "id": "RDq_CCpf4zrv"
      },
      "id": "RDq_CCpf4zrv"
    },
    {
      "cell_type": "code",
      "source": [
        "\"Name Surname\".split()"
      ],
      "metadata": {
        "colab": {
          "base_uri": "https://localhost:8080/"
        },
        "id": "7zmNYzeQ4wJ2",
        "outputId": "0c42a1a4-676d-43bc-954f-9e421eefbd4d"
      },
      "id": "7zmNYzeQ4wJ2",
      "execution_count": null,
      "outputs": [
        {
          "output_type": "execute_result",
          "data": {
            "text/plain": [
              "['Name', 'Surname']"
            ]
          },
          "metadata": {},
          "execution_count": 108
        }
      ]
    },
    {
      "cell_type": "code",
      "source": [
        "\"Name,Surname\".split(',')"
      ],
      "metadata": {
        "colab": {
          "base_uri": "https://localhost:8080/"
        },
        "id": "4jDAYsTp4-ef",
        "outputId": "4822308c-dfd5-4be4-ebf5-26972d6d55e2"
      },
      "id": "4jDAYsTp4-ef",
      "execution_count": null,
      "outputs": [
        {
          "output_type": "execute_result",
          "data": {
            "text/plain": [
              "['Name', 'Surname']"
            ]
          },
          "metadata": {},
          "execution_count": 109
        }
      ]
    },
    {
      "cell_type": "code",
      "source": [
        "\"Name\\tSurname\".split('\\t')"
      ],
      "metadata": {
        "colab": {
          "base_uri": "https://localhost:8080/"
        },
        "id": "bxS9GKAz5AXq",
        "outputId": "ee9bdfe1-2391-4f7e-f0c8-4a486fabcffb"
      },
      "id": "bxS9GKAz5AXq",
      "execution_count": null,
      "outputs": [
        {
          "output_type": "execute_result",
          "data": {
            "text/plain": [
              "['Name', 'Surname']"
            ]
          },
          "metadata": {},
          "execution_count": 111
        }
      ]
    },
    {
      "cell_type": "code",
      "source": [
        "print(\"Name\\tSurname\")"
      ],
      "metadata": {
        "colab": {
          "base_uri": "https://localhost:8080/"
        },
        "id": "K-c4chQA5Gea",
        "outputId": "60f84e3e-b6c7-4d9b-b397-1831e61d1685"
      },
      "id": "K-c4chQA5Gea",
      "execution_count": null,
      "outputs": [
        {
          "output_type": "stream",
          "name": "stdout",
          "text": [
            "Name\tSurname\n"
          ]
        }
      ]
    },
    {
      "cell_type": "code",
      "source": [
        "print(\"Name\\nSurname\")"
      ],
      "metadata": {
        "colab": {
          "base_uri": "https://localhost:8080/"
        },
        "id": "sVDf-13X5Nu_",
        "outputId": "57c3aa6a-83af-4efa-a9d3-7a1ed7a06d5c"
      },
      "id": "sVDf-13X5Nu_",
      "execution_count": null,
      "outputs": [
        {
          "output_type": "stream",
          "name": "stdout",
          "text": [
            "Name\n",
            "Surname\n"
          ]
        }
      ]
    },
    {
      "cell_type": "code",
      "source": [
        "f\"Hello {user_name}\".replace(user_name, \"SDA\")"
      ],
      "metadata": {
        "colab": {
          "base_uri": "https://localhost:8080/",
          "height": 36
        },
        "id": "yryzN0gm5SHS",
        "outputId": "0435dd45-8d85-4538-d270-b3bfa204b4f4"
      },
      "id": "yryzN0gm5SHS",
      "execution_count": null,
      "outputs": [
        {
          "output_type": "execute_result",
          "data": {
            "text/plain": [
              "'Hello SDA'"
            ],
            "application/vnd.google.colaboratory.intrinsic+json": {
              "type": "string"
            }
          },
          "metadata": {},
          "execution_count": 115
        }
      ]
    },
    {
      "cell_type": "markdown",
      "source": [
        "**<font color='#306998'>REVERSE A </font><font color='#ffd33b'>STRING</font>**"
      ],
      "metadata": {
        "id": "X72Brp8P5ZhJ"
      },
      "id": "X72Brp8P5ZhJ"
    },
    {
      "cell_type": "code",
      "source": [
        "user_name[0], user_name[-1]"
      ],
      "metadata": {
        "colab": {
          "base_uri": "https://localhost:8080/"
        },
        "id": "qAKk2dbr5YyY",
        "outputId": "51b1394a-0d4e-43a8-c9ad-db33ead97612"
      },
      "id": "qAKk2dbr5YyY",
      "execution_count": null,
      "outputs": [
        {
          "output_type": "execute_result",
          "data": {
            "text/plain": [
              "('P', 'r')"
            ]
          },
          "metadata": {},
          "execution_count": 117
        }
      ]
    },
    {
      "cell_type": "code",
      "source": [
        "user_name[2:4]"
      ],
      "metadata": {
        "colab": {
          "base_uri": "https://localhost:8080/",
          "height": 36
        },
        "id": "jKJwfVtw5j40",
        "outputId": "bcb2dccd-e887-452f-ba5d-410100a25af7"
      },
      "id": "jKJwfVtw5j40",
      "execution_count": null,
      "outputs": [
        {
          "output_type": "execute_result",
          "data": {
            "text/plain": [
              "'ot'"
            ],
            "application/vnd.google.colaboratory.intrinsic+json": {
              "type": "string"
            }
          },
          "metadata": {},
          "execution_count": 120
        }
      ]
    },
    {
      "cell_type": "code",
      "source": [
        "user_name[::-1]"
      ],
      "metadata": {
        "colab": {
          "base_uri": "https://localhost:8080/",
          "height": 36
        },
        "id": "hCqd66i65qRy",
        "outputId": "28d57b86-26af-4bda-a4a0-6acd83ebe141"
      },
      "id": "hCqd66i65qRy",
      "execution_count": null,
      "outputs": [
        {
          "output_type": "execute_result",
          "data": {
            "text/plain": [
              "'rtoiP'"
            ],
            "application/vnd.google.colaboratory.intrinsic+json": {
              "type": "string"
            }
          },
          "metadata": {},
          "execution_count": 121
        }
      ]
    },
    {
      "cell_type": "markdown",
      "source": [
        "<img src=\"https://drive.google.com/uc?export=view&id=1UO2urRciECzoKE_vHy4RMGfFbkOWOGlW\" alt=\"SDA logo\" align=\"left\" width=\"100px\" hspace=\"10px\" vspace=\"10px\"/>\n",
        "<br>\n",
        "\n",
        "# Functions - a few words about functional programming\n",
        "\n",
        "<br><br>\n",
        "**<font color='#306998'>PYTHON </font><font color='#ffd33b'>FUNCTION</font>** is a clearly separated piece of code with one specific task.\n",
        "\n",
        "Function declaration begins with the **def** keyword and is followed by the **name** of the function, e.g. compute_bmi().\n",
        "Within parentheses, we optionally specify the list of **function arguments**, separated by commas (here, we have two: weight and height). Next, in the **function body** we describe what it does and we can end it with **`return` clause**.\n",
        "\n",
        "We already used some of built-in functions like `len()` or `type()`. It's time to create one on our own!"
      ],
      "metadata": {
        "id": "7GRPmY9kkjw9"
      },
      "id": "7GRPmY9kkjw9"
    },
    {
      "cell_type": "code",
      "source": [
        "def my_first_function():\n",
        "    pass"
      ],
      "metadata": {
        "id": "vmd2UHG17rOK"
      },
      "id": "vmd2UHG17rOK",
      "execution_count": null,
      "outputs": []
    },
    {
      "cell_type": "code",
      "source": [
        "my_first_function()"
      ],
      "metadata": {
        "id": "HvKFsrak7uTv"
      },
      "id": "HvKFsrak7uTv",
      "execution_count": null,
      "outputs": []
    },
    {
      "cell_type": "code",
      "source": [
        "def print_user_name():\n",
        "    print(user_name)"
      ],
      "metadata": {
        "id": "CV9FuVSy7wLR"
      },
      "id": "CV9FuVSy7wLR",
      "execution_count": null,
      "outputs": []
    },
    {
      "cell_type": "code",
      "source": [
        "print_user_name()"
      ],
      "metadata": {
        "colab": {
          "base_uri": "https://localhost:8080/"
        },
        "id": "L8SE8JsR716f",
        "outputId": "777c4de7-43c9-4881-a0c4-ce7e6e9ccde8"
      },
      "id": "L8SE8JsR716f",
      "execution_count": null,
      "outputs": [
        {
          "output_type": "stream",
          "name": "stdout",
          "text": [
            "Piotr\n"
          ]
        }
      ]
    },
    {
      "cell_type": "code",
      "source": [
        "def say_hello_to_user(name):\n",
        "    print(f\"Hello {name}, nice to meet you!\")"
      ],
      "metadata": {
        "id": "vUVvSEEG74f5"
      },
      "id": "vUVvSEEG74f5",
      "execution_count": null,
      "outputs": []
    },
    {
      "cell_type": "code",
      "source": [
        "say_hello_to_user(\"Fake name\")"
      ],
      "metadata": {
        "colab": {
          "base_uri": "https://localhost:8080/"
        },
        "id": "SYX-b_pW79n3",
        "outputId": "c9d74d61-df11-4480-d935-bafa4f1e98ec"
      },
      "id": "SYX-b_pW79n3",
      "execution_count": null,
      "outputs": [
        {
          "output_type": "stream",
          "name": "stdout",
          "text": [
            "Hello Fake name, nice to meet you!\n"
          ]
        }
      ]
    },
    {
      "cell_type": "markdown",
      "source": [
        "<img src=\"https://drive.google.com/uc?export=view&id=141XOz6N4nk8Ru1sAl7vOsAToCLrSFCAX\" alt=\"SDA logo\" width=\"150\" align='right'/>\n",
        "\n",
        "## Example\n",
        "\n",
        "Why do we need it? For code reusibility - write your piece of code once and use it whenever needed - for example we can compute BMI for each attendee of the course."
      ],
      "metadata": {
        "id": "vU9EH8yW8WBF"
      },
      "id": "vU9EH8yW8WBF"
    },
    {
      "cell_type": "code",
      "source": [
        "def compute_bmi(weight, height):\n",
        "    bmi = weight / height ** 2\n",
        "    if bmi < 18.5:\n",
        "        result = 'underweight'\n",
        "    elif bmi > 25:\n",
        "        result = 'overweight'\n",
        "    else:\n",
        "        result = 'normal'\n",
        "    return result"
      ],
      "metadata": {
        "id": "zqg640KdKAsm"
      },
      "id": "zqg640KdKAsm",
      "execution_count": null,
      "outputs": []
    },
    {
      "cell_type": "markdown",
      "source": [
        "In the line below, **ask the user for the input** and store his/her  body weight in the variable `user_weight` for the later use.\n",
        "\n",
        "Data from the user is obtained using the standard `input()` function, which takes as an argument the message that will be displayed to the user (in the example below: `\"Your weight [kg]: \"`).\n",
        "\n",
        "The `input()` function returns `string`, but we need a number, so we have to convert the text to number with `float()` or `int()` function. Note, that this may of course fail if the user enters something that is not a numerical value."
      ],
      "metadata": {
        "id": "hIupOB75H1Kk"
      },
      "id": "hIupOB75H1Kk"
    },
    {
      "cell_type": "code",
      "source": [
        "user_weight = float(input(\"Your weight [kg]: \"))"
      ],
      "metadata": {
        "colab": {
          "base_uri": "https://localhost:8080/"
        },
        "id": "rIsEO3M0HbZo",
        "outputId": "44cc7d91-86c4-49dd-cb92-b659a4edd3f3"
      },
      "id": "rIsEO3M0HbZo",
      "execution_count": null,
      "outputs": [
        {
          "name": "stdout",
          "output_type": "stream",
          "text": [
            "Your weight [kg]: 56\n"
          ]
        }
      ]
    },
    {
      "cell_type": "markdown",
      "source": [
        "Next, we save the results returned by the function and assign its value to the `user_result` variable. The `=` sign in this case (as in all other lines) is the assignment sign, so you can read it: assign to what is on the left side (i.e. to the variable user_result) the value which is on the right side (i.e. the result of the function compute_bmi).\n"
      ],
      "metadata": {
        "id": "hec4xE3IHvTI"
      },
      "id": "hec4xE3IHvTI"
    },
    {
      "cell_type": "code",
      "source": [
        "user_result = compute_bmi(user_weight, 185)"
      ],
      "metadata": {
        "id": "ECal9TrSHkhY"
      },
      "id": "ECal9TrSHkhY",
      "execution_count": null,
      "outputs": []
    },
    {
      "cell_type": "code",
      "source": [
        "user_result"
      ],
      "metadata": {
        "colab": {
          "base_uri": "https://localhost:8080/",
          "height": 36
        },
        "id": "iGaEQFKaJ-32",
        "outputId": "bc4a8179-c58d-446a-f7f6-8a611f6631fe"
      },
      "id": "iGaEQFKaJ-32",
      "execution_count": null,
      "outputs": [
        {
          "output_type": "execute_result",
          "data": {
            "text/plain": [
              "'underweight'"
            ],
            "application/vnd.google.colaboratory.intrinsic+json": {
              "type": "string"
            }
          },
          "metadata": {},
          "execution_count": 142
        }
      ]
    },
    {
      "cell_type": "code",
      "source": [
        "if __name__ == '__main__':\n",
        "    user_weight = float(input(\"Your weight [kg]: \"))\n",
        "    user_height = float(input(\"Your height [m]: \"))\n",
        "    user_result = compute_bmi(user_weight, user_height)\n",
        "    print(f'You are {user_result}!')"
      ],
      "metadata": {
        "colab": {
          "base_uri": "https://localhost:8080/"
        },
        "id": "biTWj5DKKcN6",
        "outputId": "5e93b506-ba8b-4759-af23-8817779b88ff"
      },
      "id": "biTWj5DKKcN6",
      "execution_count": null,
      "outputs": [
        {
          "output_type": "stream",
          "name": "stdout",
          "text": [
            "Your weight [kg]: 55\n",
            "Your height [m]: 1.75\n",
            "You are underweight!\n"
          ]
        }
      ]
    },
    {
      "cell_type": "markdown",
      "source": [
        "The `print()` function takes the text given as the function argument and displays it to the console. However, in this case, the text cannot be interpreted literally. We let us know about it by putting the letter `f` in front of the text. This means that we have created the so-called `f-string`.\n",
        "\n",
        "You can use the previously introduced variables within an f-string to print out its value.\n",
        "\n",
        "\n",
        "```python\n",
        "print(f'You are {user_result}')\n",
        "```\n",
        "\n"
      ],
      "metadata": {
        "id": "VleByTAlLrE4"
      },
      "id": "VleByTAlLrE4"
    },
    {
      "cell_type": "markdown",
      "source": [
        "**<font color='#306998'>TASK </font><font color='#ffd33b'>FOR YOU</font>**\n",
        "\n",
        "Try to rewrite `compute_bmi()` function, such that, it returns not only the `user_results`, but also BMI value. Print it out together with the result and make sure that the value is rounded to two decimal places.\n",
        "\n",
        "*For example: \"You are normal, your BMI is around 23.15.\"*"
      ],
      "metadata": {
        "id": "QuHj-bdu9hnp"
      },
      "id": "QuHj-bdu9hnp"
    },
    {
      "cell_type": "markdown",
      "source": [
        "<img src=\"https://drive.google.com/uc?export=view&id=141XOz6N4nk8Ru1sAl7vOsAToCLrSFCAX\" alt=\"SDA logo\" width=\"150\" align='right'/>\n",
        "\n",
        "## Default arguments\n",
        "\n",
        "In Python, a function can have **default arguments**.\n",
        "In this case, in the signature of the function (the part consisting of the function name and the list of its parameters), we can provide the default value for selected arguments by using **an equal sign**.\n",
        "* Arguments without default values must precede arguments with default values, the two cannot be mixed.\n",
        "* When calling the function, you can limit yourself to specifying parameters that do not have default values, or you can also specify those that have a default value to overwrite it."
      ],
      "metadata": {
        "id": "Gk3eT_9nADIG"
      },
      "id": "Gk3eT_9nADIG"
    },
    {
      "cell_type": "code",
      "source": [
        "def say_hello_to_user(name=None):\n",
        "    if name == None:\n",
        "        print(\"Hello incognito user :)\")\n",
        "    else:\n",
        "        print(f\"Hello {name}, nice to meet you!\")"
      ],
      "metadata": {
        "id": "r_m9b4OWAEPA"
      },
      "id": "r_m9b4OWAEPA",
      "execution_count": null,
      "outputs": []
    },
    {
      "cell_type": "code",
      "source": [
        "say_hello_to_user()"
      ],
      "metadata": {
        "colab": {
          "base_uri": "https://localhost:8080/"
        },
        "id": "FEz0E4JXBFZC",
        "outputId": "98ad954d-a5f6-4769-8cdc-e4f9187c10b7"
      },
      "id": "FEz0E4JXBFZC",
      "execution_count": null,
      "outputs": [
        {
          "output_type": "stream",
          "name": "stdout",
          "text": [
            "Hello incognito user :)\n"
          ]
        }
      ]
    },
    {
      "cell_type": "code",
      "source": [
        "say_hello_to_user(user_name)"
      ],
      "metadata": {
        "colab": {
          "base_uri": "https://localhost:8080/"
        },
        "id": "8Z1thT4bBHkz",
        "outputId": "6c4b47a5-b3ae-46e5-c5d0-36d41596e89b"
      },
      "id": "8Z1thT4bBHkz",
      "execution_count": null,
      "outputs": [
        {
          "output_type": "stream",
          "name": "stdout",
          "text": [
            "Hello Piotr, nice to meet you!\n"
          ]
        }
      ]
    },
    {
      "cell_type": "code",
      "source": [
        "say_hello_to_user(name=user_name)"
      ],
      "metadata": {
        "colab": {
          "base_uri": "https://localhost:8080/"
        },
        "id": "Az-1nNA3BLI5",
        "outputId": "091b7dee-c87c-49f2-e399-54ce265e8be8"
      },
      "id": "Az-1nNA3BLI5",
      "execution_count": null,
      "outputs": [
        {
          "output_type": "stream",
          "name": "stdout",
          "text": [
            "Hello Piotr, nice to meet you!\n"
          ]
        }
      ]
    },
    {
      "cell_type": "code",
      "source": [
        "def say_hello_to_user(name, surname=None):\n",
        "    if surname:\n",
        "        full_name = \" \".join([name, surname])\n",
        "    else:\n",
        "        full_name = name\n",
        "    print(f\"Hello {full_name}, nice to meet you!\")"
      ],
      "metadata": {
        "id": "sAVizFScBVJb"
      },
      "id": "sAVizFScBVJb",
      "execution_count": null,
      "outputs": []
    },
    {
      "cell_type": "code",
      "source": [
        "say_hello_to_user(\"James\")"
      ],
      "metadata": {
        "colab": {
          "base_uri": "https://localhost:8080/"
        },
        "id": "dAaIGCK7BnSy",
        "outputId": "a8ad0a43-8e30-4eab-a6bc-00d5a3d4bec0"
      },
      "id": "dAaIGCK7BnSy",
      "execution_count": null,
      "outputs": [
        {
          "output_type": "stream",
          "name": "stdout",
          "text": [
            "Hello James, nice to meet you!\n"
          ]
        }
      ]
    },
    {
      "cell_type": "code",
      "source": [
        "say_hello_to_user(name=\"James\", surname=None)"
      ],
      "metadata": {
        "colab": {
          "base_uri": "https://localhost:8080/"
        },
        "id": "h0H4hfbPB5yF",
        "outputId": "43baa3e8-f267-4dc1-ac83-07801d35a6f7"
      },
      "id": "h0H4hfbPB5yF",
      "execution_count": null,
      "outputs": [
        {
          "output_type": "stream",
          "name": "stdout",
          "text": [
            "Hello James, nice to meet you!\n"
          ]
        }
      ]
    },
    {
      "cell_type": "code",
      "source": [
        "say_hello_to_user(\"James\", \"Bond\")"
      ],
      "metadata": {
        "colab": {
          "base_uri": "https://localhost:8080/"
        },
        "id": "HyrHy9snBqBk",
        "outputId": "d5ebb5d9-aa4c-41d4-e3a3-7e13f24caabf"
      },
      "id": "HyrHy9snBqBk",
      "execution_count": null,
      "outputs": [
        {
          "output_type": "stream",
          "name": "stdout",
          "text": [
            "Hello James Bond, nice to meet you!\n"
          ]
        }
      ]
    },
    {
      "cell_type": "code",
      "source": [
        "say_hello_to_user(surname=\"Bond\")"
      ],
      "metadata": {
        "colab": {
          "base_uri": "https://localhost:8080/",
          "height": 165
        },
        "id": "I3UhwloBB13h",
        "outputId": "202f3da4-0352-480c-efe5-5bb77a4ef53f"
      },
      "id": "I3UhwloBB13h",
      "execution_count": null,
      "outputs": [
        {
          "output_type": "error",
          "ename": "TypeError",
          "evalue": "ignored",
          "traceback": [
            "\u001b[0;31m---------------------------------------------------------------------------\u001b[0m",
            "\u001b[0;31mTypeError\u001b[0m                                 Traceback (most recent call last)",
            "\u001b[0;32m<ipython-input-161-f5f83ee4a31c>\u001b[0m in \u001b[0;36m<cell line: 1>\u001b[0;34m()\u001b[0m\n\u001b[0;32m----> 1\u001b[0;31m \u001b[0msay_hello_to_user\u001b[0m\u001b[0;34m(\u001b[0m\u001b[0msurname\u001b[0m\u001b[0;34m=\u001b[0m\u001b[0;34m\"Bond\"\u001b[0m\u001b[0;34m)\u001b[0m\u001b[0;34m\u001b[0m\u001b[0;34m\u001b[0m\u001b[0m\n\u001b[0m",
            "\u001b[0;31mTypeError\u001b[0m: say_hello_to_user() missing 1 required positional argument: 'name'"
          ]
        }
      ]
    },
    {
      "cell_type": "markdown",
      "source": [
        "As in example above, you can see that when calling a function, we can **pass its arguments by positions** in the same order as they are declared. We do not have to give the names of the parameters then.\n",
        "\n",
        "However, sometimes, we want to give the arguments to the function parameters in a **specific and changed order** and you can do it only when passing parameter names as well as their values.\n",
        "\n",
        "Also, often, to **improve code readability we provide entire pair** (parameter name and selected argument). It saves time and is more bug-prone (we do not have to look back at the function declaration). Moreover, you have to use parameter name if you want to overwrite the default value which is in sequence later than another default parameter, for which we don't want to change the default value.\n",
        "\n"
      ],
      "metadata": {
        "id": "RvJd8kXRL9iz"
      },
      "id": "RvJd8kXRL9iz"
    },
    {
      "cell_type": "code",
      "source": [
        "def my_function(level=\"Basic\", language=\"Java\"):\n",
        "    course_name = \" \".join([level, language])\n",
        "    print(f\"The current course is about \\\"{course_name}\\\".\")"
      ],
      "metadata": {
        "id": "q3hMQYe6Nh51"
      },
      "id": "q3hMQYe6Nh51",
      "execution_count": null,
      "outputs": []
    },
    {
      "cell_type": "code",
      "source": [
        "my_function()"
      ],
      "metadata": {
        "colab": {
          "base_uri": "https://localhost:8080/"
        },
        "id": "Xzx3AgdoOdv2",
        "outputId": "1445c5fd-1949-48f2-914e-82d4c4f46138"
      },
      "id": "Xzx3AgdoOdv2",
      "execution_count": null,
      "outputs": [
        {
          "output_type": "stream",
          "name": "stdout",
          "text": [
            "The current course is about \"Basic Java\".\n"
          ]
        }
      ]
    },
    {
      "cell_type": "code",
      "source": [
        "my_function(\"Python\")"
      ],
      "metadata": {
        "colab": {
          "base_uri": "https://localhost:8080/"
        },
        "id": "73-ocFwBOslc",
        "outputId": "bbc9263e-2ef5-43ea-fdd3-19be8199d9de"
      },
      "id": "73-ocFwBOslc",
      "execution_count": null,
      "outputs": [
        {
          "output_type": "stream",
          "name": "stdout",
          "text": [
            "The current course is about \"Python Java\".\n"
          ]
        }
      ]
    },
    {
      "cell_type": "code",
      "source": [
        "my_function(language=\"Python\")"
      ],
      "metadata": {
        "colab": {
          "base_uri": "https://localhost:8080/"
        },
        "id": "dYXoyHqrOuH_",
        "outputId": "3ae1cb36-70ba-44a9-da29-292f1f54646d"
      },
      "id": "dYXoyHqrOuH_",
      "execution_count": null,
      "outputs": [
        {
          "output_type": "stream",
          "name": "stdout",
          "text": [
            "The current course is about \"Basic Python\".\n"
          ]
        }
      ]
    },
    {
      "cell_type": "markdown",
      "source": [
        "<img src=\"https://drive.google.com/uc?export=view&id=141XOz6N4nk8Ru1sAl7vOsAToCLrSFCAX\" alt=\"SDA logo\" width=\"150\" align='right'/>\n",
        "\n",
        "## `return` statement\n",
        "\n",
        "Fun fact: a function always returns a value, even if you omit the return word in its body!\n",
        "\n",
        "If return is omitted, the function returns None.\n"
      ],
      "metadata": {
        "id": "Qx8ijICiPDDd"
      },
      "id": "Qx8ijICiPDDd"
    },
    {
      "cell_type": "code",
      "source": [
        "def return_none_check():\n",
        "    pass"
      ],
      "metadata": {
        "id": "XvgAEwq0PCnE"
      },
      "id": "XvgAEwq0PCnE",
      "execution_count": null,
      "outputs": []
    },
    {
      "cell_type": "code",
      "source": [
        "assert return_none_check() == None"
      ],
      "metadata": {
        "id": "R-X-M5hIj885"
      },
      "id": "R-X-M5hIj885",
      "execution_count": null,
      "outputs": []
    },
    {
      "cell_type": "markdown",
      "source": [
        "<img src=\"https://drive.google.com/uc?export=view&id=141XOz6N4nk8Ru1sAl7vOsAToCLrSFCAX\" alt=\"SDA logo\" width=\"150\" align='right'/>\n",
        "\n",
        "## Type hints\n",
        "\n",
        "Since Python version 3.5, it has been possible to suggest the type of function parameters and the return value.\n",
        "* Of course, Python continues to be dynamically typed language and the guidelines are only the suggestions for users.\n",
        "* However, there are additional tools (such as mypy) that do static type analysis. PyCharm also understands type annotations and displays warnings if it detects a problem.\n",
        "* Annotations are placed on the function argument list. After each argument, we write a colon followed by the name of the type that the argument should have.\n",
        "* We write the expected return type after the arrow."
      ],
      "metadata": {
        "id": "iLAKmyk4PGov"
      },
      "id": "iLAKmyk4PGov"
    },
    {
      "cell_type": "code",
      "source": [
        "def compute_bmi(weight: int, height: float) -> str:\n",
        "    bmi = weight / height ** 2\n",
        "    if bmi < 18.5:\n",
        "        result = 'underweight'\n",
        "    elif bmi > 25:\n",
        "        result = 'overweight'\n",
        "    else:\n",
        "        result = 'normal'\n",
        "    return result"
      ],
      "metadata": {
        "id": "euQmtd1HP_Hj"
      },
      "id": "euQmtd1HP_Hj",
      "execution_count": null,
      "outputs": []
    },
    {
      "cell_type": "code",
      "source": [
        "compute_bmi(50, 175)"
      ],
      "metadata": {
        "colab": {
          "base_uri": "https://localhost:8080/",
          "height": 36
        },
        "id": "KQcYHCW1Qqj8",
        "outputId": "3c54da7e-e630-4252-bfd9-b897c779845f"
      },
      "id": "KQcYHCW1Qqj8",
      "execution_count": null,
      "outputs": [
        {
          "output_type": "execute_result",
          "data": {
            "text/plain": [
              "'underweight'"
            ],
            "application/vnd.google.colaboratory.intrinsic+json": {
              "type": "string"
            }
          },
          "metadata": {},
          "execution_count": 263
        }
      ]
    },
    {
      "cell_type": "code",
      "source": [
        "def compute_bmi(weight: int, height: float) -> int:\n",
        "    bmi = weight / height ** 2\n",
        "    if bmi < 18.5:\n",
        "        result = 'underweight'\n",
        "    elif bmi > 25:\n",
        "        result = 'overweight'\n",
        "    else:\n",
        "        result = 'normal'\n",
        "    return result"
      ],
      "metadata": {
        "id": "TnK5CVwkQ6hm"
      },
      "id": "TnK5CVwkQ6hm",
      "execution_count": null,
      "outputs": []
    },
    {
      "cell_type": "code",
      "source": [
        "compute_bmi(50, 1.75)"
      ],
      "metadata": {
        "colab": {
          "base_uri": "https://localhost:8080/",
          "height": 36
        },
        "id": "cmCNm99OQ9o6",
        "outputId": "e0429fc9-f2b0-4579-8d4f-2ebeb2420d14"
      },
      "id": "cmCNm99OQ9o6",
      "execution_count": null,
      "outputs": [
        {
          "output_type": "execute_result",
          "data": {
            "text/plain": [
              "'underweight'"
            ],
            "application/vnd.google.colaboratory.intrinsic+json": {
              "type": "string"
            }
          },
          "metadata": {},
          "execution_count": 267
        }
      ]
    },
    {
      "cell_type": "markdown",
      "source": [
        "<img src=\"https://drive.google.com/uc?export=view&id=1UO2urRciECzoKE_vHy4RMGfFbkOWOGlW\" alt=\"SDA logo\" align=\"left\" width=\"100px\" hspace=\"10px\" vspace=\"10px\"/>\n",
        "<br>\n",
        "\n",
        "# More complex data types"
      ],
      "metadata": {
        "id": "XeYPlvSpCPDM"
      },
      "id": "XeYPlvSpCPDM"
    },
    {
      "cell_type": "markdown",
      "source": [
        "<img src=\"https://drive.google.com/uc?export=view&id=141XOz6N4nk8Ru1sAl7vOsAToCLrSFCAX\" alt=\"SDA logo\" width=\"150\" align='right'/>\n",
        "\n",
        "## Lists - `[]`, `list()`\n",
        "\n",
        "**<font color='#306998'>PYTHON </font><font color='#ffd33b'>LIST</font>** is an ordered collection of consecutive objects.\n",
        "\n",
        "Imagine a **menu card** in a restaurant where each dish has an ordinal number - it's also the example of a list. When you place an order, you simply enter the **ID numbers** of the dishes you want. If a restaurant wants to add a new order to its menu, the easiest way is to add it to the end of the list and give it another order number.<br>\n",
        "The situation becomes more complicated when a restaurant wants to **add a new dish** to the beginning of the menu or somewhere in the middle, as the rest of the dishes have to be renumbered. And the same thing happens when we **delete some positions** - it's easy to delete the last item, but when we delete an item from the middle it is neccessary to update the ordinal number of the remaining dishes."
      ],
      "metadata": {
        "id": "Md0cAhqX5FhO"
      },
      "id": "Md0cAhqX5FhO"
    },
    {
      "cell_type": "code",
      "source": [
        "my_list_1 = [1, 2, 3, 4, 5, 6, 7]"
      ],
      "metadata": {
        "id": "Wfsd6LU-4zpj"
      },
      "id": "Wfsd6LU-4zpj",
      "execution_count": null,
      "outputs": []
    },
    {
      "cell_type": "code",
      "source": [
        "empty_list = []\n",
        "empty_list_1 = list()\n",
        "\n",
        "assert empty_list == empty_list_1"
      ],
      "metadata": {
        "id": "ZN5LR4VdDI5I"
      },
      "id": "ZN5LR4VdDI5I",
      "execution_count": null,
      "outputs": []
    },
    {
      "cell_type": "code",
      "source": [
        "list(range(5))"
      ],
      "metadata": {
        "colab": {
          "base_uri": "https://localhost:8080/"
        },
        "id": "iHpJs5wADVur",
        "outputId": "4e1fe87f-d9d3-4db0-ca42-81c282600864"
      },
      "id": "iHpJs5wADVur",
      "execution_count": null,
      "outputs": [
        {
          "output_type": "execute_result",
          "data": {
            "text/plain": [
              "[0, 1, 2, 3, 4]"
            ]
          },
          "metadata": {},
          "execution_count": 171
        }
      ]
    },
    {
      "cell_type": "code",
      "source": [
        "list(range(3, 15))"
      ],
      "metadata": {
        "colab": {
          "base_uri": "https://localhost:8080/"
        },
        "id": "s3aGKLHrDZHL",
        "outputId": "71e2812f-3b5a-478f-d554-092a172c88de"
      },
      "id": "s3aGKLHrDZHL",
      "execution_count": null,
      "outputs": [
        {
          "output_type": "execute_result",
          "data": {
            "text/plain": [
              "[3, 4, 5, 6, 7, 8, 9, 10, 11, 12, 13, 14]"
            ]
          },
          "metadata": {},
          "execution_count": 172
        }
      ]
    },
    {
      "cell_type": "code",
      "source": [
        "list(range(3, 15, 2))"
      ],
      "metadata": {
        "colab": {
          "base_uri": "https://localhost:8080/"
        },
        "id": "firzfY_aDbMR",
        "outputId": "ccc5a979-8b18-4077-e387-b029cec1e028"
      },
      "id": "firzfY_aDbMR",
      "execution_count": null,
      "outputs": [
        {
          "output_type": "execute_result",
          "data": {
            "text/plain": [
              "[3, 5, 7, 9, 11, 13]"
            ]
          },
          "metadata": {},
          "execution_count": 173
        }
      ]
    },
    {
      "cell_type": "markdown",
      "source": [
        "### List elements/items\n",
        "\n",
        "* Each element of the list can be accessed by its index (ID, ordinal number) by using the `[]` operator. In Python and most programming languages, **indexes start at zero**, so to accesses the first element of the list you need to use `list[0]`.\n",
        "* A negative index means end-access, e.g. `-1` is the index of the last element and `-2` is the index of the last but one element (penultimate)."
      ],
      "metadata": {
        "id": "93dWVqSq6j1g"
      },
      "id": "93dWVqSq6j1g"
    },
    {
      "cell_type": "code",
      "source": [
        "print(my_list_1[0], my_list_1[-1], my_list_1[3])"
      ],
      "metadata": {
        "colab": {
          "base_uri": "https://localhost:8080/"
        },
        "id": "KsFd_5ov7WK8",
        "outputId": "60ab5428-aff1-4ad4-e989-2549d3613be5"
      },
      "id": "KsFd_5ov7WK8",
      "execution_count": null,
      "outputs": [
        {
          "output_type": "stream",
          "name": "stdout",
          "text": [
            "1 7 4\n"
          ]
        }
      ]
    },
    {
      "cell_type": "markdown",
      "source": [
        "* You can easily modify the contents of the list at a given index by assignment."
      ],
      "metadata": {
        "id": "Z5sTEkj77O0v"
      },
      "id": "Z5sTEkj77O0v"
    },
    {
      "cell_type": "code",
      "source": [
        "my_list_1[3] = 'my_new_value'"
      ],
      "metadata": {
        "id": "mxbRjIxJ7QGo"
      },
      "id": "mxbRjIxJ7QGo",
      "execution_count": null,
      "outputs": []
    },
    {
      "cell_type": "code",
      "source": [
        "print(my_list_1)"
      ],
      "metadata": {
        "colab": {
          "base_uri": "https://localhost:8080/"
        },
        "id": "CngiYYm57pbW",
        "outputId": "cda5348a-ef2d-4526-d960-824837ec3bfa"
      },
      "id": "CngiYYm57pbW",
      "execution_count": null,
      "outputs": [
        {
          "output_type": "stream",
          "name": "stdout",
          "text": [
            "[1, 2, 3, 'my_new_value', 5, 6, 7]\n"
          ]
        }
      ]
    },
    {
      "cell_type": "markdown",
      "source": [
        "### Indexing\n",
        "\n",
        "* While indexing the list with square brackets you can put much more than just a single index:\n",
        " * two numbers separated by colon represent the list subset, ie. range that starts with the first index of interest and continues up to (but without) the second number,\n",
        "```python\n",
        "my_list_1[2:5]\n",
        "```\n",
        " * three numbers separated by colons represent the range as previously and additionaly allows to specify the step,\n",
        "```python\n",
        "my_list_1[2:5:2]\n",
        "```\n",
        " * if the step is a negative number the elements order will be inverted\n",
        "```python\n",
        "my_list_1[2:5:-1]\n",
        "```\n",
        " * you can also skip some of the three numbers and the defaults will be taken - for the first number it is the beginning of the list, for the second number it is the end and default step is equla to 1\n",
        "```python\n",
        "my_list_1[2::-1]\n",
        "```\n"
      ],
      "metadata": {
        "id": "Bv25AhkY70y0"
      },
      "id": "Bv25AhkY70y0"
    },
    {
      "cell_type": "code",
      "source": [
        "my_list_1[2:5]"
      ],
      "metadata": {
        "colab": {
          "base_uri": "https://localhost:8080/"
        },
        "id": "jGHI4ha-7rk9",
        "outputId": "d604aaa6-71e5-4f59-bf8a-6bbe4677623c"
      },
      "id": "jGHI4ha-7rk9",
      "execution_count": null,
      "outputs": [
        {
          "output_type": "execute_result",
          "data": {
            "text/plain": [
              "[3, 'my_new_value', 5]"
            ]
          },
          "metadata": {},
          "execution_count": 166
        }
      ]
    },
    {
      "cell_type": "code",
      "source": [
        "my_nested_list = [[1, 2], [3, 4]]"
      ],
      "metadata": {
        "id": "_vMoEIxxDmIc"
      },
      "id": "_vMoEIxxDmIc",
      "execution_count": null,
      "outputs": []
    },
    {
      "cell_type": "code",
      "source": [
        "my_nested_list[0]"
      ],
      "metadata": {
        "colab": {
          "base_uri": "https://localhost:8080/"
        },
        "id": "dUWaa3HXDqxe",
        "outputId": "e1298a99-6443-450e-dfc5-9e37b056ff3a"
      },
      "id": "dUWaa3HXDqxe",
      "execution_count": null,
      "outputs": [
        {
          "output_type": "execute_result",
          "data": {
            "text/plain": [
              "[1, 2]"
            ]
          },
          "metadata": {},
          "execution_count": 176
        }
      ]
    },
    {
      "cell_type": "code",
      "source": [
        "my_nested_list[1][-1]"
      ],
      "metadata": {
        "colab": {
          "base_uri": "https://localhost:8080/"
        },
        "id": "AP_543euDscd",
        "outputId": "ac6f6084-b44f-47e3-872b-bbc2445f95dd"
      },
      "id": "AP_543euDscd",
      "execution_count": null,
      "outputs": [
        {
          "output_type": "execute_result",
          "data": {
            "text/plain": [
              "4"
            ]
          },
          "metadata": {},
          "execution_count": 177
        }
      ]
    },
    {
      "cell_type": "markdown",
      "source": [
        "### Combine two lists\n",
        "\n",
        "* if we want to combine elements from two distinct lists\n",
        " * we can just add them with `+` operator to create a new list\n",
        "```python\n",
        "[1, 2, 3] + ['a', 'b']\n",
        ">>> [1, 2, 3, 'a', 'b']\n",
        "```\n",
        " * or use the `.extend()` method to update the first list with items from the second one\n",
        "```python\n",
        "first_list = [1, 2, 3]\n",
        "first_list.extend(['a', 'b'])\n",
        "print(first_list)\n",
        ">>> [1, 2, 3, 'a', 'b']\n",
        "```"
      ],
      "metadata": {
        "id": "GQj-w-Td9iZA"
      },
      "id": "GQj-w-Td9iZA"
    },
    {
      "cell_type": "code",
      "source": [
        "first_list = [1, 2, 3]\n",
        "second_list = ['a', 'b', 'c']\n",
        "\n",
        "new_list = first_list + second_list\n",
        "print(new_list)"
      ],
      "metadata": {
        "colab": {
          "base_uri": "https://localhost:8080/"
        },
        "id": "GsWshwk28fwf",
        "outputId": "3646e5b5-6c6c-4321-ad7b-b2b0f531da16"
      },
      "id": "GsWshwk28fwf",
      "execution_count": null,
      "outputs": [
        {
          "output_type": "stream",
          "name": "stdout",
          "text": [
            "[1, 2, 3, 'a', 'b', 'c']\n"
          ]
        }
      ]
    },
    {
      "cell_type": "code",
      "source": [
        "print(first_list)\n",
        "\n",
        "first_list.extend([0])\n",
        "print(first_list)"
      ],
      "metadata": {
        "colab": {
          "base_uri": "https://localhost:8080/"
        },
        "id": "G3g8kbdP_p_R",
        "outputId": "238dfd08-ecc6-4b8e-8709-14d5550048de"
      },
      "id": "G3g8kbdP_p_R",
      "execution_count": null,
      "outputs": [
        {
          "output_type": "stream",
          "name": "stdout",
          "text": [
            "[1, 2, 3]\n",
            "[1, 2, 3, 0]\n"
          ]
        }
      ]
    },
    {
      "cell_type": "markdown",
      "source": [
        " * append - to add object ot the end of the list"
      ],
      "metadata": {
        "id": "lkyjyola_-GQ"
      },
      "id": "lkyjyola_-GQ"
    },
    {
      "cell_type": "code",
      "source": [
        "print(first_list)\n",
        "\n",
        "first_list.append(7)\n",
        "print(first_list)"
      ],
      "metadata": {
        "id": "ze3H7ZXEACMX",
        "colab": {
          "base_uri": "https://localhost:8080/"
        },
        "outputId": "7ec58d88-eb6c-4e4e-c832-7e1787a50a3f"
      },
      "id": "ze3H7ZXEACMX",
      "execution_count": null,
      "outputs": [
        {
          "output_type": "stream",
          "name": "stdout",
          "text": [
            "[1, 2, 3, 0]\n",
            "[1, 2, 3, 0, 7]\n"
          ]
        }
      ]
    },
    {
      "cell_type": "markdown",
      "source": [
        "At first sight, it seems that `.append()` and `.extend()` can be used interchangably, however, notice the difference when the input is a list not a single item."
      ],
      "metadata": {
        "id": "yBMVFrMvEPBa"
      },
      "id": "yBMVFrMvEPBa"
    },
    {
      "cell_type": "code",
      "source": [
        "first_list.append([7, 8, 9])\n",
        "first_list"
      ],
      "metadata": {
        "colab": {
          "base_uri": "https://localhost:8080/"
        },
        "id": "V7DJqzWpED4G",
        "outputId": "60e4fe7d-c932-4f1d-f21d-dc5147405ee8"
      },
      "id": "V7DJqzWpED4G",
      "execution_count": null,
      "outputs": [
        {
          "output_type": "execute_result",
          "data": {
            "text/plain": [
              "[1, 2, 3, 0, 7, [7, 8, 9], 7, 8, 9, [7, 8, 9]]"
            ]
          },
          "metadata": {},
          "execution_count": 188
        }
      ]
    },
    {
      "cell_type": "code",
      "source": [
        "first_list.extend([7, 8, 9])\n",
        "first_list"
      ],
      "metadata": {
        "colab": {
          "base_uri": "https://localhost:8080/"
        },
        "id": "gA14vN4rEJcE",
        "outputId": "441073ad-0530-4ddf-da5d-8b3e29df0480"
      },
      "id": "gA14vN4rEJcE",
      "execution_count": null,
      "outputs": [
        {
          "output_type": "execute_result",
          "data": {
            "text/plain": [
              "[1, 2, 3, 0, 7, [7, 8, 9], 7, 8, 9, [7, 8, 9], 7, 8, 9]"
            ]
          },
          "metadata": {},
          "execution_count": 189
        }
      ]
    },
    {
      "cell_type": "code",
      "source": [
        "first_list.pop()"
      ],
      "metadata": {
        "colab": {
          "base_uri": "https://localhost:8080/"
        },
        "id": "5bWHOqIOEgSd",
        "outputId": "4103e997-4822-4ce0-a77f-24c16dd1c90d"
      },
      "id": "5bWHOqIOEgSd",
      "execution_count": null,
      "outputs": [
        {
          "output_type": "execute_result",
          "data": {
            "text/plain": [
              "9"
            ]
          },
          "metadata": {},
          "execution_count": 190
        }
      ]
    },
    {
      "cell_type": "code",
      "source": [
        "first_list.pop(4)  # index-based"
      ],
      "metadata": {
        "colab": {
          "base_uri": "https://localhost:8080/"
        },
        "id": "SNhNJSkgE1kx",
        "outputId": "a546d2cc-f80c-4583-d932-2b0ef5356935"
      },
      "id": "SNhNJSkgE1kx",
      "execution_count": null,
      "outputs": [
        {
          "output_type": "execute_result",
          "data": {
            "text/plain": [
              "7"
            ]
          },
          "metadata": {},
          "execution_count": 191
        }
      ]
    },
    {
      "cell_type": "markdown",
      "source": [
        "### Remove selected items\n",
        "\n",
        "So far we've only seen the `.append()`, `.extend()`, and `.pop()` methods, which let you add an item to existing list, combine two lists by adding the new items to the end, or remove a single item.\n",
        "* to remove an item from the middle of the list, use the `del` keyword and give its index in square brackets\n",
        "* to add an item to the top of the list, you must use the `addition operator`\n",
        "* you must use the range operator to add an item to the middle of the list.\n",
        "\n",
        "These operations are inconvenient and their use is not recommended.\n",
        "\n"
      ],
      "metadata": {
        "id": "KMmuNapt_70w"
      },
      "id": "KMmuNapt_70w"
    },
    {
      "cell_type": "code",
      "source": [
        "my_list_1 = [1, 2, 3, 4, 5, 6, 7]"
      ],
      "metadata": {
        "id": "OXTyoQiX-ol7"
      },
      "id": "OXTyoQiX-ol7",
      "execution_count": null,
      "outputs": []
    },
    {
      "cell_type": "code",
      "source": [
        "removed_item = my_list_1.pop(3)\n",
        "print(removed_item, my_list_1)"
      ],
      "metadata": {
        "colab": {
          "base_uri": "https://localhost:8080/"
        },
        "id": "S1d4DrCsAzRs",
        "outputId": "1aa79075-03fb-4110-852c-0ee5f8217c78"
      },
      "id": "S1d4DrCsAzRs",
      "execution_count": null,
      "outputs": [
        {
          "output_type": "stream",
          "name": "stdout",
          "text": [
            "4 [1, 2, 3, 5, 6, 7]\n"
          ]
        }
      ]
    },
    {
      "cell_type": "code",
      "source": [
        "del my_list_1[3]\n",
        "print(my_list_1)"
      ],
      "metadata": {
        "colab": {
          "base_uri": "https://localhost:8080/"
        },
        "id": "SQqUh0uUA3Uh",
        "outputId": "e152d683-7bcc-4943-924d-ee3724cae639"
      },
      "id": "SQqUh0uUA3Uh",
      "execution_count": null,
      "outputs": [
        {
          "output_type": "stream",
          "name": "stdout",
          "text": [
            "[1, 2, 3, 6, 7]\n"
          ]
        }
      ]
    },
    {
      "cell_type": "code",
      "source": [
        "my_list_1 = [0] + my_list_1\n",
        "my_list_1"
      ],
      "metadata": {
        "colab": {
          "base_uri": "https://localhost:8080/"
        },
        "id": "6b7vSn2vBAVK",
        "outputId": "002e5d4b-525d-4137-dba5-7f884df573d7"
      },
      "id": "6b7vSn2vBAVK",
      "execution_count": null,
      "outputs": [
        {
          "output_type": "execute_result",
          "data": {
            "text/plain": [
              "[0, 1, 2, 3, 6, 7]"
            ]
          },
          "metadata": {},
          "execution_count": 221
        }
      ]
    },
    {
      "cell_type": "code",
      "source": [
        "my_list_1 += [8]\n",
        "my_list_1"
      ],
      "metadata": {
        "colab": {
          "base_uri": "https://localhost:8080/"
        },
        "id": "38fluvlwBP0T",
        "outputId": "4aaff2eb-cb80-4381-d020-460d37933222"
      },
      "id": "38fluvlwBP0T",
      "execution_count": null,
      "outputs": [
        {
          "output_type": "execute_result",
          "data": {
            "text/plain": [
              "[0, 1, 2, 3, 6, 7, 8]"
            ]
          },
          "metadata": {},
          "execution_count": 222
        }
      ]
    },
    {
      "cell_type": "code",
      "source": [
        "my_list_1[:4] + ['a'] + my_list_1[-3:]"
      ],
      "metadata": {
        "colab": {
          "base_uri": "https://localhost:8080/"
        },
        "id": "Ux1_qFTUBcSn",
        "outputId": "29868b7a-a06b-476b-b374-d84af127680b"
      },
      "id": "Ux1_qFTUBcSn",
      "execution_count": null,
      "outputs": [
        {
          "output_type": "execute_result",
          "data": {
            "text/plain": [
              "[0, 1, 2, 3, 'a', 6, 7, 8]"
            ]
          },
          "metadata": {},
          "execution_count": 223
        }
      ]
    },
    {
      "cell_type": "code",
      "source": [
        "# to remove value 6 not knowing its index\n",
        "my_list_1.remove(6)\n",
        "my_list_1"
      ],
      "metadata": {
        "colab": {
          "base_uri": "https://localhost:8080/"
        },
        "id": "5LZ1ILURGRw0",
        "outputId": "935b16f4-bc32-41cf-819f-e73d7ad8a8eb"
      },
      "id": "5LZ1ILURGRw0",
      "execution_count": null,
      "outputs": [
        {
          "output_type": "execute_result",
          "data": {
            "text/plain": [
              "[0, 1, 2, 3, 7, 8]"
            ]
          },
          "metadata": {},
          "execution_count": 224
        }
      ]
    },
    {
      "cell_type": "markdown",
      "source": [
        "### Standard operations\n",
        "\n",
        "Python provides a set of standard functions, some of which also operate on lists.\n",
        "* the `.min()` function returns the lowest item value in the list, `.max()` the highest, and `.sum()` the sum of all the items (if they can be added, ie. they are all numbers)\n",
        "* the `.len()` function returns the length of the list, ie. the number of items defined within the list\n",
        "* the `.reversed()` function allows you to change the item order in the list (equivalent to `[::-1]` indexing)"
      ],
      "metadata": {
        "id": "M2RdKgDYB3x9"
      },
      "id": "M2RdKgDYB3x9"
    },
    {
      "cell_type": "code",
      "source": [
        " a_list = [8, 3, 5, 7, 2, 1]"
      ],
      "metadata": {
        "id": "DqNdmCW0Bn47"
      },
      "id": "DqNdmCW0Bn47",
      "execution_count": null,
      "outputs": []
    },
    {
      "cell_type": "code",
      "source": [
        "max(a_list), min(a_list), sum(a_list), len(a_list)"
      ],
      "metadata": {
        "colab": {
          "base_uri": "https://localhost:8080/"
        },
        "id": "4nkR3ll7EnRm",
        "outputId": "bf349991-3765-4557-a4dc-3c7aafdae2fb"
      },
      "id": "4nkR3ll7EnRm",
      "execution_count": null,
      "outputs": [
        {
          "output_type": "execute_result",
          "data": {
            "text/plain": [
              "(8, 1, 26, 6)"
            ]
          },
          "metadata": {},
          "execution_count": 199
        }
      ]
    },
    {
      "cell_type": "markdown",
      "source": [
        "**<font color='#306998'>SORT </font><font color='#ffd33b'>LIST ITEMS</font>**\n",
        "\n",
        "Python provides two built-in ways of sorting lists\n",
        " * the function `.sorted()`\n",
        " * and the method `.sort()`\n",
        "\n",
        "The primary difference is that `.sort()` works in-place (updates the list by mutating its indexes and returns `None`) whereas `.sorted()` creates a new list (leaving the original list unchanged).<br>\n",
        "Use `.sort()` method whenever mutating the list is intended and you will not need the original order of the elements in the future. If you want to get a copy of a list, or to sort elements of an iterable (ie. not only lists but also i.a. tuples, dictionaries and strings) use more versatile function `.sorted()`."
      ],
      "metadata": {
        "id": "NkCydi_iFTYN"
      },
      "id": "NkCydi_iFTYN"
    },
    {
      "cell_type": "code",
      "source": [
        "sorted(a_list)"
      ],
      "metadata": {
        "colab": {
          "base_uri": "https://localhost:8080/"
        },
        "id": "IHzRJtKhEupn",
        "outputId": "81d97e2b-fbf5-48f5-f678-90d298c38dfa"
      },
      "id": "IHzRJtKhEupn",
      "execution_count": null,
      "outputs": [
        {
          "output_type": "execute_result",
          "data": {
            "text/plain": [
              "[1, 2, 3, 5, 7, 8]"
            ]
          },
          "metadata": {},
          "execution_count": 200
        }
      ]
    },
    {
      "cell_type": "code",
      "source": [
        "isinstance(sorted(a_list), list)"
      ],
      "metadata": {
        "colab": {
          "base_uri": "https://localhost:8080/"
        },
        "id": "OdSoOxodE1YA",
        "outputId": "3987512b-5a31-4a75-b215-ce7360e992d2"
      },
      "id": "OdSoOxodE1YA",
      "execution_count": null,
      "outputs": [
        {
          "output_type": "execute_result",
          "data": {
            "text/plain": [
              "True"
            ]
          },
          "metadata": {},
          "execution_count": 201
        }
      ]
    },
    {
      "cell_type": "code",
      "source": [
        "isinstance(a_list.sort(), list)"
      ],
      "metadata": {
        "colab": {
          "base_uri": "https://localhost:8080/"
        },
        "id": "Kmkv15SAFk0V",
        "outputId": "4feb652a-a0e7-4279-a06b-91607a73a077"
      },
      "id": "Kmkv15SAFk0V",
      "execution_count": null,
      "outputs": [
        {
          "output_type": "execute_result",
          "data": {
            "text/plain": [
              "False"
            ]
          },
          "metadata": {},
          "execution_count": 206
        }
      ]
    },
    {
      "cell_type": "code",
      "source": [
        "a_list.sort() == None"
      ],
      "metadata": {
        "colab": {
          "base_uri": "https://localhost:8080/"
        },
        "id": "D02MlBqOF8_p",
        "outputId": "43ff04b0-1814-46f2-fabd-5f87b3bae795"
      },
      "id": "D02MlBqOF8_p",
      "execution_count": null,
      "outputs": [
        {
          "output_type": "execute_result",
          "data": {
            "text/plain": [
              "True"
            ]
          },
          "metadata": {},
          "execution_count": 207
        }
      ]
    },
    {
      "cell_type": "code",
      "source": [
        "a_list.sort()"
      ],
      "metadata": {
        "id": "oiL5lrMAFvn-"
      },
      "id": "oiL5lrMAFvn-",
      "execution_count": null,
      "outputs": []
    },
    {
      "cell_type": "markdown",
      "source": [
        "Other useful methods for Python lists:\n",
        "* `.count()` - to count the number of occurences of chosen element\n",
        "* `in` - to check if the element is in a list\n",
        "* `.index()` - to find an index (ie. position) of an element\n",
        "* `reverse` argument in `.sort()` and `sorted()`"
      ],
      "metadata": {
        "id": "_8YCBhAtHAhe"
      },
      "id": "_8YCBhAtHAhe"
    },
    {
      "cell_type": "markdown",
      "source": [
        "### `.range()`\n",
        "\n",
        "Yet another important function is `.range()` (strictly speaking, it's not a function, but a method - more in OOP section).\n",
        "\n",
        "`.range()` returns a sequence of integers:\n",
        "* `.range(n)` returns consecutive integers starting from $0$ end ending with $n-1$\n",
        "* `.range(a, b)` returns consecutive integers starting from $a$ end ending with $b-1$\n",
        "* `.range(a, b, c)` returns an arithmetic sequence of numbers $[a, a + c, a + 2c, ...]$ all the way up to $b-1$\n",
        "\n",
        "By using the range function you can create lists quickly."
      ],
      "metadata": {
        "id": "PeiErx0uK9Q1"
      },
      "id": "PeiErx0uK9Q1"
    },
    {
      "cell_type": "code",
      "source": [
        "range(10)"
      ],
      "metadata": {
        "colab": {
          "base_uri": "https://localhost:8080/"
        },
        "id": "-VcpcJXnK6wC",
        "outputId": "5047658c-ad69-4100-c974-f7eacb6f2481"
      },
      "id": "-VcpcJXnK6wC",
      "execution_count": null,
      "outputs": [
        {
          "output_type": "execute_result",
          "data": {
            "text/plain": [
              "range(0, 10)"
            ]
          },
          "metadata": {},
          "execution_count": 274
        }
      ]
    },
    {
      "cell_type": "code",
      "source": [
        "isinstance(range(10), list), isinstance(range(10), range)"
      ],
      "metadata": {
        "colab": {
          "base_uri": "https://localhost:8080/"
        },
        "id": "w-YPYMRwMGc2",
        "outputId": "82f5c5aa-2da7-4a86-8890-79cf13aafccb"
      },
      "id": "w-YPYMRwMGc2",
      "execution_count": null,
      "outputs": [
        {
          "output_type": "execute_result",
          "data": {
            "text/plain": [
              "(False, True)"
            ]
          },
          "metadata": {},
          "execution_count": 275
        }
      ]
    },
    {
      "cell_type": "code",
      "source": [
        "list(range(10))"
      ],
      "metadata": {
        "colab": {
          "base_uri": "https://localhost:8080/"
        },
        "id": "mWD84GS1MD00",
        "outputId": "91e79226-2d48-45c6-fcbf-2ab0b065a29a"
      },
      "id": "mWD84GS1MD00",
      "execution_count": null,
      "outputs": [
        {
          "output_type": "execute_result",
          "data": {
            "text/plain": [
              "[0, 1, 2, 3, 4, 5, 6, 7, 8, 9]"
            ]
          },
          "metadata": {},
          "execution_count": 276
        }
      ]
    },
    {
      "cell_type": "code",
      "source": [
        "list(range(2, 13))"
      ],
      "metadata": {
        "colab": {
          "base_uri": "https://localhost:8080/"
        },
        "id": "WKJGs5dzMF7A",
        "outputId": "29f5784e-9140-4db5-f298-4cedde34778a"
      },
      "id": "WKJGs5dzMF7A",
      "execution_count": null,
      "outputs": [
        {
          "output_type": "execute_result",
          "data": {
            "text/plain": [
              "[2, 3, 4, 5, 6, 7, 8, 9, 10, 11, 12]"
            ]
          },
          "metadata": {},
          "execution_count": 277
        }
      ]
    },
    {
      "cell_type": "code",
      "source": [
        "list(range(0, 30, 5))"
      ],
      "metadata": {
        "colab": {
          "base_uri": "https://localhost:8080/"
        },
        "id": "33pujKyXMQZU",
        "outputId": "977191d9-cec9-4bf3-d3b2-0ecd51f04c2c"
      },
      "id": "33pujKyXMQZU",
      "execution_count": null,
      "outputs": [
        {
          "output_type": "execute_result",
          "data": {
            "text/plain": [
              "[0, 5, 10, 15, 20, 25]"
            ]
          },
          "metadata": {},
          "execution_count": 278
        }
      ]
    },
    {
      "cell_type": "code",
      "source": [
        "list(range(0, 31, 5))"
      ],
      "metadata": {
        "colab": {
          "base_uri": "https://localhost:8080/"
        },
        "id": "-bk7OvDUMTTK",
        "outputId": "75100441-aba5-4d93-d8ca-22a0ad2c9209"
      },
      "id": "-bk7OvDUMTTK",
      "execution_count": null,
      "outputs": [
        {
          "output_type": "execute_result",
          "data": {
            "text/plain": [
              "[0, 5, 10, 15, 20, 25, 30]"
            ]
          },
          "metadata": {},
          "execution_count": 279
        }
      ]
    },
    {
      "cell_type": "code",
      "source": [
        "list(range(0)), list(range(0, -10))"
      ],
      "metadata": {
        "colab": {
          "base_uri": "https://localhost:8080/"
        },
        "id": "EUJ_PwNrMW9D",
        "outputId": "bdd76e42-3362-4a0f-d0e7-97a26cfde9ca"
      },
      "id": "EUJ_PwNrMW9D",
      "execution_count": null,
      "outputs": [
        {
          "output_type": "execute_result",
          "data": {
            "text/plain": [
              "([], [])"
            ]
          },
          "metadata": {},
          "execution_count": 280
        }
      ]
    },
    {
      "cell_type": "code",
      "source": [
        "list(range(0, -10, -1))"
      ],
      "metadata": {
        "colab": {
          "base_uri": "https://localhost:8080/"
        },
        "id": "zEvyxx7TMZMu",
        "outputId": "a5c747b7-2ff1-4460-917c-ce9ed45b23eb"
      },
      "id": "zEvyxx7TMZMu",
      "execution_count": null,
      "outputs": [
        {
          "output_type": "execute_result",
          "data": {
            "text/plain": [
              "[0, -1, -2, -3, -4, -5, -6, -7, -8, -9]"
            ]
          },
          "metadata": {},
          "execution_count": 281
        }
      ]
    },
    {
      "cell_type": "markdown",
      "source": [
        "### `in` operator\n",
        "\n",
        "<img src=\"https://drive.google.com/uc?export=view&id=1dqm4po5DlRzQEJjM5FwiWZi93Is1mURO\" alt=\"A needle in a haystack\" width=\"350\" align='right' hspace=\"50px\" vspace=\"30px\"/>\n",
        "\n",
        "<br><br>\n",
        "To check if an item can be found in the list, you can use the **`in` operator**. However, sometimes the answer to the question *\"does an item belong to a list\"* is not enough and we need to know the exact position (ID; index) of the item in the list. In this case, call the `.index()` method on the list, which takes as an argument the element that we search for.<br>\n",
        "Note that if there are several such items in the list, the `.index()` method will return only the position of the first one."
      ],
      "metadata": {
        "id": "PNkasp5kMhuS"
      },
      "id": "PNkasp5kMhuS"
    },
    {
      "cell_type": "code",
      "source": [
        "haystack = list(range(1, 5))\n",
        "needle = 2\n",
        "\n",
        "print(needle in haystack)"
      ],
      "metadata": {
        "colab": {
          "base_uri": "https://localhost:8080/"
        },
        "id": "-LVKi4DpMcxc",
        "outputId": "64160e6b-0c54-481f-a721-a3d60863e5ff"
      },
      "id": "-LVKi4DpMcxc",
      "execution_count": null,
      "outputs": [
        {
          "output_type": "stream",
          "name": "stdout",
          "text": [
            "True\n"
          ]
        }
      ]
    },
    {
      "cell_type": "code",
      "source": [
        "haystack.index(needle), haystack.index(2)"
      ],
      "metadata": {
        "colab": {
          "base_uri": "https://localhost:8080/"
        },
        "id": "MIowUpvVNdKX",
        "outputId": "af2449bb-18c9-4a4e-bbb0-2bb88f1f9cc3"
      },
      "id": "MIowUpvVNdKX",
      "execution_count": null,
      "outputs": [
        {
          "output_type": "execute_result",
          "data": {
            "text/plain": [
              "(1, 1)"
            ]
          },
          "metadata": {},
          "execution_count": 283
        }
      ]
    },
    {
      "cell_type": "code",
      "source": [
        "another_needle = 0\n",
        "\n",
        "print(another_needle in haystack)"
      ],
      "metadata": {
        "colab": {
          "base_uri": "https://localhost:8080/"
        },
        "id": "TkigJfdjNfya",
        "outputId": "f969a0a5-f949-4253-d532-f90d612d1610"
      },
      "id": "TkigJfdjNfya",
      "execution_count": null,
      "outputs": [
        {
          "output_type": "stream",
          "name": "stdout",
          "text": [
            "False\n"
          ]
        }
      ]
    },
    {
      "cell_type": "code",
      "source": [
        "haystack.index(another_needle)"
      ],
      "metadata": {
        "colab": {
          "base_uri": "https://localhost:8080/",
          "height": 165
        },
        "id": "Mhri-aqgNnbm",
        "outputId": "d031a189-89aa-4750-93e1-e8edbe2c18e4"
      },
      "id": "Mhri-aqgNnbm",
      "execution_count": null,
      "outputs": [
        {
          "output_type": "error",
          "ename": "ValueError",
          "evalue": "ignored",
          "traceback": [
            "\u001b[0;31m---------------------------------------------------------------------------\u001b[0m",
            "\u001b[0;31mValueError\u001b[0m                                Traceback (most recent call last)",
            "\u001b[0;32m<ipython-input-285-4f293b33ba9a>\u001b[0m in \u001b[0;36m<cell line: 1>\u001b[0;34m()\u001b[0m\n\u001b[0;32m----> 1\u001b[0;31m \u001b[0mhaystack\u001b[0m\u001b[0;34m.\u001b[0m\u001b[0mindex\u001b[0m\u001b[0;34m(\u001b[0m\u001b[0manother_needle\u001b[0m\u001b[0;34m)\u001b[0m\u001b[0;34m\u001b[0m\u001b[0;34m\u001b[0m\u001b[0m\n\u001b[0m",
            "\u001b[0;31mValueError\u001b[0m: 0 is not in list"
          ]
        }
      ]
    },
    {
      "cell_type": "code",
      "source": [
        "haystack_1 = haystack + [3]\n",
        "\n",
        "# returns only the first index\n",
        "haystack_1.index(3)"
      ],
      "metadata": {
        "colab": {
          "base_uri": "https://localhost:8080/"
        },
        "id": "uDtbsbh7Nu0D",
        "outputId": "558ebff4-5183-439d-b9bd-6127aa344782"
      },
      "id": "uDtbsbh7Nu0D",
      "execution_count": null,
      "outputs": [
        {
          "output_type": "execute_result",
          "data": {
            "text/plain": [
              "2"
            ]
          },
          "metadata": {},
          "execution_count": 286
        }
      ]
    },
    {
      "cell_type": "markdown",
      "source": [
        "<img src=\"https://drive.google.com/uc?export=view&id=141XOz6N4nk8Ru1sAl7vOsAToCLrSFCAX\" alt=\"SDA logo\" width=\"150\" align='right'/>\n",
        "\n",
        "## Sets - `{}`, `set()`\n",
        "\n",
        "**<font color='#306998'>PYTHON </font><font color='#ffd33b'>SET</font>** is another complex data type in Python after lists. It's the **collection of elements** that can be imagined as a bag. When you put your hand in the bag, you never know what you will get out of it. It's the same with sets - unlike lists, **the order of the items in a set is not fixed (nor essential)**. Another difference is that the elements of a set are never repeated (ie. duplicated) - meaning that **all elements are unique**.\n",
        "\n",
        "To create a new set, list its comma-separated elements in curly braces `{}` or create it using a pre-defined list with a `set()` function (by changing data type).\n",
        "\n",
        "Note that it allows you to easiely remove duplicates from the list."
      ],
      "metadata": {
        "id": "uqqTX0KDOQ24"
      },
      "id": "uqqTX0KDOQ24"
    },
    {
      "cell_type": "code",
      "source": [
        "my_set = {1, 2 ,3, 4}\n",
        "\n",
        "print(my_set)"
      ],
      "metadata": {
        "colab": {
          "base_uri": "https://localhost:8080/"
        },
        "id": "w4XhwhP3N9VO",
        "outputId": "46d759f8-093f-4e39-86bc-3e5a39fe0619"
      },
      "id": "w4XhwhP3N9VO",
      "execution_count": null,
      "outputs": [
        {
          "output_type": "stream",
          "name": "stdout",
          "text": [
            "{1, 2, 3, 4}\n"
          ]
        }
      ]
    },
    {
      "cell_type": "code",
      "source": [
        "my_set = {1, 2, 2, 3, 3, 3, 4, 3}\n",
        "\n",
        "print(my_set)"
      ],
      "metadata": {
        "colab": {
          "base_uri": "https://localhost:8080/"
        },
        "id": "dXmsppr8PcUN",
        "outputId": "daeaf909-4f15-4257-f380-a7b6edfbb739"
      },
      "id": "dXmsppr8PcUN",
      "execution_count": null,
      "outputs": [
        {
          "output_type": "stream",
          "name": "stdout",
          "text": [
            "{1, 2, 3, 4}\n"
          ]
        }
      ]
    },
    {
      "cell_type": "code",
      "source": [
        "list_with_duplicates = [1, 2, 3] * 2\n",
        "\n",
        "print(list_with_duplicates)"
      ],
      "metadata": {
        "colab": {
          "base_uri": "https://localhost:8080/"
        },
        "id": "OQcaKNTYPkHw",
        "outputId": "a3dec532-9d48-434f-ab97-6f4b5ece13ae"
      },
      "id": "OQcaKNTYPkHw",
      "execution_count": null,
      "outputs": [
        {
          "output_type": "stream",
          "name": "stdout",
          "text": [
            "[1, 2, 3, 1, 2, 3]\n"
          ]
        }
      ]
    },
    {
      "cell_type": "code",
      "source": [
        "list_wo_duplicates = list(set(list_with_duplicates))\n",
        "print(list_wo_duplicates)"
      ],
      "metadata": {
        "colab": {
          "base_uri": "https://localhost:8080/"
        },
        "id": "rAfzvl4XPtGB",
        "outputId": "188473d3-20cc-4751-c609-e16c372b611f"
      },
      "id": "rAfzvl4XPtGB",
      "execution_count": null,
      "outputs": [
        {
          "output_type": "stream",
          "name": "stdout",
          "text": [
            "[1, 2, 3]\n"
          ]
        }
      ]
    },
    {
      "cell_type": "markdown",
      "source": [
        "### Standard operations\n",
        "\n",
        "* the `.add()` method allows you to add a new element to the set\n",
        "* the `.update()` method allows you to add elements from another set to a set of interest\n",
        "* the `.remove()` method removes an item from the collection\n",
        "* the `.clear()` method removes all items from the set\n",
        "* the already known built-in functions `len()`, `min()`, `max()`, and `sum()` also work well with sets.\n",
        "\n",
        "Note that an empty set cannot be created with the literal `{}` as it is reserved for an empty dictionary (see more in section about *Dictionaries*).\n",
        "\n",
        "To create an empty set, you can use the `.set()` function with no arguments specified."
      ],
      "metadata": {
        "id": "4Q7DL3izP43W"
      },
      "id": "4Q7DL3izP43W"
    },
    {
      "cell_type": "code",
      "source": [
        "a_set = set()\n",
        "a_set.add(5)\n",
        "a_set.add(5)\n",
        "\n",
        "print(a_set)"
      ],
      "metadata": {
        "colab": {
          "base_uri": "https://localhost:8080/"
        },
        "id": "Jo99ksm6P0QZ",
        "outputId": "6e342b8f-4ee8-4187-d29c-b1ca7f00e079"
      },
      "id": "Jo99ksm6P0QZ",
      "execution_count": null,
      "outputs": [
        {
          "output_type": "stream",
          "name": "stdout",
          "text": [
            "{5}\n"
          ]
        }
      ]
    },
    {
      "cell_type": "code",
      "source": [
        "a_set.update({1, 2, 3})\n",
        "print(a_set)"
      ],
      "metadata": {
        "colab": {
          "base_uri": "https://localhost:8080/"
        },
        "id": "veGGuZrSQzje",
        "outputId": "dd5fb6ff-ae58-4a68-e47a-1ec31ff021df"
      },
      "id": "veGGuZrSQzje",
      "execution_count": null,
      "outputs": [
        {
          "output_type": "stream",
          "name": "stdout",
          "text": [
            "{1, 2, 3, 5}\n"
          ]
        }
      ]
    },
    {
      "cell_type": "code",
      "source": [
        "len(a_set), max(a_set), min(a_set), sum(a_set)"
      ],
      "metadata": {
        "colab": {
          "base_uri": "https://localhost:8080/"
        },
        "id": "V6VAIvaCQ5ls",
        "outputId": "0cee6c3c-7870-4f20-f1cf-51d379ecb84b"
      },
      "id": "V6VAIvaCQ5ls",
      "execution_count": null,
      "outputs": [
        {
          "output_type": "execute_result",
          "data": {
            "text/plain": [
              "(4, 5, 1, 11)"
            ]
          },
          "metadata": {},
          "execution_count": 231
        }
      ]
    },
    {
      "cell_type": "markdown",
      "source": [
        "<img src=\"https://drive.google.com/uc?export=view&id=141XOz6N4nk8Ru1sAl7vOsAToCLrSFCAX\" alt=\"SDA logo\" width=\"150\" align='right'/>\n",
        "\n",
        "## Dictionaries - `{}`, `dict()`\n",
        "\n",
        "**<font color='#306998'>PYTHON </font><font color='#ffd33b'>DICTIONARY</font>** is a data structure that is similar to a phone book or encyclopedia. We look under a certain **key** (subscriber's name, encyclopedic keyword), and in return we get useful **value** (telephone number, definition of the term, etc.).\n",
        "\n",
        "A dictionary is like a set in the sense that its **keys must be unique**. However, the set does not associate the key with any value, and the dictionary does.\n",
        "\n",
        "We create a dictionary by defining **`key: value` pairs**, where key is separated from its value with a colon, whereas the consecutive pairs are separated with commas. The entire dictionary definition is enclosed in curly braces (similarly to the set) or with `dict()` function."
      ],
      "metadata": {
        "id": "urluGlsHREZX"
      },
      "id": "urluGlsHREZX"
    },
    {
      "cell_type": "code",
      "source": [
        "my_phonebook = {\n",
        "    'police': 997,\n",
        "    'pizza': 467,\n",
        "    'emergency': 112\n",
        "}\n",
        "\n",
        "my_phonebook_ = dict(police=997, pizza=467,emergency=112)\n",
        "\n",
        "assert my_phonebook == my_phonebook_"
      ],
      "metadata": {
        "id": "cR0ba5scRBo2"
      },
      "id": "cR0ba5scRBo2",
      "execution_count": null,
      "outputs": []
    },
    {
      "cell_type": "markdown",
      "source": [
        "### Dict elements\n",
        "* to refer to dictionary value of the corresponding key we use the `[]` operator\n",
        "* use the same operator to change the value under a given key\n",
        "* to remove an item, ie. key and the corresponding value, from the dictionary, use the already familiar `del` keyword.\n",
        "\n",
        "The values in the dictionary can be of different types. Likewise, the keys must meet certain minimum requirements, which we will discuss later."
      ],
      "metadata": {
        "id": "jYoaTvxVTm_1"
      },
      "id": "jYoaTvxVTm_1"
    },
    {
      "cell_type": "code",
      "source": [
        "my_phonebook['pizza']"
      ],
      "metadata": {
        "colab": {
          "base_uri": "https://localhost:8080/"
        },
        "id": "79MjiyXSUyRS",
        "outputId": "8bfecc29-6d74-4f16-9e17-a7f17b7a5c87"
      },
      "id": "79MjiyXSUyRS",
      "execution_count": null,
      "outputs": [
        {
          "output_type": "execute_result",
          "data": {
            "text/plain": [
              "467"
            ]
          },
          "metadata": {},
          "execution_count": 151
        }
      ]
    },
    {
      "cell_type": "code",
      "source": [
        "my_phonebook['girlfriend'] = 'Forever alone :P'\n",
        "print(my_phonebook)"
      ],
      "metadata": {
        "colab": {
          "base_uri": "https://localhost:8080/"
        },
        "id": "aLZP-38FU2dD",
        "outputId": "1229cfa9-c3da-4792-e4ef-d6a5db9c9640"
      },
      "id": "aLZP-38FU2dD",
      "execution_count": null,
      "outputs": [
        {
          "output_type": "stream",
          "name": "stdout",
          "text": [
            "{'police': 997, 'pizza': 467, 'emergency': 112, 'girlfriend': 'Forever alone :P'}\n"
          ]
        }
      ]
    },
    {
      "cell_type": "code",
      "source": [
        "del my_phonebook['girlfriend']\n",
        "print(my_phonebook)"
      ],
      "metadata": {
        "colab": {
          "base_uri": "https://localhost:8080/"
        },
        "id": "JG6-8l5rU_4f",
        "outputId": "60067b31-7d6d-4b53-909f-4890ee6a6918"
      },
      "id": "JG6-8l5rU_4f",
      "execution_count": null,
      "outputs": [
        {
          "output_type": "stream",
          "name": "stdout",
          "text": [
            "{'police': 997, 'pizza': 467, 'emergency': 112}\n"
          ]
        }
      ]
    },
    {
      "cell_type": "code",
      "source": [
        "my_phonebook['pizza'] = 12321\n",
        "print(my_phonebook)"
      ],
      "metadata": {
        "colab": {
          "base_uri": "https://localhost:8080/"
        },
        "id": "HMIAdvamVJSn",
        "outputId": "b7b153bf-32ae-428f-9944-fd50b4e84fb2"
      },
      "id": "HMIAdvamVJSn",
      "execution_count": null,
      "outputs": [
        {
          "output_type": "stream",
          "name": "stdout",
          "text": [
            "{'police': 997, 'pizza': 12321, 'emergency': 112}\n"
          ]
        }
      ]
    },
    {
      "cell_type": "markdown",
      "source": [
        "Like a `set`, a dictionary is also optimized for checking if a given key exists in it or not and for extracting the values from under a given key. Therefore, there is no index method.\n",
        "\n",
        "If we use the `[]` operator to get a key that does not exist in the dictionary we will get an error. To avoid an error in this situation, use the `.get()` method, which returns `None` if there is no such key, or the default value if specified.\n",
        "\n",
        "We can create an empty dictionary using the literal `{}` or function `dict()`."
      ],
      "metadata": {
        "id": "pFAjFCHEVXNh"
      },
      "id": "pFAjFCHEVXNh"
    },
    {
      "cell_type": "code",
      "source": [
        "my_phonebook['boyfriend']"
      ],
      "metadata": {
        "colab": {
          "base_uri": "https://localhost:8080/",
          "height": 165
        },
        "id": "XSX6LR_fVR44",
        "outputId": "fbc5057c-a7fd-420f-ce22-df8ce062c7b4"
      },
      "id": "XSX6LR_fVR44",
      "execution_count": null,
      "outputs": [
        {
          "output_type": "error",
          "ename": "KeyError",
          "evalue": "ignored",
          "traceback": [
            "\u001b[0;31m---------------------------------------------------------------------------\u001b[0m",
            "\u001b[0;31mKeyError\u001b[0m                                  Traceback (most recent call last)",
            "\u001b[0;32m<ipython-input-158-79e092e21269>\u001b[0m in \u001b[0;36m<module>\u001b[0;34m\u001b[0m\n\u001b[0;32m----> 1\u001b[0;31m \u001b[0mmy_phonebook\u001b[0m\u001b[0;34m[\u001b[0m\u001b[0;34m'boyfriend'\u001b[0m\u001b[0;34m]\u001b[0m\u001b[0;34m\u001b[0m\u001b[0;34m\u001b[0m\u001b[0m\n\u001b[0m",
            "\u001b[0;31mKeyError\u001b[0m: 'boyfriend'"
          ]
        }
      ]
    },
    {
      "cell_type": "code",
      "source": [
        "my_phonebook.get('boyfriend')"
      ],
      "metadata": {
        "id": "J0Nk4_lGV6yh"
      },
      "id": "J0Nk4_lGV6yh",
      "execution_count": null,
      "outputs": []
    },
    {
      "cell_type": "code",
      "source": [
        "my_phonebook.get('boyfriend', 'Not there yet')"
      ],
      "metadata": {
        "colab": {
          "base_uri": "https://localhost:8080/",
          "height": 36
        },
        "id": "74BE2xzxV-Et",
        "outputId": "21662e4f-9aa0-4abc-cd68-d793b2c3feea"
      },
      "id": "74BE2xzxV-Et",
      "execution_count": null,
      "outputs": [
        {
          "output_type": "execute_result",
          "data": {
            "text/plain": [
              "'Not there yet'"
            ],
            "application/vnd.google.colaboratory.intrinsic+json": {
              "type": "string"
            }
          },
          "metadata": {},
          "execution_count": 160
        }
      ]
    },
    {
      "cell_type": "code",
      "source": [
        "my_phonebook.get('police')"
      ],
      "metadata": {
        "colab": {
          "base_uri": "https://localhost:8080/"
        },
        "id": "skLIqx0LWEM5",
        "outputId": "7d0c814f-c95c-4b6a-ac8a-68b4868dbcd2"
      },
      "id": "skLIqx0LWEM5",
      "execution_count": null,
      "outputs": [
        {
          "output_type": "execute_result",
          "data": {
            "text/plain": [
              "997"
            ]
          },
          "metadata": {},
          "execution_count": 161
        }
      ]
    },
    {
      "cell_type": "code",
      "source": [
        "isinstance({}, dict), {} == dict()"
      ],
      "metadata": {
        "colab": {
          "base_uri": "https://localhost:8080/"
        },
        "id": "cT6J-CWaWQJs",
        "outputId": "ce50edb4-abf4-4ec9-d9fe-9601374745b2"
      },
      "id": "cT6J-CWaWQJs",
      "execution_count": null,
      "outputs": [
        {
          "output_type": "execute_result",
          "data": {
            "text/plain": [
              "(True, True)"
            ]
          },
          "metadata": {},
          "execution_count": 165
        }
      ]
    },
    {
      "cell_type": "markdown",
      "source": [
        "The dictionary provides three important methods:\n",
        "* `.keys()` - returns the collection of all keys\n",
        "* `.values()` - returns the collection of all values\n",
        "* `.items()` - returns the collection of all pairs (key: value).\n",
        "\n",
        "Note that when iterating through a dictionary in a for loop, each subsequent element is a key, not a pair (key, value) and the `in` operator enables checking whether a given key (but not a value) is in the dictionary."
      ],
      "metadata": {
        "id": "N0qPOI6qWblY"
      },
      "id": "N0qPOI6qWblY"
    },
    {
      "cell_type": "code",
      "source": [
        "'police' in my_phonebook"
      ],
      "metadata": {
        "id": "ipPvQWmOWWCB",
        "colab": {
          "base_uri": "https://localhost:8080/"
        },
        "outputId": "8649fa92-7c87-45a2-f2b2-c38a65320c39"
      },
      "id": "ipPvQWmOWWCB",
      "execution_count": null,
      "outputs": [
        {
          "output_type": "execute_result",
          "data": {
            "text/plain": [
              "True"
            ]
          },
          "metadata": {},
          "execution_count": 268
        }
      ]
    },
    {
      "cell_type": "code",
      "source": [
        "'bakery' in my_phonebook"
      ],
      "metadata": {
        "colab": {
          "base_uri": "https://localhost:8080/"
        },
        "id": "pVyvSo_NJGAd",
        "outputId": "965d6f75-f97c-4f68-e035-ed29df162975"
      },
      "id": "pVyvSo_NJGAd",
      "execution_count": null,
      "outputs": [
        {
          "output_type": "execute_result",
          "data": {
            "text/plain": [
              "False"
            ]
          },
          "metadata": {},
          "execution_count": 269
        }
      ]
    },
    {
      "cell_type": "code",
      "source": [
        "my_phonebook.keys()"
      ],
      "metadata": {
        "colab": {
          "base_uri": "https://localhost:8080/"
        },
        "id": "fOlC9FFnR5L3",
        "outputId": "1a1cae94-f924-464d-8954-854c1330ccda"
      },
      "id": "fOlC9FFnR5L3",
      "execution_count": null,
      "outputs": [
        {
          "output_type": "execute_result",
          "data": {
            "text/plain": [
              "dict_keys(['police', 'pizza', 'emergency'])"
            ]
          },
          "metadata": {},
          "execution_count": 270
        }
      ]
    },
    {
      "cell_type": "code",
      "source": [
        "my_phonebook.values()"
      ],
      "metadata": {
        "colab": {
          "base_uri": "https://localhost:8080/"
        },
        "id": "uYEen4CtR62U",
        "outputId": "c24b2848-4a27-4deb-8c32-b9efdccb9847"
      },
      "id": "uYEen4CtR62U",
      "execution_count": null,
      "outputs": [
        {
          "output_type": "execute_result",
          "data": {
            "text/plain": [
              "dict_values([997, 467, 112])"
            ]
          },
          "metadata": {},
          "execution_count": 271
        }
      ]
    },
    {
      "cell_type": "code",
      "source": [
        "my_phonebook.items()"
      ],
      "metadata": {
        "colab": {
          "base_uri": "https://localhost:8080/"
        },
        "id": "byHeUCClR8IN",
        "outputId": "d5b17727-ada7-4da1-94cb-86d79207e106"
      },
      "id": "byHeUCClR8IN",
      "execution_count": null,
      "outputs": [
        {
          "output_type": "execute_result",
          "data": {
            "text/plain": [
              "dict_items([('police', 997), ('pizza', 467), ('emergency', 112)])"
            ]
          },
          "metadata": {},
          "execution_count": 272
        }
      ]
    },
    {
      "cell_type": "markdown",
      "source": [
        "<img src=\"https://drive.google.com/uc?export=view&id=1UO2urRciECzoKE_vHy4RMGfFbkOWOGlW\" alt=\"SDA logo\" align=\"left\" width=\"100px\" hspace=\"10px\" vspace=\"10px\"/>\n",
        "<br>\n",
        "\n",
        "# Loops\n"
      ],
      "metadata": {
        "id": "X5uDm_nvW_SG"
      },
      "id": "X5uDm_nvW_SG"
    },
    {
      "cell_type": "markdown",
      "source": [
        "<img src=\"https://drive.google.com/uc?export=view&id=141XOz6N4nk8Ru1sAl7vOsAToCLrSFCAX\" alt=\"SDA logo\" width=\"150\" align='right'/>\n",
        "\n",
        "## \"for\" loop\n",
        "\n",
        "The `for` loop is used to perform some operation on each element of the list (or more generally iterable)."
      ],
      "metadata": {
        "id": "lJj25ZreXDkT"
      },
      "id": "lJj25ZreXDkT"
    },
    {
      "cell_type": "code",
      "source": [
        "for i in [2,5,6]:\n",
        "    print(i)"
      ],
      "metadata": {
        "colab": {
          "base_uri": "https://localhost:8080/"
        },
        "id": "EzQtHrePWM_v",
        "outputId": "a82d5620-e38b-4aa4-bd46-d040a5c1ec88"
      },
      "id": "EzQtHrePWM_v",
      "execution_count": null,
      "outputs": [
        {
          "output_type": "stream",
          "name": "stdout",
          "text": [
            "2\n",
            "5\n",
            "6\n"
          ]
        }
      ]
    },
    {
      "cell_type": "code",
      "source": [
        "for i in [2,5,6]:\n",
        "    if i % 2 == 0:\n",
        "        print(i)"
      ],
      "metadata": {
        "colab": {
          "base_uri": "https://localhost:8080/"
        },
        "id": "ijGjvDc2WQHF",
        "outputId": "76aeb3de-5d73-48b6-d85c-1b0c57c84e71"
      },
      "id": "ijGjvDc2WQHF",
      "execution_count": null,
      "outputs": [
        {
          "output_type": "stream",
          "name": "stdout",
          "text": [
            "2\n",
            "6\n"
          ]
        }
      ]
    },
    {
      "cell_type": "markdown",
      "source": [
        "We can also perform some task repeatedly..."
      ],
      "metadata": {
        "id": "FLcJqX3kWcme"
      },
      "id": "FLcJqX3kWcme"
    },
    {
      "cell_type": "code",
      "source": [
        "def sheldon_knock(name, length=3):\n",
        "    for i in range(length):\n",
        "        print(f'{name}!')\n",
        "\n",
        "sheldon_knock('Penny')"
      ],
      "metadata": {
        "colab": {
          "base_uri": "https://localhost:8080/"
        },
        "id": "4tSEZLF6Wfcx",
        "outputId": "e9f86af3-5591-4456-cb9a-d3e6ba4c8ce2"
      },
      "id": "4tSEZLF6Wfcx",
      "execution_count": null,
      "outputs": [
        {
          "output_type": "stream",
          "name": "stdout",
          "text": [
            "Penny!\n",
            "Penny!\n",
            "Penny!\n"
          ]
        }
      ]
    },
    {
      "cell_type": "code",
      "source": [
        "sheldon_knock('Penny', 5)"
      ],
      "metadata": {
        "colab": {
          "base_uri": "https://localhost:8080/"
        },
        "id": "vG4kDcnrWudO",
        "outputId": "e699d3fd-f2a6-4aca-c03d-f0890808aae5"
      },
      "id": "vG4kDcnrWudO",
      "execution_count": null,
      "outputs": [
        {
          "output_type": "stream",
          "name": "stdout",
          "text": [
            "Penny!\n",
            "Penny!\n",
            "Penny!\n",
            "Penny!\n",
            "Penny!\n"
          ]
        }
      ]
    },
    {
      "cell_type": "markdown",
      "source": [
        "With the `for` loop we can, for example, implement a function that finds the largest element from a list of positive integers (our primitive version of the max function). First, we assign the smallest possible result, 0, to the variable largest. For each item in the list, we check if it is not greater than the current largest item, and if so, we update the value of the largest variable."
      ],
      "metadata": {
        "id": "4c0V3LUtWMUv"
      },
      "id": "4c0V3LUtWMUv"
    },
    {
      "cell_type": "code",
      "source": [
        "def my_max(sequence):\n",
        "    largest = 0\n",
        "    for element in sequence:\n",
        "        if element > largest:\n",
        "            largest = element\n",
        "    return largest"
      ],
      "metadata": {
        "id": "lxRxUhdvW-55"
      },
      "id": "lxRxUhdvW-55",
      "execution_count": null,
      "outputs": []
    },
    {
      "cell_type": "code",
      "source": [
        "my_max([1,2,5,1,4,9,2])"
      ],
      "metadata": {
        "colab": {
          "base_uri": "https://localhost:8080/"
        },
        "id": "0mKFRcKyVqg8",
        "outputId": "8ac07c2c-b772-42b9-98e9-6cfb29b6727e"
      },
      "id": "0mKFRcKyVqg8",
      "execution_count": null,
      "outputs": [
        {
          "output_type": "execute_result",
          "data": {
            "text/plain": [
              "9"
            ]
          },
          "metadata": {},
          "execution_count": 288
        }
      ]
    },
    {
      "cell_type": "code",
      "source": [
        "def my_max(sequence):\n",
        "    largest = 0\n",
        "    for element in sequence:\n",
        "        if element > largest:\n",
        "            largest = element\n",
        "        print(f\"Current largest element is {largest}\")\n",
        "    return largest"
      ],
      "metadata": {
        "id": "jAF3qtZ3VwCH"
      },
      "id": "jAF3qtZ3VwCH",
      "execution_count": null,
      "outputs": []
    },
    {
      "cell_type": "code",
      "source": [
        "my_max([1,2,5,1,4,9,2])"
      ],
      "metadata": {
        "colab": {
          "base_uri": "https://localhost:8080/"
        },
        "id": "Cjh-Rve1V4w4",
        "outputId": "c74ea7da-ef37-487c-a825-bd3290764357"
      },
      "id": "Cjh-Rve1V4w4",
      "execution_count": null,
      "outputs": [
        {
          "output_type": "stream",
          "name": "stdout",
          "text": [
            "Current largest element is 1\n",
            "Current largest element is 2\n",
            "Current largest element is 5\n",
            "Current largest element is 5\n",
            "Current largest element is 5\n",
            "Current largest element is 9\n",
            "Current largest element is 9\n"
          ]
        },
        {
          "output_type": "execute_result",
          "data": {
            "text/plain": [
              "9"
            ]
          },
          "metadata": {},
          "execution_count": 290
        }
      ]
    },
    {
      "cell_type": "code",
      "source": [
        "def my_max(sequence):\n",
        "    largest = 0\n",
        "    for i, element in enumerate(sequence):\n",
        "        if element > largest:\n",
        "            largest = element\n",
        "        print(f\"Step {i}: current largest element is {largest}\")\n",
        "    return largest"
      ],
      "metadata": {
        "id": "95xDPnGxV-kB"
      },
      "id": "95xDPnGxV-kB",
      "execution_count": null,
      "outputs": []
    },
    {
      "cell_type": "code",
      "source": [
        "my_max([1,2,5,1,4,9,2])"
      ],
      "metadata": {
        "colab": {
          "base_uri": "https://localhost:8080/"
        },
        "id": "bluq6oLcWFUD",
        "outputId": "1674c7e5-5bdc-4475-a3a8-ee8c34bce54c"
      },
      "id": "bluq6oLcWFUD",
      "execution_count": null,
      "outputs": [
        {
          "output_type": "stream",
          "name": "stdout",
          "text": [
            "Step 0: current largest element is 1\n",
            "Step 1: current largest element is 2\n",
            "Step 2: current largest element is 5\n",
            "Step 3: current largest element is 5\n",
            "Step 4: current largest element is 5\n",
            "Step 5: current largest element is 9\n",
            "Step 6: current largest element is 9\n"
          ]
        },
        {
          "output_type": "execute_result",
          "data": {
            "text/plain": [
              "9"
            ]
          },
          "metadata": {},
          "execution_count": 292
        }
      ]
    },
    {
      "cell_type": "markdown",
      "source": [
        "<img src=\"https://drive.google.com/uc?export=view&id=141XOz6N4nk8Ru1sAl7vOsAToCLrSFCAX\" alt=\"SDA logo\" width=\"150\" align='right'/>\n",
        "\n",
        "## \"while\" loop\n",
        "\n",
        "The while loop works as long as the logical condition given in its definition is met.\n",
        "\n",
        "Let's implement a countdown based on the while loop.\n",
        "We count down starting from a given number down to zero."
      ],
      "metadata": {
        "id": "Xm04pIh_XN8F"
      },
      "id": "Xm04pIh_XN8F"
    },
    {
      "cell_type": "code",
      "source": [
        "def count_down(number):\n",
        "    while number:\n",
        "        print(number)\n",
        "        number -=1\n",
        "    print(\"Time's up!\")"
      ],
      "metadata": {
        "id": "5m4BXKkVXQLq"
      },
      "id": "5m4BXKkVXQLq",
      "execution_count": null,
      "outputs": []
    },
    {
      "cell_type": "code",
      "source": [
        "count_down(10)"
      ],
      "metadata": {
        "colab": {
          "base_uri": "https://localhost:8080/"
        },
        "id": "sI71pCEfXe4j",
        "outputId": "4ba08de0-1e61-4312-a8b7-513b2f022275"
      },
      "id": "sI71pCEfXe4j",
      "execution_count": null,
      "outputs": [
        {
          "output_type": "stream",
          "name": "stdout",
          "text": [
            "10\n",
            "9\n",
            "8\n",
            "7\n",
            "6\n",
            "5\n",
            "4\n",
            "3\n",
            "2\n",
            "1\n",
            "Time's up!\n"
          ]
        }
      ]
    },
    {
      "cell_type": "code",
      "source": [
        "import time\n",
        "\n",
        "def count_down(number):\n",
        "    while number:\n",
        "        print(number)\n",
        "        number -=1\n",
        "        time.sleep(1)\n",
        "    print(\"Time's up!\")"
      ],
      "metadata": {
        "id": "PVBl0FyDXqRd"
      },
      "id": "PVBl0FyDXqRd",
      "execution_count": null,
      "outputs": []
    },
    {
      "cell_type": "code",
      "source": [
        "count_down(10)"
      ],
      "metadata": {
        "colab": {
          "base_uri": "https://localhost:8080/"
        },
        "id": "kmn7mfFGXt3d",
        "outputId": "45731c52-1030-432d-dbe5-e5ac12212fd1"
      },
      "id": "kmn7mfFGXt3d",
      "execution_count": null,
      "outputs": [
        {
          "output_type": "stream",
          "name": "stdout",
          "text": [
            "10\n",
            "9\n",
            "8\n",
            "7\n",
            "6\n",
            "5\n",
            "4\n",
            "3\n",
            "2\n",
            "1\n",
            "Time's up!\n"
          ]
        }
      ]
    },
    {
      "cell_type": "code",
      "source": [
        "# look out!\n",
        "# count_down(-1)"
      ],
      "metadata": {
        "id": "9_nICsyyX1Tp"
      },
      "id": "9_nICsyyX1Tp",
      "execution_count": null,
      "outputs": []
    },
    {
      "cell_type": "markdown",
      "source": [
        "<img src=\"https://drive.google.com/uc?export=view&id=141XOz6N4nk8Ru1sAl7vOsAToCLrSFCAX\" alt=\"SDA logo\" width=\"150\" align='right'/>\n",
        "\n",
        "## break and continue\n",
        "\n",
        "Two keywords can significantly affect the behavior of the loop (both while and for).\n",
        "\n",
        "* `break` interrupts execution of the loop, even if the loop condition is still True\n",
        "* `continue` breaks the current iteration and skips it advancing to the next loop circuit"
      ],
      "metadata": {
        "id": "PWNfjaAnXRsL"
      },
      "id": "PWNfjaAnXRsL"
    },
    {
      "cell_type": "code",
      "source": [
        "def premature_stop(number):\n",
        "    while number:\n",
        "        print(number)\n",
        "        number -=1\n",
        "        if number == 5:\n",
        "            break\n",
        "    print(\"false-start\")"
      ],
      "metadata": {
        "id": "BcTghKOaXTma"
      },
      "id": "BcTghKOaXTma",
      "execution_count": null,
      "outputs": []
    },
    {
      "cell_type": "code",
      "source": [
        "premature_stop(10)"
      ],
      "metadata": {
        "colab": {
          "base_uri": "https://localhost:8080/"
        },
        "id": "j3qrmAe9Ysw5",
        "outputId": "1c9f8c3b-4001-4b8b-be97-7fc505a3606c"
      },
      "id": "j3qrmAe9Ysw5",
      "execution_count": null,
      "outputs": [
        {
          "output_type": "stream",
          "name": "stdout",
          "text": [
            "10\n",
            "9\n",
            "8\n",
            "7\n",
            "6\n",
            "false-start\n"
          ]
        }
      ]
    },
    {
      "cell_type": "code",
      "source": [
        "def even_count_down(number):\n",
        "    while number:\n",
        "        number -=1\n",
        "        time.sleep(1)\n",
        "        if number % 2:\n",
        "            continue\n",
        "        print(number)\n",
        "    print(\"Time's up!\")"
      ],
      "metadata": {
        "id": "-U7f5rqyYutm"
      },
      "id": "-U7f5rqyYutm",
      "execution_count": null,
      "outputs": []
    },
    {
      "cell_type": "code",
      "source": [
        "even_count_down(10)"
      ],
      "metadata": {
        "colab": {
          "base_uri": "https://localhost:8080/"
        },
        "id": "uDeNXJvOY_bx",
        "outputId": "54249229-16f0-4df8-c4fc-25cd833d5e0b"
      },
      "id": "uDeNXJvOY_bx",
      "execution_count": null,
      "outputs": [
        {
          "output_type": "stream",
          "name": "stdout",
          "text": [
            "8\n",
            "6\n",
            "4\n",
            "2\n",
            "0\n",
            "Time's up!\n"
          ]
        }
      ]
    },
    {
      "cell_type": "markdown",
      "source": [
        "<img src=\"https://drive.google.com/uc?export=view&id=141XOz6N4nk8Ru1sAl7vOsAToCLrSFCAX\" alt=\"SDA logo\" width=\"150\" align='right'/>\n",
        "\n",
        "## Isogram example\n",
        "\n",
        "An isogram is a word in which no letter repeats itself, ie. each letter is unique. For example \"Python\" is an isogram while \"language\" and \"programming\" are not.\n",
        "\n",
        "Write a program that will ask the user for a word and will print out whether the word is an isogram or not.\n",
        "\n",
        "**EXEMPLARY SOLUTION**\n",
        "1. We create a set of letters called `letters`.\n",
        "1. Initially, the set is empty.\n",
        "1. We take our word and convert each letter to lowercase.\n",
        "1. In the `for` loop, we follow each letter in the word and for each letter, we check if it is already in our set.\n",
        " * if it is, given word is definitely not an isogram, so we can immediately terminate the function with the result of False\n",
        " * otherwise, the letter was not there yet, so we add it to our set\n",
        "\n",
        "It can be written even simpler way!"
      ],
      "metadata": {
        "id": "h5ePJW4TXYHI"
      },
      "id": "h5ePJW4TXYHI"
    },
    {
      "cell_type": "code",
      "source": [
        "def is_isogram(word):\n",
        "    letters = set()\n",
        "    for letter in word.lower():\n",
        "        if letter in letters:\n",
        "            return False\n",
        "        letters.add(letter)\n",
        "    return True"
      ],
      "metadata": {
        "id": "JKDpkDEiXbIL"
      },
      "id": "JKDpkDEiXbIL",
      "execution_count": null,
      "outputs": []
    },
    {
      "cell_type": "markdown",
      "source": [
        "5. Now, start an endless loop from which you can only break out with the keyword `break`.\n",
        "1. Get the word from the user, ignore white space from the beginning or the end.\n",
        "1. Construct an answer based on the result of the `is_isogram()` function.\n",
        "1. Write out a formatted answer.\n",
        "1. Ask the user if he wants to keep playing. If not, break the loop."
      ],
      "metadata": {
        "id": "0rgYiZGLaUMw"
      },
      "id": "0rgYiZGLaUMw"
    },
    {
      "cell_type": "code",
      "source": [
        "if __name__ == \"__main__\":\n",
        "    while True:\n",
        "        my_word = input(\"Give a word: \").strip()\n",
        "        answer = \"is\" if is_isogram(my_word) else \"is_not\"\n",
        "        print(f\"Word {my_word} {answer} an isogram\\n\")\n",
        "        shall_continue = input(\"Do you want to continue ([y]/n)?: \")\n",
        "        if shall_continue.lower() != \"y\":\n",
        "            break"
      ],
      "metadata": {
        "colab": {
          "base_uri": "https://localhost:8080/"
        },
        "id": "JX_Nx4AcaoZq",
        "outputId": "28d1175b-ff5f-4230-8960-22df2ff770b9"
      },
      "id": "JX_Nx4AcaoZq",
      "execution_count": null,
      "outputs": [
        {
          "name": "stdout",
          "output_type": "stream",
          "text": [
            "Give a word: stop\n",
            "Word stop is an isogram\n",
            "\n",
            "Do you want to continue ([y]/n)?: n\n"
          ]
        }
      ]
    },
    {
      "cell_type": "markdown",
      "source": [
        "<img src=\"https://drive.google.com/uc?export=view&id=141XOz6N4nk8Ru1sAl7vOsAToCLrSFCAX\" alt=\"SDA logo\" width=\"150\" align='right'/>\n",
        "\n",
        "## Scrable example\n",
        "\n",
        "<br>\n",
        "<img src=\"https://drive.google.com/uc?export=view&id=1KKM1DKoW23-tCFbmxt8iaqu5OGCgHvD5\" alt=\"SDA logo\" width=\"500\" align='right' hspace=\"50px\" vspace=\"50px\" title=\"Scrabble\"/>\n",
        "\n",
        "<br><br><br><br><br>\n",
        "In Scrabble, each letter has a point value.\n",
        "\n",
        "Write a program that will ask the user for a word and calculate its point value based on the value of each letter (bonuses are omitted)."
      ],
      "metadata": {
        "id": "_AkoxSAsXgUe"
      },
      "id": "_AkoxSAsXgUe"
    },
    {
      "cell_type": "markdown",
      "source": [
        "<img src=\"https://drive.google.com/uc?export=view&id=1RjppKARYqmUA0qwYkE18DcNXVc3ZNg33\" alt=\"Letter scores\" width=\"200\" align='left' hspace=\"50px\" vspace=\"10px\" title=\"Scrabble\"/>\n",
        "\n",
        "<br>\n",
        "Create Python dictionary with letters as keys and their corresponding scores as values."
      ],
      "metadata": {
        "id": "r8748aLqeKK_"
      },
      "id": "r8748aLqeKK_"
    },
    {
      "cell_type": "code",
      "source": [
        "ord('a')"
      ],
      "metadata": {
        "colab": {
          "base_uri": "https://localhost:8080/"
        },
        "id": "wcmE391CfOyQ",
        "outputId": "1243c712-f1cd-4be1-ef68-e3eca40fccf3"
      },
      "id": "wcmE391CfOyQ",
      "execution_count": null,
      "outputs": [
        {
          "output_type": "execute_result",
          "data": {
            "text/plain": [
              "97"
            ]
          },
          "metadata": {},
          "execution_count": 314
        }
      ]
    },
    {
      "cell_type": "code",
      "source": [
        "letters = []\n",
        "for i in range(26):\n",
        "    letter = chr(97 + i)\n",
        "    letters.append(letter)"
      ],
      "metadata": {
        "id": "_3UVjFY0fpFt"
      },
      "id": "_3UVjFY0fpFt",
      "execution_count": null,
      "outputs": []
    },
    {
      "cell_type": "code",
      "source": [
        "print(letters)"
      ],
      "metadata": {
        "colab": {
          "base_uri": "https://localhost:8080/"
        },
        "id": "9uqT6ZIjf3sU",
        "outputId": "ae69454f-e2e3-4bc5-af88-38d8c79b650d"
      },
      "id": "9uqT6ZIjf3sU",
      "execution_count": null,
      "outputs": [
        {
          "output_type": "stream",
          "name": "stdout",
          "text": [
            "['a', 'b', 'c', 'd', 'e', 'f', 'g', 'h', 'i', 'j', 'k', 'l', 'm', 'n', 'o', 'p', 'q', 'r', 's', 't', 'u', 'v', 'w', 'x', 'y', 'z']\n"
          ]
        }
      ]
    },
    {
      "cell_type": "code",
      "source": [
        "point_values = [\n",
        "    1, 3, 1, 4, 1, 8,\n",
        "    3, 2, 2, 4, 5, 1,\n",
        "    3, 1, 10, 1, 1, 4,\n",
        "    1, 3, 1, 1, 4, 8,\n",
        "    4, 10\n",
        "]"
      ],
      "metadata": {
        "id": "k_EanPoWgFL0"
      },
      "id": "k_EanPoWgFL0",
      "execution_count": null,
      "outputs": []
    },
    {
      "cell_type": "code",
      "source": [
        "point_values_dict = dict(zip(letters, point_values))\n",
        "point_values_dict"
      ],
      "metadata": {
        "colab": {
          "base_uri": "https://localhost:8080/"
        },
        "id": "acP3Uv7Ie6Az",
        "outputId": "0f879639-8bda-4192-86b9-2d8cb23bc0f8"
      },
      "id": "acP3Uv7Ie6Az",
      "execution_count": null,
      "outputs": [
        {
          "output_type": "execute_result",
          "data": {
            "text/plain": [
              "{'a': 1,\n",
              " 'b': 3,\n",
              " 'c': 1,\n",
              " 'd': 4,\n",
              " 'e': 1,\n",
              " 'f': 8,\n",
              " 'g': 3,\n",
              " 'h': 2,\n",
              " 'i': 2,\n",
              " 'j': 4,\n",
              " 'k': 5,\n",
              " 'l': 1,\n",
              " 'm': 3,\n",
              " 'n': 1,\n",
              " 'o': 10,\n",
              " 'p': 1,\n",
              " 'q': 1,\n",
              " 'r': 4,\n",
              " 's': 1,\n",
              " 't': 3,\n",
              " 'u': 1,\n",
              " 'v': 1,\n",
              " 'w': 4,\n",
              " 'x': 8,\n",
              " 'y': 4,\n",
              " 'z': 10}"
            ]
          },
          "metadata": {},
          "execution_count": 320
        }
      ]
    },
    {
      "cell_type": "code",
      "source": [
        "def scrabble_score(word, scoring=point_values_dict):\n",
        "    total_score = 0\n",
        "    for letter in word.lower():\n",
        "        total_score += scoring[letter]\n",
        "    return total_score"
      ],
      "metadata": {
        "id": "gBpQiPb7XjaG"
      },
      "id": "gBpQiPb7XjaG",
      "execution_count": null,
      "outputs": []
    },
    {
      "cell_type": "code",
      "source": [
        "if __name__ == \"__main__\":\n",
        "    while True:\n",
        "        my_word = input(\"Give a word: \").strip()\n",
        "        score = scrabble_score(my_word)\n",
        "        print(f\"Word {my_word} is worth {score} in Scrabble\\n\")\n",
        "        shall_continue = input(\"Do you want to continue ([y]/n)?: \")\n",
        "        if shall_continue.lower() != \"y\":\n",
        "            break"
      ],
      "metadata": {
        "colab": {
          "base_uri": "https://localhost:8080/"
        },
        "id": "NEWy_L3lgsF1",
        "outputId": "e6ec3e46-e256-468d-e81f-e8a0be114a2c"
      },
      "id": "NEWy_L3lgsF1",
      "execution_count": null,
      "outputs": [
        {
          "name": "stdout",
          "output_type": "stream",
          "text": [
            "Give a word: Time\n",
            "Word Time is worth 9 in Scrabble\n",
            "\n",
            "Do you want to continue ([y]/n)?: y\n",
            "Give a word: sick\n",
            "Word sick is worth 9 in Scrabble\n",
            "\n",
            "Do you want to continue ([y]/n)?: y\n",
            "Give a word: sickness\n",
            "Word sickness is worth 13 in Scrabble\n",
            "\n",
            "Do you want to continue ([y]/n)?: n\n"
          ]
        }
      ]
    },
    {
      "cell_type": "markdown",
      "source": [
        "**<font color='#306998'>TASK </font><font color='#ffd33b'>FOR YOU</font>**\n",
        "\n",
        "Make Scrabble program more useful knowing that:\n",
        "* user has to type in text (check his/her input)\n",
        "* user can type `_` as blank letter with no points for it\n",
        "* there are two blank letters so the user cannot have more than two *_* in a word\n",
        "* (optional) ask which letters should be scored double and evaluate final score"
      ],
      "metadata": {
        "id": "OwBV-gEWhWc8"
      },
      "id": "OwBV-gEWhWc8"
    },
    {
      "cell_type": "markdown",
      "source": [
        "<img src=\"https://drive.google.com/uc?export=view&id=1UO2urRciECzoKE_vHy4RMGfFbkOWOGlW\" alt=\"SDA logo\" align=\"left\" width=\"100px\" hspace=\"10px\" vspace=\"10px\"/>\n",
        "<br>\n",
        "\n",
        "# TASKS"
      ],
      "metadata": {
        "id": "JU9ptR4IX8B_"
      },
      "id": "JU9ptR4IX8B_"
    },
    {
      "cell_type": "markdown",
      "source": [
        "## **<font color='#306998'>TASK </font><font color='#ffd33b'>1</font>**\n",
        "\n",
        "Write a program that will convert the sequence of numbers entered by the user into text, e.g .:\n",
        "\n",
        "112 -> \"one one two\"\n",
        "9973 -> \"nine nine seven three\"\n",
        "\n",
        "Hint: you need the input () function, a dictionary and a loop."
      ],
      "metadata": {
        "id": "6ADqAEOuXmHh"
      },
      "id": "6ADqAEOuXmHh"
    },
    {
      "cell_type": "markdown",
      "source": [
        "## **<font color='#306998'>TASK </font><font color='#ffd33b'>2</font>**\n",
        "\n",
        "Create a function that takes a list of integers and returns the position of the smallest number in it.\n",
        "\n",
        "Do not use built-in functions.\n",
        "\n",
        "*For example, for the list [42, 13, 56, 7, 12, 3, 85] the function should return 5, because the smallest element is found at this index in this list*"
      ],
      "metadata": {
        "id": "WLsFwvluXzFz"
      },
      "id": "WLsFwvluXzFz"
    },
    {
      "cell_type": "markdown",
      "source": [
        "## **<font color='#306998'>TASK </font><font color='#ffd33b'>3</font>**\n",
        "\n",
        "Create a function that checks if the number given by the user is a prime number (divisible only by 1 and itself). The function should take a numeric value and return a logical value of True / False. Also, you should make sure that the input is correct, ie. only natural number can be prime.\n",
        "\n",
        "*For example, for 11 the function should return True, whereas for 12 → False.*"
      ],
      "metadata": {
        "id": "rw46ohCzYBM0"
      },
      "id": "rw46ohCzYBM0"
    },
    {
      "cell_type": "markdown",
      "source": [
        "## **<font color='#306998'>TASK </font><font color='#ffd33b'>4</font>**\n",
        "\n",
        "Create a function that checks if the string given as an argument is a palindrome. (ie. reading it backwards and forwards is exactly the same, e.g. \"kayak\", \"madam\")."
      ],
      "metadata": {
        "id": "fk50QUhQYXll"
      },
      "id": "fk50QUhQYXll"
    },
    {
      "cell_type": "markdown",
      "source": [
        "## **<font color='#306998'>TASK </font><font color='#ffd33b'>5</font>**\n",
        "\n",
        "Create a function that will calculate the number of upper and lower case letters in a string.\n",
        "\n",
        "\n",
        "For example, for \"The quick Brown Fox\" the expected result is\n",
        "> Number of uppercase letters: 3<br>\n",
        "Number of lowercase letters : 13\n",
        "\n",
        "*Hint: use a loop, conditional statement, and appropriate methods for the string.*"
      ],
      "metadata": {
        "id": "iU_2yLIEYhia"
      },
      "id": "iU_2yLIEYhia"
    },
    {
      "cell_type": "markdown",
      "source": [
        "## **<font color='#306998'>TASK </font><font color='#ffd33b'>6</font>**\n",
        "\n",
        "<img src=\"https://drive.google.com/uc?export=view&id=1LOfUeYkfgzoB98Iun8USlLgZuE_H90ar\" alt=\"SDA logo\" width=\"500\" align='right' hspace=\"30px\" vspace=\"70px\" title=\"Scrabble\"/>\n",
        "\n",
        "<br><br>\n",
        "Write a function that takes two strings as an input and checks if they are anagrams.\n",
        "For example:\n",
        "> \"Army\" and \"Mary\" → True<br>\n",
        "\"Sharing\" and \"Sunday\" → False<br>\n",
        "\"Quid est veritas?\" and \"Vir est qui adest\" → True<br>\n",
        "\"Jim Morrison\" and \"Mr. Mojo Risin\" → True<br>\n",
        "\"Tom Marvolo Riddle\" and \"I am Lord Voldemort\" → True"
      ],
      "metadata": {
        "id": "ShYSqneDYmy1"
      },
      "id": "ShYSqneDYmy1"
    },
    {
      "cell_type": "markdown",
      "source": [
        "<img src=\"https://drive.google.com/uc?export=view&id=1UO2urRciECzoKE_vHy4RMGfFbkOWOGlW\" alt=\"SDA logo\" align=\"left\" width=\"100px\" hspace=\"10px\" vspace=\"10px\"/>\n",
        "<br>\n",
        "\n",
        "# Extra(s)\n",
        "\n",
        "If you want to know more on repository structure (modules, packages, and libraries), virtual environments and clean code principles, please familiarize yourself with [Basic Python: Extra(s)](https://colab.research.google.com/drive/1t1QgpL5MTMx2TDoE0PE6QyeWAKtjfu9F#scrollTo=ZCe3WDCTl2Rv)."
      ],
      "metadata": {
        "id": "ZCe3WDCTl2Rv"
      },
      "id": "ZCe3WDCTl2Rv"
    },
    {
      "cell_type": "markdown",
      "source": [
        ":"
      ],
      "metadata": {
        "id": "CvkoVl46ZgyC"
      },
      "id": "CvkoVl46ZgyC"
    }
  ],
  "metadata": {
    "colab": {
      "provenance": [],
      "include_colab_link": true
    },
    "gpuClass": "standard",
    "language_info": {
      "name": "python"
    },
    "kernelspec": {
      "name": "python3",
      "display_name": "Python 3"
    }
  },
  "nbformat": 4,
  "nbformat_minor": 5
}